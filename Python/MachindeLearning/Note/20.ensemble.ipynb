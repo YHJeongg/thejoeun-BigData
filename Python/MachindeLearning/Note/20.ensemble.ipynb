{
 "cells": [
  {
   "cell_type": "code",
   "execution_count": 27,
   "metadata": {},
   "outputs": [],
   "source": [
    "# Warning 생략\n",
    "import warnings\n",
    "warnings.filterwarnings('ignore')\n",
    "# Pandas\n",
    "import pandas as pd\n",
    "# Numpy\n",
    "import numpy as np\n",
    "# ML 저장\n",
    "import joblib\n",
    "# 그래프\n",
    "import matplotlib.pyplot as plt\n",
    "\n",
    "# ML Data 나누기\n",
    "from sklearn.model_selection import train_test_split\n",
    "# Decision Tree\n",
    "from sklearn.tree import DecisionTreeClassifier\n",
    "from sklearn import tree\n",
    "# Random Forest\n",
    "from sklearn.ensemble import RandomForestClassifier\n",
    "# SVM\n",
    "from sklearn import svm\n",
    "from sklearn.svm import SVC\n",
    "# Neural Net\n",
    "from sklearn.neural_network import MLPClassifier\n",
    "# QDA\n",
    "from sklearn.discriminant_analysis import QuadraticDiscriminantAnalysis\n",
    "# Naive Bayes\n",
    "from sklearn.naive_bayes import GaussianNB\n",
    "# AdaBoost\n",
    "from sklearn.ensemble import AdaBoostClassifier\n",
    "# Gaussian Process\n",
    "from sklearn.gaussian_process import GaussianProcessClassifier\n",
    "# KNN\n",
    "from sklearn.neighbors import KNeighborsClassifier\n",
    "\n",
    "from sklearn.model_selection import cross_val_score\n",
    "from sklearn import datasets\n",
    "\n",
    "# Voting\n",
    "from sklearn.ensemble import VotingClassifier\n",
    "\n",
    "# 한글 폰트 문제 해결 \n",
    "# matplotlib은 한글 폰트를 지원하지 않음\n",
    "# os정보\n",
    "import platform\n",
    "\n",
    "# font_manager : 폰트 관리 모듈\n",
    "# rc : 폰트 변경 모듈\n",
    "from matplotlib import font_manager, rc\n",
    "# unicode 설정\n",
    "plt.rcParams['axes.unicode_minus'] = False\n",
    "\n",
    "if platform.system() == 'Darwin':\n",
    "    rc('font', family='AppleGothic') # os가 macos\n",
    "elif platform.system() == 'Windows':\n",
    "    path = 'c:/Windows/Fonts/malgun.ttf' # os가 windows\n",
    "    font_name = font_manager.FontProperties(fname=path).get_name()\n",
    "    rc('font', family=font_name)\n",
    "else:\n",
    "    print(\"Unknown System\")"
   ]
  },
  {
   "attachments": {},
   "cell_type": "markdown",
   "metadata": {},
   "source": [
    "# ensemble\n",
    "- 여러개의 분류 모델을 조합해서 더 나은 성능을 내는 방법"
   ]
  },
  {
   "cell_type": "code",
   "execution_count": 28,
   "metadata": {},
   "outputs": [],
   "source": [
    "# RandomForest : 의사결정나무를 단일 모델 조합해서 예측을 실행하는 모델\n",
    "np.random.seed(5)\n"
   ]
  },
  {
   "cell_type": "code",
   "execution_count": 29,
   "metadata": {},
   "outputs": [],
   "source": [
    "# 손글씨 데이터\n",
    "mnist = datasets.load_digits()\n",
    "features, labels = mnist.data, mnist.target"
   ]
  },
  {
   "cell_type": "code",
   "execution_count": 30,
   "metadata": {},
   "outputs": [
    {
     "data": {
      "text/plain": [
       "array([[ 0.,  0.,  5., ...,  0.,  0.,  0.],\n",
       "       [ 0.,  0.,  0., ..., 10.,  0.,  0.],\n",
       "       [ 0.,  0.,  0., ..., 16.,  9.,  0.],\n",
       "       ...,\n",
       "       [ 0.,  0.,  1., ...,  6.,  0.,  0.],\n",
       "       [ 0.,  0.,  2., ..., 12.,  0.,  0.],\n",
       "       [ 0.,  0., 10., ..., 12.,  1.,  0.]])"
      ]
     },
     "execution_count": 30,
     "metadata": {},
     "output_type": "execute_result"
    }
   ],
   "source": [
    "mnist.data"
   ]
  },
  {
   "cell_type": "code",
   "execution_count": 31,
   "metadata": {},
   "outputs": [
    {
     "data": {
      "text/plain": [
       "[0.8280229671011794,\n",
       " 0.8235630043451273,\n",
       " 0.8224674115456239,\n",
       " 0.8235692116697703,\n",
       " 0.8341464928615766,\n",
       " 0.8185692116697704,\n",
       " 0.8241247672253259,\n",
       " 0.8180136561142148,\n",
       " 0.8235630043451272,\n",
       " 0.8258038485412786]"
      ]
     },
     "execution_count": 31,
     "metadata": {},
     "output_type": "execute_result"
    }
   ],
   "source": [
    "# 의사결정나무를 이용한 10번의 교차 검증 10번실시 => 정확도를 보기 위해서\n",
    "cv_scores = []\n",
    "cv = tree.DecisionTreeClassifier()\n",
    "\n",
    "for i in range(10):\n",
    "    score = cross_val_score(cv, features, labels, cv=10, scoring='accuracy')\n",
    "    cv_scores.append(score.mean())\n",
    "\n",
    "cv_scores"
   ]
  },
  {
   "cell_type": "code",
   "execution_count": 32,
   "metadata": {},
   "outputs": [
    {
     "data": {
      "text/plain": [
       "[0.9526939788950962,\n",
       " 0.9487957790192427,\n",
       " 0.9510211049037863,\n",
       " 0.9549286157666046,\n",
       " 0.9471322160148976,\n",
       " 0.9487988826815641,\n",
       " 0.952122905027933,\n",
       " 0.9454531346989447,\n",
       " 0.9460180012414648,\n",
       " 0.9471322160148976]"
      ]
     },
     "execution_count": 32,
     "metadata": {},
     "output_type": "execute_result"
    }
   ],
   "source": [
    "# RandomForest를 이용한 10번의 교차 검증 10번실시 => 정확도를 보기 위해서\n",
    "rf_scores = []\n",
    "rf = RandomForestClassifier()\n",
    "\n",
    "for i in range(10):\n",
    "    score = cross_val_score(rf, features, labels, cv=10, scoring='accuracy')\n",
    "    rf_scores.append(score.mean())\n",
    "\n",
    "rf_scores"
   ]
  },
  {
   "cell_type": "code",
   "execution_count": 33,
   "metadata": {},
   "outputs": [],
   "source": [
    "def cross_validation(classifier, features, labels):\n",
    "    cv_scores = []\n",
    "    for i in range(10):\n",
    "        score = cross_val_score(classifier, features, labels, cv=10, scoring='accuracy')\n",
    "        cv_scores.append(score.mean())\n",
    "    return cv_scores"
   ]
  },
  {
   "cell_type": "code",
   "execution_count": 34,
   "metadata": {},
   "outputs": [
    {
     "data": {
      "text/plain": [
       "[0.8330509000620733,\n",
       " 0.8224736188702669,\n",
       " 0.8268963376784605,\n",
       " 0.8246710117939168,\n",
       " 0.825788330229671,\n",
       " 0.821880819366853,\n",
       " 0.833584729981378,\n",
       " 0.8280167597765363,\n",
       " 0.826340782122905,\n",
       " 0.8235816263190564]"
      ]
     },
     "execution_count": 34,
     "metadata": {},
     "output_type": "execute_result"
    }
   ],
   "source": [
    "# 의사결정나무\n",
    "dt_cv_scores = cross_validation(tree.DecisionTreeClassifier(), features, labels)\n",
    "dt_cv_scores"
   ]
  },
  {
   "cell_type": "code",
   "execution_count": 35,
   "metadata": {},
   "outputs": [
    {
     "data": {
      "text/plain": [
       "[0.9504655493482307,\n",
       " 0.9410117939168219,\n",
       " 0.9510211049037863,\n",
       " 0.9549162011173185,\n",
       " 0.9504469273743016,\n",
       " 0.9449130974549969,\n",
       " 0.9510117939168218,\n",
       " 0.9493513345747981,\n",
       " 0.9488081936685286,\n",
       " 0.9471198013656114]"
      ]
     },
     "execution_count": 35,
     "metadata": {},
     "output_type": "execute_result"
    }
   ],
   "source": [
    "# RandomForest\n",
    "rf_cv_scores = cross_validation(RandomForestClassifier(), features, labels)\n",
    "rf_cv_scores"
   ]
  },
  {
   "attachments": {},
   "cell_type": "markdown",
   "metadata": {},
   "source": [
    "### RandomForest와 의사결정나무의 정확도의 시각화"
   ]
  },
  {
   "cell_type": "code",
   "execution_count": 36,
   "metadata": {},
   "outputs": [
    {
     "data": {
      "image/png": "[encoded data removed]",
      "text/plain": [
       "<Figure size 640x480 with 1 Axes>"
      ]
     },
     "metadata": {},
     "output_type": "display_data"
    }
   ],
   "source": [
    "cv_list = {'random forest' : rf_cv_scores, 'decision tree': dt_cv_scores}\n",
    "df = pd.DataFrame(cv_list)\n",
    "df.plot()\n",
    "plt.show()"
   ]
  },
  {
   "attachments": {},
   "cell_type": "markdown",
   "metadata": {},
   "source": [
    "### 보팅(Voting) 앙상블\n",
    ": 단일 모델을 앙상블하여 더 나은 예측을 하는 모델 생성"
   ]
  },
  {
   "cell_type": "code",
   "execution_count": 37,
   "metadata": {},
   "outputs": [],
   "source": [
    "x_train, x_test, y_train, y_test = train_test_split(features, labels, test_size=0.2)"
   ]
  },
  {
   "cell_type": "code",
   "execution_count": 38,
   "metadata": {},
   "outputs": [
    {
     "data": {
      "text/plain": [
       "0.8638888888888889"
      ]
     },
     "execution_count": 38,
     "metadata": {},
     "output_type": "execute_result"
    }
   ],
   "source": [
    "# 1) 단일 모델 정확도 측정\n",
    "# 의사결정나무\n",
    "dtree = tree.DecisionTreeClassifier()\n",
    "dtree.fit(x_train, y_train)\n",
    "dtree.score(x_test, y_test)"
   ]
  },
  {
   "cell_type": "code",
   "execution_count": 39,
   "metadata": {},
   "outputs": [
    {
     "data": {
      "text/plain": [
       "0.9805555555555555"
      ]
     },
     "execution_count": 39,
     "metadata": {},
     "output_type": "execute_result"
    }
   ],
   "source": [
    "# KNN\n",
    "knn = KNeighborsClassifier().fit(x_train, y_train)\n",
    "knn.score(x_test, y_test)"
   ]
  },
  {
   "cell_type": "code",
   "execution_count": 40,
   "metadata": {},
   "outputs": [
    {
     "data": {
      "text/plain": [
       "0.9861111111111112"
      ]
     },
     "execution_count": 40,
     "metadata": {},
     "output_type": "execute_result"
    }
   ],
   "source": [
    "# SVM\n",
    "svm = SVC(probability=True).fit(x_train, y_train)\n",
    "svm.score(x_test, y_test)"
   ]
  },
  {
   "attachments": {},
   "cell_type": "markdown",
   "metadata": {},
   "source": [
    "2) 하드보팅\n",
    ": 각각의 분류기의 예측값들을 모아, 가장 많은 득표를 받은 예측값으로 최종 결론을 내는 방식"
   ]
  },
  {
   "cell_type": "code",
   "execution_count": 41,
   "metadata": {},
   "outputs": [
    {
     "data": {
      "text/plain": [
       "0.9861111111111112"
      ]
     },
     "execution_count": 41,
     "metadata": {},
     "output_type": "execute_result"
    }
   ],
   "source": [
    "voting_clf = VotingClassifier(\n",
    "    estimators=[('decision_tree', dtree), ('KNN', knn), ('SVM', svm)],\n",
    "    weights=[1,1,1],\n",
    "    voting='hard',\n",
    ").fit(x_train, y_train)\n",
    "\n",
    "voting_clf.score(x_test, y_test)"
   ]
  },
  {
   "attachments": {},
   "cell_type": "markdown",
   "metadata": {},
   "source": [
    "3) 소프트 보팅\n",
    ": 각각의 분류모델을 활용하여 모든 분류값들의 확률들을 더해서 가장 높은 점수를 획득한 분류값으로 최종 결론을 내는 방식"
   ]
  },
  {
   "cell_type": "code",
   "execution_count": 42,
   "metadata": {},
   "outputs": [
    {
     "data": {
      "text/plain": [
       "0.9833333333333333"
      ]
     },
     "execution_count": 42,
     "metadata": {},
     "output_type": "execute_result"
    }
   ],
   "source": [
    "voting_clf = VotingClassifier(\n",
    "    estimators=[('decision_tree', dtree), ('KNN', knn), ('SVM', svm)],\n",
    "    weights=[1,1,1],\n",
    "    voting='soft',\n",
    ").fit(x_train, y_train)\n",
    "\n",
    "voting_clf.score(x_test, y_test)"
   ]
  },
  {
   "cell_type": "code",
   "execution_count": null,
   "metadata": {},
   "outputs": [],
   "source": []
  }
 ],
 "metadata": {
  "kernelspec": {
   "display_name": "tensorflow",
   "language": "python",
   "name": "python3"
  },
  "language_info": {
   "codemirror_mode": {
    "name": "ipython",
    "version": 3
   },
   "file_extension": ".py",
   "mimetype": "text/x-python",
   "name": "python",
   "nbconvert_exporter": "python",
   "pygments_lexer": "ipython3",
   "version": "3.9.13 | packaged by conda-forge | (main, May 27 2022, 17:01:00) \n[Clang 13.0.1 ]"
  },
  "orig_nbformat": 4,
  "vscode": {
   "interpreter": {
    "hash": "b5bceb7e8a84ff8847f58b8686ae86845aacdffaae9b7539e602163ce2574e80"
   }
  }
 },
 "nbformat": 4,
 "nbformat_minor": 2
}
