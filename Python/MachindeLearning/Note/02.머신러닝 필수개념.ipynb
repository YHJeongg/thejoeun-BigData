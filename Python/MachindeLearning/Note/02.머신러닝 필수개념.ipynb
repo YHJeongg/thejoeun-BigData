{
 "cells": [
  {
   "attachments": {},
   "cell_type": "markdown",
   "metadata": {},
   "source": [
    "# 지도학습과 비지도 학습\n",
    "학습 : 데이터를 특별한 알고리즘에 적용해 ML모델을 정의된 문제에 최적화(가장 근접한 답을 내놓는것) 시키는 과정 "
   ]
  },
  {
   "attachments": {},
   "cell_type": "markdown",
   "metadata": {},
   "source": [
    "### 지도학습(SL, Supervised Learning)\n",
    "- 비지도학습을 제외하곤 모두 지도학습\n",
    "- 정답을 알려주면서 진행하는 학습\n",
    "- 데이터의 원래값 : 실제값, 정답-레이블(label), 타겟(Target)-클래스, y값\n",
    "- ML 모델을 통해 예측한 값 : 예측값, 분류값, y^(hat)\n",
    "- 예) 분류, 회귀"
   ]
  },
  {
   "attachments": {},
   "cell_type": "markdown",
   "metadata": {},
   "source": [
    "### 비지도학습(UL, Unsupervised Learning)\n",
    "- 정답(레이블) 없이 진행하는 학습\n",
    "- 데이터 자체에서 패턴을 찾아내야 할때 사용\n",
    "- 예) 군집화, 차원축소"
   ]
  },
  {
   "attachments": {},
   "cell_type": "markdown",
   "metadata": {},
   "source": [
    "### 분류와 회귀\n",
    "- 차이점은 분류는 범주형 데이터로 예측, 회귀는 연속형 데이터로 예측"
   ]
  },
  {
   "attachments": {},
   "cell_type": "markdown",
   "metadata": {},
   "source": [
    "##### 분류(Classification)\n",
    "- 데이터가 입력 되었을때 지도학습을 통해 학습된 Label중 하나 또는 여러개의 Label로 예측\n",
    "- 이진분류(binary classification)\n",
    ": 둘 중 하나의 값으로 분류하는 경우 (sigmoid함수)\n",
    "- 다중분류(multi classification)\n",
    ": 여러 개의 분류값중 하나로 예측 (softmax 함수)"
   ]
  },
  {
   "attachments": {},
   "cell_type": "markdown",
   "metadata": {},
   "source": [
    "## 과대적합(overfitting) vs 과소적합(underfitting)\n",
    "- 과대적합 : 필요 이상의 특징으로 학습하는 경우 (Training 예측력 > Test 예측력)\n",
    "- 과소적합 : 데이터에서 충분히 특징을 찾아 내지 못하고 ML모델을 학습할 경우 (Training 예측력 < Test 예측력)"
   ]
  },
  {
   "attachments": {},
   "cell_type": "markdown",
   "metadata": {},
   "source": [
    "#### 과소적합\n",
    "- 보통 테스트 데이터뿐만 아니라 학습 데이터에 대해서도 정확도가 낮게 나올경우, 과소적합 모델 가능성이 높음\n",
    "- 과소적합은 드문 일이고, 절대 사용하면 안된다. 차라리 과대적합에서 맞춰가는게 낫다."
   ]
  },
  {
   "attachments": {},
   "cell_type": "markdown",
   "metadata": {},
   "source": [
    "#### 과대적합\n",
    "- 학습 데이터 외의 데이터에서 정확도가 낮게 나오는 모델 (배운것 잘하고 실전에 약한 경우)\n",
    "- 데이터 특징들의 수치값을 정규화 함으로써 특정 특징에 의한 편향 (bias)을 줄이는 것이 과대적합을 피하는 좋은 방법\n",
    "- 딥러닝의 경우 조기종료(early stopping), 드롭아웃(drop out)을 사용해 과대적합을 피할 수 있다."
   ]
  },
  {
   "attachments": {},
   "cell_type": "markdown",
   "metadata": {},
   "source": [
    "---\n",
    "### 혼동행렬(confusion matrix)\n",
    "- 모델의 성능을 평가할때 사용하는 지표(예측값 - 실제값으로 정오표 테이블)\n",
    "- 실제값과 예측값을 비교하여 실제값에 예측값이 얼마나 일치하는지 파악\n",
    "- 모델의 성능은 혼동행렬에 기반한 단 하나의 수치로 표현 가능"
   ]
  },
  {
   "attachments": {},
   "cell_type": "markdown",
   "metadata": {},
   "source": [
    "### 머신러닝 모델의 성능 평가\n",
    "- TP(True Positive) : 맞는것을 올바르게 예측한것\n",
    "- TN(True Negative) : 틀린것을 올바르게 예측한것\n",
    "- FP(False Positive) : 틀린것을 맞다고 잘못 예측한것\n",
    "- FN(False Negative) : 맞는것을 틀렸다고 잘못 예측한것"
   ]
  },
  {
   "attachments": {},
   "cell_type": "markdown",
   "metadata": {},
   "source": [
    "### 정확도 (Accuracy)\n",
    "- 혼동행렬 상 TP를 전체 셀로 나눈 값(TP/All)"
   ]
  },
  {
   "cell_type": "code",
   "execution_count": 3,
   "metadata": {},
   "outputs": [
    {
     "name": "stdout",
     "output_type": "stream",
     "text": [
      "정확도 : 78.75%\n"
     ]
    }
   ],
   "source": [
    "print(f'정확도 : {(9 + 15 + 24 + 15) / 80 * 100}%')"
   ]
  },
  {
   "attachments": {},
   "cell_type": "markdown",
   "metadata": {},
   "source": [
    "### 정밀도(Precision)\n",
    "- 각 모델의 예측값이 얼마나 정확하게 예측되었는가를 나타내는 지표\n",
    "- TP/(TP+FP)"
   ]
  },
  {
   "cell_type": "code",
   "execution_count": 4,
   "metadata": {},
   "outputs": [
    {
     "name": "stdout",
     "output_type": "stream",
     "text": [
      "A모델 암환자 정밀도 : 0.23076923076923078%\n",
      "B모델 암환자 정밀도 : 0.047619047619047616%\n"
     ]
    }
   ],
   "source": [
    "print(f'A모델 암환자 정밀도 : {9 / (9+30)}%')\n",
    "print(f'B모델 암환자 정밀도 : {1 / (1+20)}%')"
   ]
  },
  {
   "attachments": {},
   "cell_type": "markdown",
   "metadata": {},
   "source": [
    "### 재현율(Recall)\n",
    "- 실제값 중에서 모델이 검출한 실제값의 비율을 나타내는 지표\n",
    "- 실제 암환자 중에서 암환자로 예측한 값 TP/(TP+FN)"
   ]
  },
  {
   "cell_type": "code",
   "execution_count": 5,
   "metadata": {},
   "outputs": [
    {
     "name": "stdout",
     "output_type": "stream",
     "text": [
      "A모델 암환자 재현율 : 0.9%\n",
      "B모델 암환자 재현율 : 0.1%\n"
     ]
    }
   ],
   "source": [
    "print(f'A모델 암환자 재현율 : {9 / (9+1)}%')\n",
    "print(f'B모델 암환자 재현율 : {1 / (1+9)}%')"
   ]
  },
  {
   "attachments": {},
   "cell_type": "markdown",
   "metadata": {},
   "source": [
    "### F1 점수 (F1 Score)\n",
    "F1 Score = 2 * 재현율 * 정밀도 / (재현율 + 정밀도)"
   ]
  },
  {
   "cell_type": "code",
   "execution_count": 7,
   "metadata": {},
   "outputs": [
    {
     "name": "stdout",
     "output_type": "stream",
     "text": [
      "A모델 F1 Score : 0.3673469387755102%\n",
      "B모델 F1 Score : 0.06451612903225806%\n"
     ]
    }
   ],
   "source": [
    "print(f'A모델 F1 Score : {2 * (9 / (9+1)) * (9 / (9+30)) / ((9 / (9+1)) + (9 / (9+30)))}%')\n",
    "print(f'B모델 F1 Score : {2 * (1 / (1+9)) * (1 / (1+20)) / ((1 / (1+9)) + (1 / (1+20)))}%')"
   ]
  },
  {
   "attachments": {},
   "cell_type": "markdown",
   "metadata": {},
   "source": [
    "---\n",
    "### K-fold 교차 검증 (K-fold cross validation)"
   ]
  },
  {
   "cell_type": "code",
   "execution_count": null,
   "metadata": {},
   "outputs": [],
   "source": []
  }
 ],
 "metadata": {
  "kernelspec": {
   "display_name": "tensorflow",
   "language": "python",
   "name": "python3"
  },
  "language_info": {
   "codemirror_mode": {
    "name": "ipython",
    "version": 3
   },
   "file_extension": ".py",
   "mimetype": "text/x-python",
   "name": "python",
   "nbconvert_exporter": "python",
   "pygments_lexer": "ipython3",
   "version": "3.9.13"
  },
  "orig_nbformat": 4,
  "vscode": {
   "interpreter": {
    "hash": "b5bceb7e8a84ff8847f58b8686ae86845aacdffaae9b7539e602163ce2574e80"
   }
  }
 },
 "nbformat": 4,
 "nbformat_minor": 2
}
