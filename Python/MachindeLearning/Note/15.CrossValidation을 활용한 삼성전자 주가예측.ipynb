{
 "cells": [
  {
   "cell_type": "code",
   "execution_count": 20,
   "metadata": {},
   "outputs": [],
   "source": [
    "import warnings\n",
    "warnings.filterwarnings('ignore')"
   ]
  },
  {
   "cell_type": "code",
   "execution_count": 21,
   "metadata": {},
   "outputs": [],
   "source": [
    "import pandas as pd"
   ]
  },
  {
   "cell_type": "code",
   "execution_count": 22,
   "metadata": {},
   "outputs": [
    {
     "data": {
      "text/html": [
       "<div>\n",
       "<style scoped>\n",
       "    .dataframe tbody tr th:only-of-type {\n",
       "        vertical-align: middle;\n",
       "    }\n",
       "\n",
       "    .dataframe tbody tr th {\n",
       "        vertical-align: top;\n",
       "    }\n",
       "\n",
       "    .dataframe thead th {\n",
       "        text-align: right;\n",
       "    }\n",
       "</style>\n",
       "<table border=\"1\" class=\"dataframe\">\n",
       "  <thead>\n",
       "    <tr style=\"text-align: right;\">\n",
       "      <th></th>\n",
       "      <th>일자</th>\n",
       "      <th>시가</th>\n",
       "      <th>고가</th>\n",
       "      <th>저가</th>\n",
       "      <th>종가</th>\n",
       "      <th>거래량</th>\n",
       "    </tr>\n",
       "  </thead>\n",
       "  <tbody>\n",
       "    <tr>\n",
       "      <th>0</th>\n",
       "      <td>20200107</td>\n",
       "      <td>55700</td>\n",
       "      <td>56400</td>\n",
       "      <td>55600</td>\n",
       "      <td>55800</td>\n",
       "      <td>9893846</td>\n",
       "    </tr>\n",
       "    <tr>\n",
       "      <th>1</th>\n",
       "      <td>20200106</td>\n",
       "      <td>54900</td>\n",
       "      <td>55600</td>\n",
       "      <td>54600</td>\n",
       "      <td>55500</td>\n",
       "      <td>10278951</td>\n",
       "    </tr>\n",
       "    <tr>\n",
       "      <th>2</th>\n",
       "      <td>20200103</td>\n",
       "      <td>56000</td>\n",
       "      <td>56600</td>\n",
       "      <td>54900</td>\n",
       "      <td>55500</td>\n",
       "      <td>15422255</td>\n",
       "    </tr>\n",
       "    <tr>\n",
       "      <th>3</th>\n",
       "      <td>20200102</td>\n",
       "      <td>55500</td>\n",
       "      <td>56000</td>\n",
       "      <td>55000</td>\n",
       "      <td>55200</td>\n",
       "      <td>12993228</td>\n",
       "    </tr>\n",
       "    <tr>\n",
       "      <th>4</th>\n",
       "      <td>20191230</td>\n",
       "      <td>56200</td>\n",
       "      <td>56600</td>\n",
       "      <td>55700</td>\n",
       "      <td>55800</td>\n",
       "      <td>8356767</td>\n",
       "    </tr>\n",
       "  </tbody>\n",
       "</table>\n",
       "</div>"
      ],
      "text/plain": [
       "         일자     시가     고가     저가     종가       거래량\n",
       "0  20200107  55700  56400  55600  55800   9893846\n",
       "1  20200106  54900  55600  54600  55500  10278951\n",
       "2  20200103  56000  56600  54900  55500  15422255\n",
       "3  20200102  55500  56000  55000  55200  12993228\n",
       "4  20191230  56200  56600  55700  55800   8356767"
      ]
     },
     "execution_count": 22,
     "metadata": {},
     "output_type": "execute_result"
    }
   ],
   "source": [
    "data = pd.read_csv('../Data/삼성전자-주가.csv')\n",
    "data.head()"
   ]
  },
  {
   "cell_type": "code",
   "execution_count": 23,
   "metadata": {},
   "outputs": [
    {
     "data": {
      "text/html": [
       "<div>\n",
       "<style scoped>\n",
       "    .dataframe tbody tr th:only-of-type {\n",
       "        vertical-align: middle;\n",
       "    }\n",
       "\n",
       "    .dataframe tbody tr th {\n",
       "        vertical-align: top;\n",
       "    }\n",
       "\n",
       "    .dataframe thead th {\n",
       "        text-align: right;\n",
       "    }\n",
       "</style>\n",
       "<table border=\"1\" class=\"dataframe\">\n",
       "  <thead>\n",
       "    <tr style=\"text-align: right;\">\n",
       "      <th></th>\n",
       "      <th>일자</th>\n",
       "      <th>시가</th>\n",
       "      <th>고가</th>\n",
       "      <th>저가</th>\n",
       "      <th>종가</th>\n",
       "      <th>거래량</th>\n",
       "    </tr>\n",
       "  </thead>\n",
       "  <tbody>\n",
       "    <tr>\n",
       "      <th>count</th>\n",
       "      <td>9.288000e+03</td>\n",
       "      <td>9288.000000</td>\n",
       "      <td>9288.000000</td>\n",
       "      <td>9288.000000</td>\n",
       "      <td>9288.000000</td>\n",
       "      <td>9.288000e+03</td>\n",
       "    </tr>\n",
       "    <tr>\n",
       "      <th>mean</th>\n",
       "      <td>2.001347e+07</td>\n",
       "      <td>11108.556417</td>\n",
       "      <td>11228.754522</td>\n",
       "      <td>10986.106481</td>\n",
       "      <td>11108.235465</td>\n",
       "      <td>1.645823e+07</td>\n",
       "    </tr>\n",
       "    <tr>\n",
       "      <th>std</th>\n",
       "      <td>1.015376e+05</td>\n",
       "      <td>13792.646300</td>\n",
       "      <td>13920.105135</td>\n",
       "      <td>13658.809496</td>\n",
       "      <td>13790.922497</td>\n",
       "      <td>1.701535e+07</td>\n",
       "    </tr>\n",
       "    <tr>\n",
       "      <th>min</th>\n",
       "      <td>1.985010e+07</td>\n",
       "      <td>116.000000</td>\n",
       "      <td>116.000000</td>\n",
       "      <td>115.000000</td>\n",
       "      <td>116.000000</td>\n",
       "      <td>0.000000e+00</td>\n",
       "    </tr>\n",
       "    <tr>\n",
       "      <th>25%</th>\n",
       "      <td>1.992121e+07</td>\n",
       "      <td>624.000000</td>\n",
       "      <td>632.000000</td>\n",
       "      <td>620.000000</td>\n",
       "      <td>623.000000</td>\n",
       "      <td>3.833986e+06</td>\n",
       "    </tr>\n",
       "    <tr>\n",
       "      <th>50%</th>\n",
       "      <td>2.001032e+07</td>\n",
       "      <td>5045.000000</td>\n",
       "      <td>5190.000000</td>\n",
       "      <td>4955.000000</td>\n",
       "      <td>5075.000000</td>\n",
       "      <td>1.199608e+07</td>\n",
       "    </tr>\n",
       "    <tr>\n",
       "      <th>75%</th>\n",
       "      <td>2.010080e+07</td>\n",
       "      <td>15920.000000</td>\n",
       "      <td>16050.000000</td>\n",
       "      <td>15740.000000</td>\n",
       "      <td>15920.000000</td>\n",
       "      <td>2.284080e+07</td>\n",
       "    </tr>\n",
       "    <tr>\n",
       "      <th>max</th>\n",
       "      <td>2.020011e+07</td>\n",
       "      <td>57500.000000</td>\n",
       "      <td>57520.000000</td>\n",
       "      <td>56760.000000</td>\n",
       "      <td>57220.000000</td>\n",
       "      <td>3.266220e+08</td>\n",
       "    </tr>\n",
       "  </tbody>\n",
       "</table>\n",
       "</div>"
      ],
      "text/plain": [
       "                 일자            시가            고가            저가            종가  \\\n",
       "count  9.288000e+03   9288.000000   9288.000000   9288.000000   9288.000000   \n",
       "mean   2.001347e+07  11108.556417  11228.754522  10986.106481  11108.235465   \n",
       "std    1.015376e+05  13792.646300  13920.105135  13658.809496  13790.922497   \n",
       "min    1.985010e+07    116.000000    116.000000    115.000000    116.000000   \n",
       "25%    1.992121e+07    624.000000    632.000000    620.000000    623.000000   \n",
       "50%    2.001032e+07   5045.000000   5190.000000   4955.000000   5075.000000   \n",
       "75%    2.010080e+07  15920.000000  16050.000000  15740.000000  15920.000000   \n",
       "max    2.020011e+07  57500.000000  57520.000000  56760.000000  57220.000000   \n",
       "\n",
       "                거래량  \n",
       "count  9.288000e+03  \n",
       "mean   1.645823e+07  \n",
       "std    1.701535e+07  \n",
       "min    0.000000e+00  \n",
       "25%    3.833986e+06  \n",
       "50%    1.199608e+07  \n",
       "75%    2.284080e+07  \n",
       "max    3.266220e+08  "
      ]
     },
     "execution_count": 23,
     "metadata": {},
     "output_type": "execute_result"
    }
   ],
   "source": [
    "data.describe()"
   ]
  },
  {
   "attachments": {},
   "cell_type": "markdown",
   "metadata": {},
   "source": [
    "---\n",
    "## 전처리"
   ]
  },
  {
   "cell_type": "code",
   "execution_count": 24,
   "metadata": {},
   "outputs": [
    {
     "data": {
      "text/html": [
       "<div>\n",
       "<style scoped>\n",
       "    .dataframe tbody tr th:only-of-type {\n",
       "        vertical-align: middle;\n",
       "    }\n",
       "\n",
       "    .dataframe tbody tr th {\n",
       "        vertical-align: top;\n",
       "    }\n",
       "\n",
       "    .dataframe thead th {\n",
       "        text-align: right;\n",
       "    }\n",
       "</style>\n",
       "<table border=\"1\" class=\"dataframe\">\n",
       "  <thead>\n",
       "    <tr style=\"text-align: right;\">\n",
       "      <th></th>\n",
       "      <th>일자</th>\n",
       "      <th>시가</th>\n",
       "      <th>고가</th>\n",
       "      <th>저가</th>\n",
       "      <th>종가</th>\n",
       "      <th>거래량</th>\n",
       "    </tr>\n",
       "  </thead>\n",
       "  <tbody>\n",
       "    <tr>\n",
       "      <th>0</th>\n",
       "      <td>2020-01-07</td>\n",
       "      <td>55700</td>\n",
       "      <td>56400</td>\n",
       "      <td>55600</td>\n",
       "      <td>55800</td>\n",
       "      <td>9893846</td>\n",
       "    </tr>\n",
       "    <tr>\n",
       "      <th>1</th>\n",
       "      <td>2020-01-06</td>\n",
       "      <td>54900</td>\n",
       "      <td>55600</td>\n",
       "      <td>54600</td>\n",
       "      <td>55500</td>\n",
       "      <td>10278951</td>\n",
       "    </tr>\n",
       "    <tr>\n",
       "      <th>2</th>\n",
       "      <td>2020-01-03</td>\n",
       "      <td>56000</td>\n",
       "      <td>56600</td>\n",
       "      <td>54900</td>\n",
       "      <td>55500</td>\n",
       "      <td>15422255</td>\n",
       "    </tr>\n",
       "    <tr>\n",
       "      <th>3</th>\n",
       "      <td>2020-01-02</td>\n",
       "      <td>55500</td>\n",
       "      <td>56000</td>\n",
       "      <td>55000</td>\n",
       "      <td>55200</td>\n",
       "      <td>12993228</td>\n",
       "    </tr>\n",
       "    <tr>\n",
       "      <th>4</th>\n",
       "      <td>2019-12-30</td>\n",
       "      <td>56200</td>\n",
       "      <td>56600</td>\n",
       "      <td>55700</td>\n",
       "      <td>55800</td>\n",
       "      <td>8356767</td>\n",
       "    </tr>\n",
       "    <tr>\n",
       "      <th>...</th>\n",
       "      <td>...</td>\n",
       "      <td>...</td>\n",
       "      <td>...</td>\n",
       "      <td>...</td>\n",
       "      <td>...</td>\n",
       "      <td>...</td>\n",
       "    </tr>\n",
       "    <tr>\n",
       "      <th>9283</th>\n",
       "      <td>1985-01-09</td>\n",
       "      <td>126</td>\n",
       "      <td>126</td>\n",
       "      <td>122</td>\n",
       "      <td>123</td>\n",
       "      <td>324836</td>\n",
       "    </tr>\n",
       "    <tr>\n",
       "      <th>9284</th>\n",
       "      <td>1985-01-08</td>\n",
       "      <td>129</td>\n",
       "      <td>129</td>\n",
       "      <td>127</td>\n",
       "      <td>127</td>\n",
       "      <td>845098</td>\n",
       "    </tr>\n",
       "    <tr>\n",
       "      <th>9285</th>\n",
       "      <td>1985-01-07</td>\n",
       "      <td>129</td>\n",
       "      <td>130</td>\n",
       "      <td>128</td>\n",
       "      <td>129</td>\n",
       "      <td>771895</td>\n",
       "    </tr>\n",
       "    <tr>\n",
       "      <th>9286</th>\n",
       "      <td>1985-01-05</td>\n",
       "      <td>129</td>\n",
       "      <td>129</td>\n",
       "      <td>128</td>\n",
       "      <td>128</td>\n",
       "      <td>108496</td>\n",
       "    </tr>\n",
       "    <tr>\n",
       "      <th>9287</th>\n",
       "      <td>1985-01-04</td>\n",
       "      <td>130</td>\n",
       "      <td>130</td>\n",
       "      <td>129</td>\n",
       "      <td>129</td>\n",
       "      <td>111764</td>\n",
       "    </tr>\n",
       "  </tbody>\n",
       "</table>\n",
       "<p>9288 rows × 6 columns</p>\n",
       "</div>"
      ],
      "text/plain": [
       "             일자     시가     고가     저가     종가       거래량\n",
       "0    2020-01-07  55700  56400  55600  55800   9893846\n",
       "1    2020-01-06  54900  55600  54600  55500  10278951\n",
       "2    2020-01-03  56000  56600  54900  55500  15422255\n",
       "3    2020-01-02  55500  56000  55000  55200  12993228\n",
       "4    2019-12-30  56200  56600  55700  55800   8356767\n",
       "...         ...    ...    ...    ...    ...       ...\n",
       "9283 1985-01-09    126    126    122    123    324836\n",
       "9284 1985-01-08    129    129    127    127    845098\n",
       "9285 1985-01-07    129    130    128    129    771895\n",
       "9286 1985-01-05    129    129    128    128    108496\n",
       "9287 1985-01-04    130    130    129    129    111764\n",
       "\n",
       "[9288 rows x 6 columns]"
      ]
     },
     "execution_count": 24,
     "metadata": {},
     "output_type": "execute_result"
    }
   ],
   "source": [
    "# 일자 컬럼을 날짜형으로 변환\n",
    "data.일자 = pd.to_datetime(data.일자, format='%Y%m%d')\n",
    "data"
   ]
  },
  {
   "cell_type": "code",
   "execution_count": 25,
   "metadata": {},
   "outputs": [
    {
     "data": {
      "text/html": [
       "<div>\n",
       "<style scoped>\n",
       "    .dataframe tbody tr th:only-of-type {\n",
       "        vertical-align: middle;\n",
       "    }\n",
       "\n",
       "    .dataframe tbody tr th {\n",
       "        vertical-align: top;\n",
       "    }\n",
       "\n",
       "    .dataframe thead th {\n",
       "        text-align: right;\n",
       "    }\n",
       "</style>\n",
       "<table border=\"1\" class=\"dataframe\">\n",
       "  <thead>\n",
       "    <tr style=\"text-align: right;\">\n",
       "      <th></th>\n",
       "      <th>일자</th>\n",
       "      <th>시가</th>\n",
       "      <th>고가</th>\n",
       "      <th>저가</th>\n",
       "      <th>종가</th>\n",
       "      <th>거래량</th>\n",
       "      <th>연도</th>\n",
       "      <th>월</th>\n",
       "      <th>일</th>\n",
       "    </tr>\n",
       "  </thead>\n",
       "  <tbody>\n",
       "    <tr>\n",
       "      <th>0</th>\n",
       "      <td>2020-01-07</td>\n",
       "      <td>55700</td>\n",
       "      <td>56400</td>\n",
       "      <td>55600</td>\n",
       "      <td>55800</td>\n",
       "      <td>9893846</td>\n",
       "      <td>2020</td>\n",
       "      <td>1</td>\n",
       "      <td>7</td>\n",
       "    </tr>\n",
       "    <tr>\n",
       "      <th>1</th>\n",
       "      <td>2020-01-06</td>\n",
       "      <td>54900</td>\n",
       "      <td>55600</td>\n",
       "      <td>54600</td>\n",
       "      <td>55500</td>\n",
       "      <td>10278951</td>\n",
       "      <td>2020</td>\n",
       "      <td>1</td>\n",
       "      <td>6</td>\n",
       "    </tr>\n",
       "    <tr>\n",
       "      <th>2</th>\n",
       "      <td>2020-01-03</td>\n",
       "      <td>56000</td>\n",
       "      <td>56600</td>\n",
       "      <td>54900</td>\n",
       "      <td>55500</td>\n",
       "      <td>15422255</td>\n",
       "      <td>2020</td>\n",
       "      <td>1</td>\n",
       "      <td>3</td>\n",
       "    </tr>\n",
       "    <tr>\n",
       "      <th>3</th>\n",
       "      <td>2020-01-02</td>\n",
       "      <td>55500</td>\n",
       "      <td>56000</td>\n",
       "      <td>55000</td>\n",
       "      <td>55200</td>\n",
       "      <td>12993228</td>\n",
       "      <td>2020</td>\n",
       "      <td>1</td>\n",
       "      <td>2</td>\n",
       "    </tr>\n",
       "    <tr>\n",
       "      <th>4</th>\n",
       "      <td>2019-12-30</td>\n",
       "      <td>56200</td>\n",
       "      <td>56600</td>\n",
       "      <td>55700</td>\n",
       "      <td>55800</td>\n",
       "      <td>8356767</td>\n",
       "      <td>2019</td>\n",
       "      <td>12</td>\n",
       "      <td>30</td>\n",
       "    </tr>\n",
       "  </tbody>\n",
       "</table>\n",
       "</div>"
      ],
      "text/plain": [
       "          일자     시가     고가     저가     종가       거래량    연도   월   일\n",
       "0 2020-01-07  55700  56400  55600  55800   9893846  2020   1   7\n",
       "1 2020-01-06  54900  55600  54600  55500  10278951  2020   1   6\n",
       "2 2020-01-03  56000  56600  54900  55500  15422255  2020   1   3\n",
       "3 2020-01-02  55500  56000  55000  55200  12993228  2020   1   2\n",
       "4 2019-12-30  56200  56600  55700  55800   8356767  2019  12  30"
      ]
     },
     "execution_count": 25,
     "metadata": {},
     "output_type": "execute_result"
    }
   ],
   "source": [
    "# 연도, 월, 일 컬럼 추가\n",
    "data['연도'] = data.일자.dt.year\n",
    "data['월'] = data.일자.dt.month\n",
    "data['일'] = data.일자.dt.day\n",
    "data.head()"
   ]
  },
  {
   "cell_type": "code",
   "execution_count": 26,
   "metadata": {},
   "outputs": [
    {
     "name": "stdout",
     "output_type": "stream",
     "text": [
      "<class 'pandas.core.frame.DataFrame'>\n",
      "RangeIndex: 9288 entries, 0 to 9287\n",
      "Data columns (total 9 columns):\n",
      " #   Column  Non-Null Count  Dtype         \n",
      "---  ------  --------------  -----         \n",
      " 0   일자      9288 non-null   datetime64[ns]\n",
      " 1   시가      9288 non-null   int64         \n",
      " 2   고가      9288 non-null   int64         \n",
      " 3   저가      9288 non-null   int64         \n",
      " 4   종가      9288 non-null   int64         \n",
      " 5   거래량     9288 non-null   int64         \n",
      " 6   연도      9288 non-null   int64         \n",
      " 7   월       9288 non-null   int64         \n",
      " 8   일       9288 non-null   int64         \n",
      "dtypes: datetime64[ns](1), int64(8)\n",
      "memory usage: 653.2 KB\n"
     ]
    }
   ],
   "source": [
    "data.info()"
   ]
  },
  {
   "attachments": {},
   "cell_type": "markdown",
   "metadata": {},
   "source": [
    "---\n",
    "### 시각화"
   ]
  },
  {
   "cell_type": "code",
   "execution_count": 27,
   "metadata": {},
   "outputs": [],
   "source": [
    "import matplotlib.pyplot as plt\n",
    "import seaborn as sns"
   ]
  },
  {
   "cell_type": "code",
   "execution_count": 28,
   "metadata": {},
   "outputs": [
    {
     "data": {
      "text/plain": [
       "array([2020, 2019, 2018, 2017, 2016, 2015, 2014, 2013, 2012, 2011, 2010,\n",
       "       2009, 2008, 2007, 2006, 2005, 2004, 2003, 2002, 2001, 2000, 1999,\n",
       "       1998, 1997, 1996, 1995, 1994, 1993, 1992, 1991, 1990, 1989, 1988,\n",
       "       1987, 1986, 1985])"
      ]
     },
     "execution_count": 28,
     "metadata": {},
     "output_type": "execute_result"
    }
   ],
   "source": [
    "# 데이터 범위 확인\n",
    "data['연도'].unique()"
   ]
  },
  {
   "cell_type": "code",
   "execution_count": 29,
   "metadata": {},
   "outputs": [
    {
     "data": {
      "text/plain": [
       "array([2020, 2019, 2018, 2017, 2016, 2015, 2014, 2013, 2012, 2011, 2010,\n",
       "       2009, 2008, 2007, 2006, 2005, 2004, 2003, 2002, 2001, 2000, 1999,\n",
       "       1998, 1997, 1996, 1995, 1994, 1993, 1992, 1991, 1990])"
      ]
     },
     "execution_count": 29,
     "metadata": {},
     "output_type": "execute_result"
    }
   ],
   "source": [
    "# 1990년 이후의 data만 사용\n",
    "df = data[data['연도'] >= 1990]\n",
    "df['연도'].unique()"
   ]
  },
  {
   "cell_type": "code",
   "execution_count": 30,
   "metadata": {},
   "outputs": [
    {
     "name": "stdout",
     "output_type": "stream",
     "text": [
      "<class 'pandas.core.frame.DataFrame'>\n",
      "Int64Index: 7828 entries, 0 to 7827\n",
      "Data columns (total 9 columns):\n",
      " #   Column  Non-Null Count  Dtype         \n",
      "---  ------  --------------  -----         \n",
      " 0   일자      7828 non-null   datetime64[ns]\n",
      " 1   시가      7828 non-null   int64         \n",
      " 2   고가      7828 non-null   int64         \n",
      " 3   저가      7828 non-null   int64         \n",
      " 4   종가      7828 non-null   int64         \n",
      " 5   거래량     7828 non-null   int64         \n",
      " 6   연도      7828 non-null   int64         \n",
      " 7   월       7828 non-null   int64         \n",
      " 8   일       7828 non-null   int64         \n",
      "dtypes: datetime64[ns](1), int64(8)\n",
      "memory usage: 611.6 KB\n"
     ]
    }
   ],
   "source": [
    "df.info()"
   ]
  },
  {
   "cell_type": "code",
   "execution_count": 31,
   "metadata": {},
   "outputs": [],
   "source": [
    "# 한글 폰트 문제 해결 \n",
    "# matplotlib은 한글 폰트를 지원하지 않음\n",
    "# os정보\n",
    "import platform\n",
    "import matplotlib.pyplot as plt\n",
    "\n",
    "# font_manager : 폰트 관리 모듈\n",
    "# rc : 폰트 변경 모듈\n",
    "from matplotlib import font_manager, rc\n",
    "# unicode 설정\n",
    "plt.rcParams['axes.unicode_minus'] = False\n",
    "\n",
    "if platform.system() == 'Darwin':\n",
    "    rc('font', family='AppleGothic') # os가 macos\n",
    "elif platform.system() == 'Windows':\n",
    "    path = 'c:/Windows/Fonts/malgun.ttf' # os가 windows\n",
    "    font_name = font_manager.FontProperties(fname=path).get_name()\n",
    "    rc('font', family=font_name)\n",
    "else:\n",
    "    print(\"Unknown System\")"
   ]
  },
  {
   "cell_type": "code",
   "execution_count": 32,
   "metadata": {},
   "outputs": [
    {
     "data": {
      "image/png": "[encoded data removed]",
      "text/plain": [
       "<Figure size 1500x500 with 1 Axes>"
      ]
     },
     "metadata": {},
     "output_type": "display_data"
    }
   ],
   "source": [
    "# 일자별 종가 기준\n",
    "plt.figure(figsize=(15,5))\n",
    "sns.lineplot(\n",
    "    x=df.일자,\n",
    "    y=df.종가\n",
    ")\n",
    "plt.show()"
   ]
  },
  {
   "cell_type": "code",
   "execution_count": 33,
   "metadata": {},
   "outputs": [
    {
     "data": {
      "text/html": [
       "<div>\n",
       "<style scoped>\n",
       "    .dataframe tbody tr th:only-of-type {\n",
       "        vertical-align: middle;\n",
       "    }\n",
       "\n",
       "    .dataframe tbody tr th {\n",
       "        vertical-align: top;\n",
       "    }\n",
       "\n",
       "    .dataframe thead th {\n",
       "        text-align: right;\n",
       "    }\n",
       "</style>\n",
       "<table border=\"1\" class=\"dataframe\">\n",
       "  <thead>\n",
       "    <tr style=\"text-align: right;\">\n",
       "      <th></th>\n",
       "      <th>일자</th>\n",
       "      <th>시가</th>\n",
       "      <th>고가</th>\n",
       "      <th>저가</th>\n",
       "      <th>종가</th>\n",
       "      <th>거래량</th>\n",
       "      <th>연도</th>\n",
       "      <th>월</th>\n",
       "      <th>일</th>\n",
       "    </tr>\n",
       "  </thead>\n",
       "  <tbody>\n",
       "    <tr>\n",
       "      <th>0</th>\n",
       "      <td>1990-01-03</td>\n",
       "      <td>673</td>\n",
       "      <td>689</td>\n",
       "      <td>661</td>\n",
       "      <td>685</td>\n",
       "      <td>1715032</td>\n",
       "      <td>1990</td>\n",
       "      <td>1</td>\n",
       "      <td>3</td>\n",
       "    </tr>\n",
       "    <tr>\n",
       "      <th>1</th>\n",
       "      <td>1990-01-04</td>\n",
       "      <td>689</td>\n",
       "      <td>701</td>\n",
       "      <td>685</td>\n",
       "      <td>693</td>\n",
       "      <td>2738562</td>\n",
       "      <td>1990</td>\n",
       "      <td>1</td>\n",
       "      <td>4</td>\n",
       "    </tr>\n",
       "    <tr>\n",
       "      <th>2</th>\n",
       "      <td>1990-01-05</td>\n",
       "      <td>689</td>\n",
       "      <td>693</td>\n",
       "      <td>678</td>\n",
       "      <td>678</td>\n",
       "      <td>1790849</td>\n",
       "      <td>1990</td>\n",
       "      <td>1</td>\n",
       "      <td>5</td>\n",
       "    </tr>\n",
       "    <tr>\n",
       "      <th>3</th>\n",
       "      <td>1990-01-06</td>\n",
       "      <td>685</td>\n",
       "      <td>689</td>\n",
       "      <td>681</td>\n",
       "      <td>681</td>\n",
       "      <td>1724183</td>\n",
       "      <td>1990</td>\n",
       "      <td>1</td>\n",
       "      <td>6</td>\n",
       "    </tr>\n",
       "    <tr>\n",
       "      <th>4</th>\n",
       "      <td>1990-01-08</td>\n",
       "      <td>681</td>\n",
       "      <td>687</td>\n",
       "      <td>673</td>\n",
       "      <td>673</td>\n",
       "      <td>966666</td>\n",
       "      <td>1990</td>\n",
       "      <td>1</td>\n",
       "      <td>8</td>\n",
       "    </tr>\n",
       "  </tbody>\n",
       "</table>\n",
       "</div>"
      ],
      "text/plain": [
       "          일자   시가   고가   저가   종가      거래량    연도  월  일\n",
       "0 1990-01-03  673  689  661  685  1715032  1990  1  3\n",
       "1 1990-01-04  689  701  685  693  2738562  1990  1  4\n",
       "2 1990-01-05  689  693  678  678  1790849  1990  1  5\n",
       "3 1990-01-06  685  689  681  681  1724183  1990  1  6\n",
       "4 1990-01-08  681  687  673  673   966666  1990  1  8"
      ]
     },
     "execution_count": 33,
     "metadata": {},
     "output_type": "execute_result"
    }
   ],
   "source": [
    "# 현재 내림차순으로 되어 있는 df오름차순으로 정렬\n",
    "df = df.sort_values('일자').reset_index(drop=True)\n",
    "df.head()"
   ]
  },
  {
   "cell_type": "code",
   "execution_count": 34,
   "metadata": {},
   "outputs": [
    {
     "data": {
      "text/html": [
       "<div>\n",
       "<style scoped>\n",
       "    .dataframe tbody tr th:only-of-type {\n",
       "        vertical-align: middle;\n",
       "    }\n",
       "\n",
       "    .dataframe tbody tr th {\n",
       "        vertical-align: top;\n",
       "    }\n",
       "\n",
       "    .dataframe thead th {\n",
       "        text-align: right;\n",
       "    }\n",
       "</style>\n",
       "<table border=\"1\" class=\"dataframe\">\n",
       "  <thead>\n",
       "    <tr style=\"text-align: right;\">\n",
       "      <th></th>\n",
       "      <th>시가</th>\n",
       "      <th>고가</th>\n",
       "      <th>저가</th>\n",
       "      <th>종가</th>\n",
       "      <th>거래량</th>\n",
       "    </tr>\n",
       "  </thead>\n",
       "  <tbody>\n",
       "    <tr>\n",
       "      <th>count</th>\n",
       "      <td>7828.000000</td>\n",
       "      <td>7828.000000</td>\n",
       "      <td>7828.000000</td>\n",
       "      <td>7828.000000</td>\n",
       "      <td>7.828000e+03</td>\n",
       "    </tr>\n",
       "    <tr>\n",
       "      <th>mean</th>\n",
       "      <td>13102.048927</td>\n",
       "      <td>13243.941620</td>\n",
       "      <td>12957.559658</td>\n",
       "      <td>13101.641415</td>\n",
       "      <td>1.908968e+07</td>\n",
       "    </tr>\n",
       "    <tr>\n",
       "      <th>std</th>\n",
       "      <td>14157.419071</td>\n",
       "      <td>14285.315014</td>\n",
       "      <td>14022.456207</td>\n",
       "      <td>14155.504533</td>\n",
       "      <td>1.722374e+07</td>\n",
       "    </tr>\n",
       "    <tr>\n",
       "      <th>min</th>\n",
       "      <td>390.000000</td>\n",
       "      <td>396.000000</td>\n",
       "      <td>387.000000</td>\n",
       "      <td>393.000000</td>\n",
       "      <td>0.000000e+00</td>\n",
       "    </tr>\n",
       "    <tr>\n",
       "      <th>25%</th>\n",
       "      <td>1410.000000</td>\n",
       "      <td>1434.000000</td>\n",
       "      <td>1390.000000</td>\n",
       "      <td>1410.000000</td>\n",
       "      <td>8.008238e+06</td>\n",
       "    </tr>\n",
       "    <tr>\n",
       "      <th>50%</th>\n",
       "      <td>8865.000000</td>\n",
       "      <td>8960.000000</td>\n",
       "      <td>8745.000000</td>\n",
       "      <td>8860.000000</td>\n",
       "      <td>1.453765e+07</td>\n",
       "    </tr>\n",
       "    <tr>\n",
       "      <th>75%</th>\n",
       "      <td>21430.000000</td>\n",
       "      <td>21680.000000</td>\n",
       "      <td>21200.000000</td>\n",
       "      <td>21480.000000</td>\n",
       "      <td>2.546348e+07</td>\n",
       "    </tr>\n",
       "    <tr>\n",
       "      <th>max</th>\n",
       "      <td>57500.000000</td>\n",
       "      <td>57520.000000</td>\n",
       "      <td>56760.000000</td>\n",
       "      <td>57220.000000</td>\n",
       "      <td>3.266220e+08</td>\n",
       "    </tr>\n",
       "  </tbody>\n",
       "</table>\n",
       "</div>"
      ],
      "text/plain": [
       "                 시가            고가            저가            종가           거래량\n",
       "count   7828.000000   7828.000000   7828.000000   7828.000000  7.828000e+03\n",
       "mean   13102.048927  13243.941620  12957.559658  13101.641415  1.908968e+07\n",
       "std    14157.419071  14285.315014  14022.456207  14155.504533  1.722374e+07\n",
       "min      390.000000    396.000000    387.000000    393.000000  0.000000e+00\n",
       "25%     1410.000000   1434.000000   1390.000000   1410.000000  8.008238e+06\n",
       "50%     8865.000000   8960.000000   8745.000000   8860.000000  1.453765e+07\n",
       "75%    21430.000000  21680.000000  21200.000000  21480.000000  2.546348e+07\n",
       "max    57500.000000  57520.000000  56760.000000  57220.000000  3.266220e+08"
      ]
     },
     "execution_count": 34,
     "metadata": {},
     "output_type": "execute_result"
    }
   ],
   "source": [
    "# 일자와 관련된 컬럼을 제외하고 data의 크기 비교\n",
    "columns = ['시가','고가','저가','종가','거래량']\n",
    "df[columns].describe()"
   ]
  },
  {
   "attachments": {},
   "cell_type": "markdown",
   "metadata": {},
   "source": [
    "> 거래량과 다른 컬럼의 수치 차이가 크므로 표준화 시도"
   ]
  },
  {
   "cell_type": "code",
   "execution_count": 35,
   "metadata": {},
   "outputs": [],
   "source": [
    "from sklearn.preprocessing import MinMaxScaler\n",
    "scaler = MinMaxScaler()"
   ]
  },
  {
   "cell_type": "code",
   "execution_count": 36,
   "metadata": {},
   "outputs": [
    {
     "data": {
      "text/html": [
       "<div>\n",
       "<style scoped>\n",
       "    .dataframe tbody tr th:only-of-type {\n",
       "        vertical-align: middle;\n",
       "    }\n",
       "\n",
       "    .dataframe tbody tr th {\n",
       "        vertical-align: top;\n",
       "    }\n",
       "\n",
       "    .dataframe thead th {\n",
       "        text-align: right;\n",
       "    }\n",
       "</style>\n",
       "<table border=\"1\" class=\"dataframe\">\n",
       "  <thead>\n",
       "    <tr style=\"text-align: right;\">\n",
       "      <th></th>\n",
       "      <th>시가</th>\n",
       "      <th>고가</th>\n",
       "      <th>저가</th>\n",
       "      <th>종가</th>\n",
       "      <th>거래량</th>\n",
       "    </tr>\n",
       "  </thead>\n",
       "  <tbody>\n",
       "    <tr>\n",
       "      <th>0</th>\n",
       "      <td>0.004955</td>\n",
       "      <td>0.005129</td>\n",
       "      <td>0.004860</td>\n",
       "      <td>0.005138</td>\n",
       "      <td>0.005251</td>\n",
       "    </tr>\n",
       "    <tr>\n",
       "      <th>1</th>\n",
       "      <td>0.005236</td>\n",
       "      <td>0.005339</td>\n",
       "      <td>0.005286</td>\n",
       "      <td>0.005279</td>\n",
       "      <td>0.008384</td>\n",
       "    </tr>\n",
       "    <tr>\n",
       "      <th>2</th>\n",
       "      <td>0.005236</td>\n",
       "      <td>0.005199</td>\n",
       "      <td>0.005162</td>\n",
       "      <td>0.005015</td>\n",
       "      <td>0.005483</td>\n",
       "    </tr>\n",
       "    <tr>\n",
       "      <th>3</th>\n",
       "      <td>0.005165</td>\n",
       "      <td>0.005129</td>\n",
       "      <td>0.005215</td>\n",
       "      <td>0.005068</td>\n",
       "      <td>0.005279</td>\n",
       "    </tr>\n",
       "    <tr>\n",
       "      <th>4</th>\n",
       "      <td>0.005095</td>\n",
       "      <td>0.005094</td>\n",
       "      <td>0.005073</td>\n",
       "      <td>0.004927</td>\n",
       "      <td>0.002960</td>\n",
       "    </tr>\n",
       "    <tr>\n",
       "      <th>...</th>\n",
       "      <td>...</td>\n",
       "      <td>...</td>\n",
       "      <td>...</td>\n",
       "      <td>...</td>\n",
       "      <td>...</td>\n",
       "    </tr>\n",
       "    <tr>\n",
       "      <th>7823</th>\n",
       "      <td>0.977237</td>\n",
       "      <td>0.983895</td>\n",
       "      <td>0.981197</td>\n",
       "      <td>0.975012</td>\n",
       "      <td>0.025585</td>\n",
       "    </tr>\n",
       "    <tr>\n",
       "      <th>7824</th>\n",
       "      <td>0.964980</td>\n",
       "      <td>0.973391</td>\n",
       "      <td>0.968779</td>\n",
       "      <td>0.964454</td>\n",
       "      <td>0.039781</td>\n",
       "    </tr>\n",
       "    <tr>\n",
       "      <th>7825</th>\n",
       "      <td>0.973735</td>\n",
       "      <td>0.983895</td>\n",
       "      <td>0.967005</td>\n",
       "      <td>0.969733</td>\n",
       "      <td>0.047217</td>\n",
       "    </tr>\n",
       "    <tr>\n",
       "      <th>7826</th>\n",
       "      <td>0.954474</td>\n",
       "      <td>0.966389</td>\n",
       "      <td>0.961684</td>\n",
       "      <td>0.969733</td>\n",
       "      <td>0.031470</td>\n",
       "    </tr>\n",
       "    <tr>\n",
       "      <th>7827</th>\n",
       "      <td>0.968482</td>\n",
       "      <td>0.980394</td>\n",
       "      <td>0.979423</td>\n",
       "      <td>0.975012</td>\n",
       "      <td>0.030291</td>\n",
       "    </tr>\n",
       "  </tbody>\n",
       "</table>\n",
       "<p>7828 rows × 5 columns</p>\n",
       "</div>"
      ],
      "text/plain": [
       "            시가        고가        저가        종가       거래량\n",
       "0     0.004955  0.005129  0.004860  0.005138  0.005251\n",
       "1     0.005236  0.005339  0.005286  0.005279  0.008384\n",
       "2     0.005236  0.005199  0.005162  0.005015  0.005483\n",
       "3     0.005165  0.005129  0.005215  0.005068  0.005279\n",
       "4     0.005095  0.005094  0.005073  0.004927  0.002960\n",
       "...        ...       ...       ...       ...       ...\n",
       "7823  0.977237  0.983895  0.981197  0.975012  0.025585\n",
       "7824  0.964980  0.973391  0.968779  0.964454  0.039781\n",
       "7825  0.973735  0.983895  0.967005  0.969733  0.047217\n",
       "7826  0.954474  0.966389  0.961684  0.969733  0.031470\n",
       "7827  0.968482  0.980394  0.979423  0.975012  0.030291\n",
       "\n",
       "[7828 rows x 5 columns]"
      ]
     },
     "execution_count": 36,
     "metadata": {},
     "output_type": "execute_result"
    }
   ],
   "source": [
    "dfScaled = scaler.fit_transform(df[columns])\n",
    "dfScaled = pd.DataFrame(dfScaled)\n",
    "dfScaled.columns = columns\n",
    "dfScaled"
   ]
  },
  {
   "attachments": {},
   "cell_type": "markdown",
   "metadata": {},
   "source": [
    "---\n",
    "### feature와 target 만들기"
   ]
  },
  {
   "cell_type": "code",
   "execution_count": 41,
   "metadata": {},
   "outputs": [],
   "source": [
    "featureNames = ['시가','고가','저가','거래량']\n",
    "targetName = ['종가']"
   ]
  },
  {
   "cell_type": "code",
   "execution_count": 42,
   "metadata": {},
   "outputs": [],
   "source": [
    "feature = dfScaled[featureNames]\n",
    "target = dfScaled[targetName]"
   ]
  },
  {
   "cell_type": "code",
   "execution_count": 40,
   "metadata": {},
   "outputs": [
    {
     "name": "stdout",
     "output_type": "stream",
     "text": [
      "<class 'pandas.core.frame.DataFrame'>\n",
      "RangeIndex: 7828 entries, 0 to 7827\n",
      "Data columns (total 4 columns):\n",
      " #   Column  Non-Null Count  Dtype  \n",
      "---  ------  --------------  -----  \n",
      " 0   시가      7828 non-null   float64\n",
      " 1   고가      7828 non-null   float64\n",
      " 2   저가      7828 non-null   float64\n",
      " 3   거래량     7828 non-null   float64\n",
      "dtypes: float64(4)\n",
      "memory usage: 244.8 KB\n"
     ]
    }
   ],
   "source": [
    "feature.info()"
   ]
  },
  {
   "cell_type": "code",
   "execution_count": 43,
   "metadata": {},
   "outputs": [
    {
     "name": "stdout",
     "output_type": "stream",
     "text": [
      "<class 'pandas.core.frame.DataFrame'>\n",
      "RangeIndex: 7828 entries, 0 to 7827\n",
      "Data columns (total 1 columns):\n",
      " #   Column  Non-Null Count  Dtype  \n",
      "---  ------  --------------  -----  \n",
      " 0   종가      7828 non-null   float64\n",
      "dtypes: float64(1)\n",
      "memory usage: 61.3 KB\n"
     ]
    }
   ],
   "source": [
    "target.info()"
   ]
  },
  {
   "attachments": {},
   "cell_type": "markdown",
   "metadata": {},
   "source": [
    "---\n",
    "### train, test, valid 만들기"
   ]
  },
  {
   "cell_type": "code",
   "execution_count": 44,
   "metadata": {},
   "outputs": [],
   "source": [
    "from sklearn.model_selection import train_test_split"
   ]
  },
  {
   "cell_type": "code",
   "execution_count": 45,
   "metadata": {},
   "outputs": [],
   "source": [
    "# train과 test 만들기\n",
    "trainData, testData, trainTarget, testTarget = train_test_split(feature, target, test_size=0.2)"
   ]
  },
  {
   "cell_type": "code",
   "execution_count": 46,
   "metadata": {},
   "outputs": [
    {
     "name": "stdout",
     "output_type": "stream",
     "text": [
      "(6262, 4)\n",
      "(1566, 4)\n",
      "(6262, 1)\n",
      "(1566, 1)\n"
     ]
    }
   ],
   "source": [
    "print(trainData.shape)\n",
    "print(testData.shape)\n",
    "print(trainTarget.shape)\n",
    "print(testTarget.shape)"
   ]
  },
  {
   "cell_type": "code",
   "execution_count": 47,
   "metadata": {},
   "outputs": [],
   "source": [
    "# train과 valid 만들기\n",
    "x_train, x_valid, y_train, y_valid = train_test_split(trainData, trainTarget, test_size=0.2)"
   ]
  },
  {
   "cell_type": "code",
   "execution_count": 48,
   "metadata": {},
   "outputs": [
    {
     "name": "stdout",
     "output_type": "stream",
     "text": [
      "(5009, 4)\n",
      "(5009, 1)\n",
      "(1253, 4)\n",
      "(1253, 1)\n"
     ]
    }
   ],
   "source": [
    "print(x_train.shape)\n",
    "print(y_train.shape)\n",
    "print(x_valid.shape)\n",
    "print(y_valid.shape)"
   ]
  },
  {
   "cell_type": "code",
   "execution_count": 49,
   "metadata": {},
   "outputs": [],
   "source": [
    "# RandomForest로 모델 구현\n",
    "import numpy as np\n",
    "from sklearn.model_selection import cross_validate\n",
    "from sklearn.ensemble import RandomForestRegressor"
   ]
  },
  {
   "cell_type": "code",
   "execution_count": 74,
   "metadata": {},
   "outputs": [
    {
     "name": "stderr",
     "output_type": "stream",
     "text": [
      "/Users/jyh/miniforge3/envs/tensorflow/lib/python3.9/site-packages/sklearn/model_selection/_validation.py:686: DataConversionWarning: A column-vector y was passed when a 1d array was expected. Please change the shape of y to (n_samples,), for example using ravel().\n",
      "  estimator.fit(X_train, y_train, **fit_params)\n",
      "/Users/jyh/miniforge3/envs/tensorflow/lib/python3.9/site-packages/sklearn/model_selection/_validation.py:686: DataConversionWarning: A column-vector y was passed when a 1d array was expected. Please change the shape of y to (n_samples,), for example using ravel().\n",
      "  estimator.fit(X_train, y_train, **fit_params)\n",
      "/Users/jyh/miniforge3/envs/tensorflow/lib/python3.9/site-packages/sklearn/model_selection/_validation.py:686: DataConversionWarning: A column-vector y was passed when a 1d array was expected. Please change the shape of y to (n_samples,), for example using ravel().\n",
      "  estimator.fit(X_train, y_train, **fit_params)\n",
      "/Users/jyh/miniforge3/envs/tensorflow/lib/python3.9/site-packages/sklearn/model_selection/_validation.py:686: DataConversionWarning: A column-vector y was passed when a 1d array was expected. Please change the shape of y to (n_samples,), for example using ravel().\n",
      "  estimator.fit(X_train, y_train, **fit_params)\n",
      "/Users/jyh/miniforge3/envs/tensorflow/lib/python3.9/site-packages/sklearn/model_selection/_validation.py:686: DataConversionWarning: A column-vector y was passed when a 1d array was expected. Please change the shape of y to (n_samples,), for example using ravel().\n",
      "  estimator.fit(X_train, y_train, **fit_params)\n"
     ]
    },
    {
     "name": "stdout",
     "output_type": "stream",
     "text": [
      "0.99998147765227 0.9998699745312628\n"
     ]
    }
   ],
   "source": [
    "rf = RandomForestRegressor(\n",
    "    n_jobs=-1, # -1: pc 자원을 다씀, 1: 다쓰지 않음\n",
    "    random_state=42\n",
    ")\n",
    "\n",
    "scores = cross_validate(rf, x_train, y_train, return_train_score=True, n_jobs=-1)\n",
    "print(np.mean(scores['train_score']), np.mean(scores['test_score']))"
   ]
  },
  {
   "cell_type": "code",
   "execution_count": null,
   "metadata": {},
   "outputs": [],
   "source": []
  }
 ],
 "metadata": {
  "kernelspec": {
   "display_name": "tensorflow",
   "language": "python",
   "name": "python3"
  },
  "language_info": {
   "codemirror_mode": {
    "name": "ipython",
    "version": 3
   },
   "file_extension": ".py",
   "mimetype": "text/x-python",
   "name": "python",
   "nbconvert_exporter": "python",
   "pygments_lexer": "ipython3",
   "version": "3.9.13 | packaged by conda-forge | (main, May 27 2022, 17:01:00) \n[Clang 13.0.1 ]"
  },
  "orig_nbformat": 4,
  "vscode": {
   "interpreter": {
    "hash": "b5bceb7e8a84ff8847f58b8686ae86845aacdffaae9b7539e602163ce2574e80"
   }
  }
 },
 "nbformat": 4,
 "nbformat_minor": 2
}
