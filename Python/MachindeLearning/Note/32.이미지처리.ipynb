{
 "cells": [
  {
   "cell_type": "code",
   "execution_count": 5,
   "metadata": {},
   "outputs": [],
   "source": [
    "# Warning 생략\n",
    "import warnings\n",
    "warnings.filterwarnings('ignore')\n",
    "# Pandas\n",
    "import pandas as pd\n",
    "# Numpy\n",
    "import numpy as np\n",
    "# ML 저장\n",
    "import joblib\n",
    "# 그래프\n",
    "import matplotlib.pyplot as plt\n",
    "from sklearn.tree import plot_tree\n",
    "# Seaborn\n",
    "import seaborn as sns\n",
    "# Glob\n",
    "import glob\n",
    "\n",
    "# ML Data 나누기\n",
    "from sklearn.model_selection import train_test_split\n",
    "# Decision Tree\n",
    "from sklearn.tree import DecisionTreeClassifier\n",
    "from sklearn import tree\n",
    "# Random Forest\n",
    "from sklearn.ensemble import RandomForestClassifier\n",
    "# SVM\n",
    "from sklearn import svm\n",
    "from sklearn.svm import SVC\n",
    "# Neural Net\n",
    "from sklearn.neural_network import MLPClassifier\n",
    "# QDA\n",
    "from sklearn.discriminant_analysis import QuadraticDiscriminantAnalysis\n",
    "# Naive Bayes\n",
    "from sklearn.naive_bayes import GaussianNB\n",
    "# AdaBoost\n",
    "from sklearn.ensemble import AdaBoostClassifier\n",
    "# Gaussian Process\n",
    "from sklearn.gaussian_process import GaussianProcessClassifier\n",
    "# KNN\n",
    "from sklearn.neighbors import KNeighborsClassifier\n",
    "# 회귀모델\n",
    "from sklearn.neighbors import KNeighborsRegressor\n",
    "# 선형회귀\n",
    "from sklearn.linear_model import LinearRegression\n",
    "# 다중회귀\n",
    "from sklearn.preprocessing import PolynomialFeatures\n",
    "# 로지스틱 회귀\n",
    "from sklearn.linear_model import LogisticRegression\n",
    "# Grid Search\n",
    "from sklearn.model_selection import GridSearchCV\n",
    "# Extra Tree\n",
    "from sklearn.ensemble import ExtraTreesClassifier\n",
    "# Gradient Boostring\n",
    "from sklearn.ensemble import GradientBoostingClassifier\n",
    "# Histogram gradient boosting\n",
    "from sklearn.ensemble import HistGradientBoostingClassifier\n",
    "from sklearn.experimental import enable_hist_gradient_boosting\n",
    "# XGBoost\n",
    "from xgboost import XGBClassifier\n",
    "# Permutation Importance (치환중요도)\n",
    "from sklearn.inspection import permutation_importance\n",
    "\n",
    "# 평균 절대값 오차\n",
    "from sklearn.metrics import mean_absolute_error\n",
    "\n",
    "from sklearn import datasets\n",
    "\n",
    "# 교차 검증\n",
    "from sklearn.model_selection import cross_validate\n",
    "from sklearn.model_selection import cross_val_score\n",
    "# 표준화\n",
    "from sklearn.preprocessing import StandardScaler\n",
    "# Lasso (L1)\n",
    "from sklearn.linear_model import Lasso\n",
    "# Ridge (L2)\n",
    "from sklearn.linear_model import Ridge\n",
    "# 확률적 경사하강법\n",
    "from sklearn.linear_model import SGDClassifier\n",
    "\n",
    "# Cluster\n",
    "from sklearn.cluster import KMeans\n",
    "# Voting\n",
    "from sklearn.ensemble import VotingClassifier\n",
    "# 정확도 측정\n",
    "from sklearn.metrics import accuracy_score\n",
    "# Sigmoid\n",
    "from scipy.special import expit\n",
    "# SoftMax\n",
    "from scipy.special import softmax\n",
    "# KFold\n",
    "from sklearn.model_selection import StratifiedKFold\n",
    "\n",
    "# Image 저장\n",
    "from PIL import Image\n",
    "\n",
    "# 한글 폰트 문제 해결 \n",
    "# matplotlib은 한글 폰트를 지원하지 않음\n",
    "# os정보\n",
    "import platform\n",
    "\n",
    "# font_manager : 폰트 관리 모듈\n",
    "# rc : 폰트 변경 모듈\n",
    "from matplotlib import font_manager, rc\n",
    "# unicode 설정\n",
    "plt.rcParams['axes.unicode_minus'] = False\n",
    "\n",
    "if platform.system() == 'Darwin':\n",
    "    rc('font', family='AppleGothic') # os가 macos\n",
    "elif platform.system() == 'Windows':\n",
    "    path = 'c:/Windows/Fonts/malgun.ttf' # os가 windows\n",
    "    font_name = font_manager.FontProperties(fname=path).get_name()\n",
    "    rc('font', family=font_name)\n",
    "else:\n",
    "    print(\"Unknown System\")"
   ]
  },
  {
   "attachments": {},
   "cell_type": "markdown",
   "metadata": {},
   "source": [
    "### Numpy를 Image로 변환"
   ]
  },
  {
   "cell_type": "code",
   "execution_count": 2,
   "metadata": {},
   "outputs": [
    {
     "data": {
      "text/plain": [
       "(300, 100, 100)"
      ]
     },
     "execution_count": 2,
     "metadata": {},
     "output_type": "execute_result"
    }
   ],
   "source": [
    "fruits = np.load('../Data/fruits.npy')\n",
    "fruits.shape"
   ]
  },
  {
   "cell_type": "code",
   "execution_count": 4,
   "metadata": {},
   "outputs": [],
   "source": [
    "# Image로 저장하기\n",
    "for i in range(300):\n",
    "    image = Image.fromarray(fruits[i]).convert('L') # L : 흑백톤\n",
    "    image.save('../Data/fruits/fruit_%03d.jpg'%i, 'JPEG')"
   ]
  },
  {
   "attachments": {},
   "cell_type": "markdown",
   "metadata": {},
   "source": [
    "---\n",
    "### Image를 읽어서 Numpy로 변환하기"
   ]
  },
  {
   "cell_type": "code",
   "execution_count": 6,
   "metadata": {},
   "outputs": [],
   "source": [
    "numberOfData = 300\n",
    "imgSize = 100"
   ]
  },
  {
   "cell_type": "code",
   "execution_count": 7,
   "metadata": {},
   "outputs": [],
   "source": [
    "# 배열 초기화\n",
    "fruitsData = np.zeros(numberOfData * imgSize * imgSize, dtype=np.int32).reshape(numberOfData, imgSize, imgSize)"
   ]
  },
  {
   "cell_type": "code",
   "execution_count": 8,
   "metadata": {},
   "outputs": [],
   "source": [
    "i = 0\n",
    "for file in sorted(glob.glob('../Data/fruits/*.jpg')):\n",
    "    img = np.array(Image.open(file), dtype=np.int32)\n",
    "    fruitsData[i,:,:] = img\n",
    "    i += 1"
   ]
  },
  {
   "cell_type": "code",
   "execution_count": 9,
   "metadata": {},
   "outputs": [
    {
     "data": {
      "text/plain": [
       "(300, 100, 100)"
      ]
     },
     "execution_count": 9,
     "metadata": {},
     "output_type": "execute_result"
    }
   ],
   "source": [
    "fruitsData.shape"
   ]
  },
  {
   "cell_type": "code",
   "execution_count": 12,
   "metadata": {},
   "outputs": [
    {
     "data": {
      "text/plain": [
       "<matplotlib.image.AxesImage at 0x17f642a00>"
      ]
     },
     "execution_count": 12,
     "metadata": {},
     "output_type": "execute_result"
    },
    {
     "data": {
      "image/png": "[encoded data removed]",
      "text/plain": [
       "<Figure size 640x480 with 1 Axes>"
      ]
     },
     "metadata": {},
     "output_type": "display_data"
    }
   ],
   "source": [
    "plt.imshow(fruitsData[200].reshape(100, 100), cmap='gray_r')"
   ]
  },
  {
   "cell_type": "code",
   "execution_count": 13,
   "metadata": {},
   "outputs": [],
   "source": [
    "# 저장하기\n",
    "np.save('../Data/fruitsData', fruitsData)"
   ]
  },
  {
   "cell_type": "code",
   "execution_count": 14,
   "metadata": {},
   "outputs": [
    {
     "data": {
      "text/plain": [
       "(300, 100, 100)"
      ]
     },
     "execution_count": 14,
     "metadata": {},
     "output_type": "execute_result"
    }
   ],
   "source": [
    "fruits = np.load('../Data/fruitsData.npy')\n",
    "fruits.shape"
   ]
  },
  {
   "cell_type": "code",
   "execution_count": null,
   "metadata": {},
   "outputs": [],
   "source": []
  }
 ],
 "metadata": {
  "kernelspec": {
   "display_name": "tensorflow",
   "language": "python",
   "name": "python3"
  },
  "language_info": {
   "codemirror_mode": {
    "name": "ipython",
    "version": 3
   },
   "file_extension": ".py",
   "mimetype": "text/x-python",
   "name": "python",
   "nbconvert_exporter": "python",
   "pygments_lexer": "ipython3",
   "version": "3.9.13 | packaged by conda-forge | (main, May 27 2022, 17:01:00) \n[Clang 13.0.1 ]"
  },
  "orig_nbformat": 4,
  "vscode": {
   "interpreter": {
    "hash": "b5bceb7e8a84ff8847f58b8686ae86845aacdffaae9b7539e602163ce2574e80"
   }
  }
 },
 "nbformat": 4,
 "nbformat_minor": 2
}
