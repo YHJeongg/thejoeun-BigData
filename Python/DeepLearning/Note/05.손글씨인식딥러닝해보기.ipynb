{
 "cells": [
  {
   "cell_type": "code",
   "execution_count": 1,
   "metadata": {},
   "outputs": [],
   "source": [
    "import pandas as pd"
   ]
  },
  {
   "cell_type": "code",
   "execution_count": 2,
   "metadata": {},
   "outputs": [],
   "source": [
    "train = pd.read_csv('../Data/train_20k.csv', header=None)\n",
    "test = pd.read_csv('../Data/test_1k.csv', header=None)"
   ]
  },
  {
   "cell_type": "code",
   "execution_count": 6,
   "metadata": {},
   "outputs": [
    {
     "name": "stdout",
     "output_type": "stream",
     "text": [
      "0 : 1994\n",
      "1 : 2281\n",
      "2 : 1929\n",
      "3 : 2076\n",
      "4 : 1945\n",
      "5 : 1776\n",
      "6 : 1971\n",
      "7 : 2093\n",
      "8 : 1922\n",
      "9 : 2014\n",
      "[20001, 20001, 20001, 20001, 20001, 20001, 20001, 20001, 20001, 20001]\n"
     ]
    }
   ],
   "source": [
    "targetCount = []\n",
    "for i in sorted(train[0].unique()):\n",
    "    print(i, \":\", len(train[train[0] == i]))\n",
    "    targetCount.append(len(train[0] == i))\n",
    "\n",
    "print(targetCount)"
   ]
  },
  {
   "cell_type": "code",
   "execution_count": 5,
   "metadata": {},
   "outputs": [
    {
     "data": {
      "text/plain": [
       "1.0"
      ]
     },
     "execution_count": 5,
     "metadata": {},
     "output_type": "execute_result"
    }
   ],
   "source": [
    "import numpy as np\n",
    "np.min(targetCount) / np.max(targetCount)"
   ]
  },
  {
   "attachments": {},
   "cell_type": "markdown",
   "metadata": {},
   "source": [
    "### train과 test를 Target(Label)과 Feature(Data)로 분리하고 표준화 하기"
   ]
  },
  {
   "cell_type": "code",
   "execution_count": 7,
   "metadata": {},
   "outputs": [],
   "source": [
    "train_label = train.loc[:, train.columns == 0]\n",
    "train_data = train.loc[:, train.columns != 0]\n",
    "train_data = train_data / 255\n",
    "\n",
    "test_label = test.loc[:, test.columns == 0]\n",
    "test_data = test.loc[:, test.columns != 0]\n",
    "test_data = test_data / 255"
   ]
  },
  {
   "attachments": {},
   "cell_type": "markdown",
   "metadata": {},
   "source": [
    "# Deep Learning Model 만들기"
   ]
  },
  {
   "cell_type": "code",
   "execution_count": 8,
   "metadata": {},
   "outputs": [],
   "source": [
    "from tensorflow import keras"
   ]
  },
  {
   "cell_type": "code",
   "execution_count": 12,
   "metadata": {},
   "outputs": [],
   "source": [
    "model = keras.Sequential()\n",
    "model.add(keras.layers.Dense(512, activation='relu', input_shape=(28*28,)))\n",
    "model.add(keras.layers.Dense(10, activation='softmax'))"
   ]
  },
  {
   "cell_type": "code",
   "execution_count": 13,
   "metadata": {},
   "outputs": [],
   "source": [
    "# 모델 구축하기\n",
    "model.compile(optimizer='adam', loss='sparse_categorical_crossentropy', metrics=['accuracy'])"
   ]
  },
  {
   "cell_type": "code",
   "execution_count": 14,
   "metadata": {},
   "outputs": [
    {
     "name": "stdout",
     "output_type": "stream",
     "text": [
      "Epoch 1/10\n"
     ]
    },
    {
     "name": "stderr",
     "output_type": "stream",
     "text": [
      "2023-02-28 15:22:44.640193: W tensorflow/core/platform/profile_utils/cpu_utils.cc:128] Failed to get CPU frequency: 0 Hz\n",
      "2023-02-28 15:22:44.823435: I tensorflow/core/grappler/optimizers/custom_graph_optimizer_registry.cc:113] Plugin optimizer for device_type GPU is enabled.\n"
     ]
    },
    {
     "name": "stdout",
     "output_type": "stream",
     "text": [
      "626/626 [==============================] - 6s 6ms/step - loss: 0.3136 - accuracy: 0.9100\n",
      "Epoch 2/10\n",
      "626/626 [==============================] - 3s 5ms/step - loss: 0.1254 - accuracy: 0.9633\n",
      "Epoch 3/10\n",
      "626/626 [==============================] - 3s 5ms/step - loss: 0.0748 - accuracy: 0.9778\n",
      "Epoch 4/10\n",
      "626/626 [==============================] - 3s 5ms/step - loss: 0.0478 - accuracy: 0.9868\n",
      "Epoch 5/10\n",
      "626/626 [==============================] - 3s 5ms/step - loss: 0.0333 - accuracy: 0.9902\n",
      "Epoch 6/10\n",
      "626/626 [==============================] - 3s 5ms/step - loss: 0.0219 - accuracy: 0.9936\n",
      "Epoch 7/10\n",
      "626/626 [==============================] - 3s 5ms/step - loss: 0.0174 - accuracy: 0.9950\n",
      "Epoch 8/10\n",
      "626/626 [==============================] - 3s 5ms/step - loss: 0.0121 - accuracy: 0.9967\n",
      "Epoch 9/10\n",
      "626/626 [==============================] - 3s 5ms/step - loss: 0.0184 - accuracy: 0.9945\n",
      "Epoch 10/10\n",
      "626/626 [==============================] - 3s 5ms/step - loss: 0.0062 - accuracy: 0.9985\n"
     ]
    }
   ],
   "source": [
    "# 데이터 훈련하기\n",
    "hist = model.fit(np.array(train_data), np.array(train_label), epochs=10)"
   ]
  },
  {
   "attachments": {},
   "cell_type": "markdown",
   "metadata": {},
   "source": [
    "---\n",
    "### 테스트 데이터로 평가하기"
   ]
  },
  {
   "cell_type": "code",
   "execution_count": 15,
   "metadata": {},
   "outputs": [
    {
     "name": "stdout",
     "output_type": "stream",
     "text": [
      "25/32 [======================>.......] - ETA: 0s - loss: 0.0868 - accuracy: 0.9737"
     ]
    },
    {
     "name": "stderr",
     "output_type": "stream",
     "text": [
      "2023-02-28 15:25:41.241581: I tensorflow/core/grappler/optimizers/custom_graph_optimizer_registry.cc:113] Plugin optimizer for device_type GPU is enabled.\n"
     ]
    },
    {
     "name": "stdout",
     "output_type": "stream",
     "text": [
      "32/32 [==============================] - 0s 8ms/step - loss: 0.0865 - accuracy: 0.9720\n",
      "loss = 0.08647110313177109\n",
      "accuracy = 0.9720279574394226\n"
     ]
    }
   ],
   "source": [
    "score = model.evaluate(test_data, test_label)\n",
    "print('loss =', score[0])\n",
    "print('accuracy =', score[1])"
   ]
  },
  {
   "attachments": {},
   "cell_type": "markdown",
   "metadata": {},
   "source": [
    "#### predict"
   ]
  },
  {
   "cell_type": "code",
   "execution_count": 17,
   "metadata": {},
   "outputs": [
    {
     "name": "stdout",
     "output_type": "stream",
     "text": [
      "1/1 [==============================] - 0s 18ms/step\n"
     ]
    },
    {
     "data": {
      "text/plain": [
       "array([7, 2, 1, 0, 4])"
      ]
     },
     "execution_count": 17,
     "metadata": {},
     "output_type": "execute_result"
    }
   ],
   "source": [
    "np.argmax(model.predict(test_data.loc[0:4]), axis=1)"
   ]
  },
  {
   "attachments": {},
   "cell_type": "markdown",
   "metadata": {},
   "source": [
    "#### 번회 : image 만들기"
   ]
  },
  {
   "cell_type": "code",
   "execution_count": 24,
   "metadata": {},
   "outputs": [
    {
     "data": {
      "text/plain": [
       "(20001, 784)"
      ]
     },
     "execution_count": 24,
     "metadata": {},
     "output_type": "execute_result"
    }
   ],
   "source": [
    "train1 = train.loc[:, train.columns != 0]\n",
    "train1.shape"
   ]
  },
  {
   "cell_type": "code",
   "execution_count": 19,
   "metadata": {},
   "outputs": [],
   "source": [
    "from PIL import Image"
   ]
  },
  {
   "cell_type": "code",
   "execution_count": 25,
   "metadata": {},
   "outputs": [
    {
     "data": {
      "text/plain": [
       "(28, 28)"
      ]
     },
     "execution_count": 25,
     "metadata": {},
     "output_type": "execute_result"
    }
   ],
   "source": [
    "abc = np.array(train1.iloc[50]).reshape(28,28)\n",
    "abc.shape"
   ]
  },
  {
   "cell_type": "code",
   "execution_count": 26,
   "metadata": {},
   "outputs": [
    {
     "data": {
      "image/png": "[encoded data removed]",
      "text/plain": [
       "<PIL.Image.Image image mode=L size=28x28>"
      ]
     },
     "execution_count": 26,
     "metadata": {},
     "output_type": "execute_result"
    }
   ],
   "source": [
    "# Image 만들기\n",
    "image = Image.fromarray((abc).astype(np.uint8))\n",
    "image"
   ]
  },
  {
   "cell_type": "code",
   "execution_count": 27,
   "metadata": {},
   "outputs": [],
   "source": [
    "# image 저장하기\n",
    "image.save('../Data/mnist_test_3.jpg', 'JPEG')"
   ]
  },
  {
   "attachments": {},
   "cell_type": "markdown",
   "metadata": {},
   "source": [
    "---\n",
    "### 이미지를 불러서 predict 해보기"
   ]
  },
  {
   "cell_type": "code",
   "execution_count": 28,
   "metadata": {},
   "outputs": [
    {
     "data": {
      "image/png": "[encoded data removed]",
      "text/plain": [
       "<PIL.JpegImagePlugin.JpegImageFile image mode=L size=28x28>"
      ]
     },
     "execution_count": 28,
     "metadata": {},
     "output_type": "execute_result"
    }
   ],
   "source": [
    "img = Image.open('../Data/mnist_test_3.jpg')\n",
    "img"
   ]
  },
  {
   "cell_type": "code",
   "execution_count": 29,
   "metadata": {},
   "outputs": [
    {
     "data": {
      "image/png": "[encoded data removed]",
      "text/plain": [
       "<Figure size 640x480 with 1 Axes>"
      ]
     },
     "metadata": {},
     "output_type": "display_data"
    }
   ],
   "source": [
    "import matplotlib.pyplot as plt\n",
    "plt.imshow(img)\n",
    "plt.show()"
   ]
  },
  {
   "cell_type": "code",
   "execution_count": 30,
   "metadata": {},
   "outputs": [
    {
     "data": {
      "text/plain": [
       "(28, 28)"
      ]
     },
     "execution_count": 30,
     "metadata": {},
     "output_type": "execute_result"
    }
   ],
   "source": [
    "# image를 numpy 배열로 변환\n",
    "imgArray = np.array(img)\n",
    "imgArray = imgArray / 256\n",
    "imgArray.shape"
   ]
  },
  {
   "cell_type": "code",
   "execution_count": 31,
   "metadata": {},
   "outputs": [
    {
     "data": {
      "text/plain": [
       "(784,)"
      ]
     },
     "execution_count": 31,
     "metadata": {},
     "output_type": "execute_result"
    }
   ],
   "source": [
    "# image를 1차원 배열로 변경\n",
    "imgArray2 = imgArray.reshape(-1)\n",
    "imgArray2.shape"
   ]
  },
  {
   "cell_type": "code",
   "execution_count": 44,
   "metadata": {},
   "outputs": [
    {
     "name": "stdout",
     "output_type": "stream",
     "text": [
      "1/1 [==============================] - 0s 11ms/step\n"
     ]
    },
    {
     "data": {
      "text/plain": [
       "array([3])"
      ]
     },
     "execution_count": 44,
     "metadata": {},
     "output_type": "execute_result"
    }
   ],
   "source": [
    "np.argmax(model.predict(pd.DataFrame(imgArray2).T), axis=1)"
   ]
  },
  {
   "cell_type": "code",
   "execution_count": null,
   "metadata": {},
   "outputs": [],
   "source": []
  }
 ],
 "metadata": {
  "kernelspec": {
   "display_name": "tensorflow",
   "language": "python",
   "name": "python3"
  },
  "language_info": {
   "codemirror_mode": {
    "name": "ipython",
    "version": 3
   },
   "file_extension": ".py",
   "mimetype": "text/x-python",
   "name": "python",
   "nbconvert_exporter": "python",
   "pygments_lexer": "ipython3",
   "version": "3.9.13"
  },
  "orig_nbformat": 4,
  "vscode": {
   "interpreter": {
    "hash": "b5bceb7e8a84ff8847f58b8686ae86845aacdffaae9b7539e602163ce2574e80"
   }
  }
 },
 "nbformat": 4,
 "nbformat_minor": 2
}
