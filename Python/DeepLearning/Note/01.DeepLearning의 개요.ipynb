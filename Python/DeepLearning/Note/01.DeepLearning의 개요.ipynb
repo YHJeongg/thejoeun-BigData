{
 "cells": [
  {
   "attachments": {},
   "cell_type": "markdown",
   "metadata": {},
   "source": [
    "# Deep Learning\n",
    "- Machine Learning의 한 종류.\n",
    "- 여러 층을 가진 신경망을 사용해 머신러닝을 수행하는 것\n",
    "- 이미지 처리, 음성 인식, 자연어 처리에 중점\n",
    "- 1990년대 부터 있었지만 현대에 와서 컴퓨팅 성능 향상으로 각광을 받음."
   ]
  },
  {
   "cell_type": "markdown",
   "metadata": {},
   "source": [
    "### Deep Learning과 Machine Learning의 차이점\n",
    "- 가장 큰 차이점은 특징량(Features) 추출"
   ]
  },
  {
   "attachments": {},
   "cell_type": "markdown",
   "metadata": {},
   "source": [
    "#### 수능점수"
   ]
  },
  {
   "cell_type": "code",
   "execution_count": 1,
   "metadata": {},
   "outputs": [
    {
     "data": {
      "text/plain": [
       "70.0"
      ]
     },
     "execution_count": 1,
     "metadata": {},
     "output_type": "execute_result"
    }
   ],
   "source": [
    "(60 * 0.5) + (80 * 0.5)"
   ]
  },
  {
   "attachments": {},
   "cell_type": "markdown",
   "metadata": {},
   "source": [
    "총오차값을 계산하는 알고리즘 : Cross-Entropy, Binary Cross Entropy"
   ]
  },
  {
   "attachments": {},
   "cell_type": "markdown",
   "metadata": {},
   "source": [
    "---\n",
    "### Deep Learning을 이용한 계산\n",
    "- 실제 Data를 이용하여 오차를 구한 후 그 오차들의 합을 구한다.\n",
    "- 이때 오차들의 합이 가장 적었을때의 w값을 취하면 된다.\n",
    "- 오차를 구할때 그냥 뺄셈만 이용하면 minus값이 발생하는 경우가 발생한다.\n",
    "- 이를 해결하기 위해 절대값 오차, 평균제곱오차(오차 값들의 제곱의 합계)를 계산한다."
   ]
  },
  {
   "attachments": {},
   "cell_type": "markdown",
   "metadata": {},
   "source": [
    "### Loss Function(손실함수)\n",
    "- 평균제곱 오차를 구하여 최소화 시키는 방법\n",
    "- 모델의 정확도를 평가하는 함수"
   ]
  },
  {
   "attachments": {},
   "cell_type": "markdown",
   "metadata": {},
   "source": [
    "### Activation Function(활성함수)\n",
    "### Learning Rate\n",
    "- Momentum : 가속도를 유지 \n",
    "- AdaGrad : 자주 변하는 w는 작게 자주 변하지 않으면 크게\n",
    "- RMSProp : AdaGrad인데 제곱\n",
    "- Adam : RMSProp + Mementum"
   ]
  },
  {
   "attachments": {},
   "cell_type": "markdown",
   "metadata": {},
   "source": [
    "## 순전파 (forward propagation)\n",
    "## 역전파 (backward propagation)\n",
    "## Drop out\n",
    "## 조기종료 (Early Stopping) "
   ]
  },
  {
   "cell_type": "code",
   "execution_count": null,
   "metadata": {},
   "outputs": [],
   "source": []
  }
 ],
 "metadata": {
  "kernelspec": {
   "display_name": "tensorflow",
   "language": "python",
   "name": "python3"
  },
  "language_info": {
   "codemirror_mode": {
    "name": "ipython",
    "version": 3
   },
   "file_extension": ".py",
   "mimetype": "text/x-python",
   "name": "python",
   "nbconvert_exporter": "python",
   "pygments_lexer": "ipython3",
   "version": "3.9.13"
  },
  "orig_nbformat": 4,
  "vscode": {
   "interpreter": {
    "hash": "b5bceb7e8a84ff8847f58b8686ae86845aacdffaae9b7539e602163ce2574e80"
   }
  }
 },
 "nbformat": 4,
 "nbformat_minor": 2
}
