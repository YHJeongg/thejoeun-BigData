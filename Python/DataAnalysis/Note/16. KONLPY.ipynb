{
 "cells": [
  {
   "cell_type": "code",
   "execution_count": 1,
   "metadata": {},
   "outputs": [
    {
     "name": "stdout",
     "output_type": "stream",
     "text": [
      "Collecting tweepy==3.10.0\n",
      "  Downloading tweepy-3.10.0-py2.py3-none-any.whl (30 kB)\n",
      "Requirement already satisfied: six>=1.10.0 in /Users/hanbyeol/miniforge3/envs/tensorflow/lib/python3.9/site-packages (from tweepy==3.10.0) (1.16.0)\n",
      "Requirement already satisfied: requests[socks]>=2.11.1 in /Users/hanbyeol/miniforge3/envs/tensorflow/lib/python3.9/site-packages (from tweepy==3.10.0) (2.28.2)\n",
      "Requirement already satisfied: requests-oauthlib>=0.7.0 in /Users/hanbyeol/miniforge3/envs/tensorflow/lib/python3.9/site-packages (from tweepy==3.10.0) (1.3.1)\n",
      "Requirement already satisfied: oauthlib>=3.0.0 in /Users/hanbyeol/miniforge3/envs/tensorflow/lib/python3.9/site-packages (from requests-oauthlib>=0.7.0->tweepy==3.10.0) (3.2.2)\n",
      "Requirement already satisfied: urllib3<1.27,>=1.21.1 in /Users/hanbyeol/miniforge3/envs/tensorflow/lib/python3.9/site-packages (from requests[socks]>=2.11.1->tweepy==3.10.0) (1.26.14)\n",
      "Requirement already satisfied: idna<4,>=2.5 in /Users/hanbyeol/miniforge3/envs/tensorflow/lib/python3.9/site-packages (from requests[socks]>=2.11.1->tweepy==3.10.0) (3.4)\n",
      "Requirement already satisfied: certifi>=2017.4.17 in /Users/hanbyeol/miniforge3/envs/tensorflow/lib/python3.9/site-packages (from requests[socks]>=2.11.1->tweepy==3.10.0) (2022.12.7)\n",
      "Requirement already satisfied: charset-normalizer<4,>=2 in /Users/hanbyeol/miniforge3/envs/tensorflow/lib/python3.9/site-packages (from requests[socks]>=2.11.1->tweepy==3.10.0) (3.0.1)\n",
      "Requirement already satisfied: PySocks!=1.5.7,>=1.5.6 in /Users/hanbyeol/miniforge3/envs/tensorflow/lib/python3.9/site-packages (from requests[socks]>=2.11.1->tweepy==3.10.0) (1.7.1)\n",
      "Installing collected packages: tweepy\n",
      "Successfully installed tweepy-3.10.0\n",
      "Collecting konlpy\n",
      "  Downloading konlpy-0.6.0-py2.py3-none-any.whl (19.4 MB)\n",
      "\u001b[2K     \u001b[90m━━━━━━━━━━━━━━━━━━━━━━━━━━━━━━━━━━━━━━━━\u001b[0m \u001b[32m19.4/19.4 MB\u001b[0m \u001b[31m8.9 MB/s\u001b[0m eta \u001b[36m0:00:00\u001b[0m00:01\u001b[0m00:01\u001b[0m\n",
      "\u001b[?25hRequirement already satisfied: numpy>=1.6 in /Users/hanbyeol/miniforge3/envs/tensorflow/lib/python3.9/site-packages (from konlpy) (1.23.2)\n",
      "Collecting JPype1>=0.7.0\n",
      "  Downloading JPype1-1.4.1.tar.gz (797 kB)\n",
      "\u001b[2K     \u001b[90m━━━━━━━━━━━━━━━━━━━━━━━━━━━━━━━━━━━━━━\u001b[0m \u001b[32m797.9/797.9 kB\u001b[0m \u001b[31m11.6 MB/s\u001b[0m eta \u001b[36m0:00:00\u001b[0ma \u001b[36m0:00:01\u001b[0m\n",
      "\u001b[?25h  Preparing metadata (setup.py) ... \u001b[?25ldone\n",
      "\u001b[?25hRequirement already satisfied: lxml>=4.1.0 in /Users/hanbyeol/miniforge3/envs/tensorflow/lib/python3.9/site-packages (from konlpy) (4.9.2)\n",
      "Requirement already satisfied: packaging in /Users/hanbyeol/miniforge3/envs/tensorflow/lib/python3.9/site-packages (from JPype1>=0.7.0->konlpy) (23.0)\n",
      "Building wheels for collected packages: JPype1\n",
      "  Building wheel for JPype1 (setup.py) ... \u001b[?25ldone\n",
      "\u001b[?25h  Created wheel for JPype1: filename=JPype1-1.4.1-cp39-cp39-macosx_11_0_arm64.whl size=372788 sha256=a5633f3bf22afb51a58dee74a9a8ee6d29fd5a00871199140e795633bef1e183\n",
      "  Stored in directory: /Users/hanbyeol/Library/Caches/pip/wheels/77/3e/9f/247c35a9fb0a81c752b163230f701d8fea158ee21bde5b7637\n",
      "Successfully built JPype1\n",
      "Installing collected packages: JPype1, konlpy\n",
      "Successfully installed JPype1-1.4.1 konlpy-0.6.0\n"
     ]
    }
   ],
   "source": [
    "# !pip install tweepy==3.10.0\n",
    "# !pip install konlpy"
   ]
  },
  {
   "attachments": {},
   "cell_type": "markdown",
   "metadata": {},
   "source": [
    "## Kkma"
   ]
  },
  {
   "cell_type": "code",
   "execution_count": 2,
   "metadata": {},
   "outputs": [],
   "source": [
    "from konlpy.tag import Kkma\n",
    "Kkma = Kkma()"
   ]
  },
  {
   "cell_type": "code",
   "execution_count": 3,
   "metadata": {},
   "outputs": [
    {
     "data": {
      "text/plain": [
       "['나는 자랑스러운 태극기 앞에 자유롭고 정의로운 대한민국의 무궁한 영광을 위하여 충성을 다 할 것을 굳게 다짐 합니다.']"
      ]
     },
     "execution_count": 3,
     "metadata": {},
     "output_type": "execute_result"
    }
   ],
   "source": [
    "Kkma.sentences('나는 자랑스러운 태극기 앞에 자유롭고 정의로운 대한민국의 무궁한 영광을 위하여 충성을 다 할 것을 굳게 다짐 합니다.')"
   ]
  },
  {
   "cell_type": "code",
   "execution_count": 4,
   "metadata": {},
   "outputs": [
    {
     "data": {
      "text/plain": [
       "['나', '자랑', '태극기', '앞', '자유', '정의', '대한', '대한민국', '민국', '무궁', '영광', '충성', '다짐']"
      ]
     },
     "execution_count": 4,
     "metadata": {},
     "output_type": "execute_result"
    }
   ],
   "source": [
    "Kkma.nouns('나는 자랑스러운 태극기 앞에 자유롭고 정의로운 대한민국의 무궁한 영광을 위하여 충성을 다 할 것을 굳게 다짐 합니다.')"
   ]
  },
  {
   "cell_type": "code",
   "execution_count": 5,
   "metadata": {},
   "outputs": [
    {
     "data": {
      "text/plain": [
       "[('나', 'NP'),\n",
       " ('는', 'JX'),\n",
       " ('자랑', 'NNG'),\n",
       " ('스럽', 'XSA'),\n",
       " ('ㄴ', 'ETD'),\n",
       " ('태극기', 'NNG'),\n",
       " ('앞', 'NNG'),\n",
       " ('에', 'JKM'),\n",
       " ('자유', 'NNG'),\n",
       " ('롭', 'XSA'),\n",
       " ('고', 'ECE'),\n",
       " ('정의', 'NNG'),\n",
       " ('롭', 'XSA'),\n",
       " ('ㄴ', 'ETD'),\n",
       " ('대한민국', 'NNG'),\n",
       " ('의', 'JKG'),\n",
       " ('무궁', 'NNG'),\n",
       " ('하', 'XSV'),\n",
       " ('ㄴ', 'ETD'),\n",
       " ('영광', 'NNG'),\n",
       " ('을', 'JKO'),\n",
       " ('위하', 'VV'),\n",
       " ('여', 'ECS'),\n",
       " ('충성', 'NNG'),\n",
       " ('을', 'JKO'),\n",
       " ('다', 'MAG'),\n",
       " ('하', 'VV'),\n",
       " ('ㄹ', 'ETD'),\n",
       " ('것', 'NNB'),\n",
       " ('을', 'JKO'),\n",
       " ('굳', 'VA'),\n",
       " ('게', 'ECD'),\n",
       " ('다짐', 'NNG'),\n",
       " ('하', 'VV'),\n",
       " ('ㅂ니다', 'EFN'),\n",
       " ('.', 'SF')]"
      ]
     },
     "execution_count": 5,
     "metadata": {},
     "output_type": "execute_result"
    }
   ],
   "source": [
    "Kkma.pos('나는 자랑스러운 태극기 앞에 자유롭고 정의로운 대한민국의 무궁한 영광을 위하여 충성을 다 할 것을 굳게 다짐 합니다.')"
   ]
  },
  {
   "attachments": {},
   "cell_type": "markdown",
   "metadata": {},
   "source": [
    "---\n",
    "## Hannanum"
   ]
  },
  {
   "cell_type": "code",
   "execution_count": 6,
   "metadata": {},
   "outputs": [],
   "source": [
    "from konlpy.tag import Hannanum\n",
    "hannanum = Hannanum()"
   ]
  },
  {
   "cell_type": "code",
   "execution_count": 7,
   "metadata": {},
   "outputs": [
    {
     "data": {
      "text/plain": [
       "['나', '자랑', '태극기', '앞', '자유', '정의로운', '대한민국', '무궁한', '영광', '충성', '것', '다짐']"
      ]
     },
     "execution_count": 7,
     "metadata": {},
     "output_type": "execute_result"
    }
   ],
   "source": [
    "hannanum.nouns('나는 자랑스러운 태극기 앞에 자유롭고 정의로운 대한민국의 무궁한 영광을 위하여 충성을 다 할 것을 굳게 다짐 합니다.')"
   ]
  },
  {
   "cell_type": "code",
   "execution_count": 9,
   "metadata": {},
   "outputs": [
    {
     "data": {
      "text/plain": [
       "[('나', 'N'),\n",
       " ('는', 'J'),\n",
       " ('자랑', 'N'),\n",
       " ('스럽', 'X'),\n",
       " ('은', 'E'),\n",
       " ('태극기', 'N'),\n",
       " ('앞', 'N'),\n",
       " ('에', 'J'),\n",
       " ('자유', 'N'),\n",
       " ('롭', 'X'),\n",
       " ('고', 'E'),\n",
       " ('정의로운', 'N'),\n",
       " ('대한민국', 'N'),\n",
       " ('의', 'J'),\n",
       " ('무궁한', 'N'),\n",
       " ('영광', 'N'),\n",
       " ('을', 'J'),\n",
       " ('위하', 'P'),\n",
       " ('어', 'E'),\n",
       " ('충성', 'N'),\n",
       " ('을', 'J'),\n",
       " ('다', 'M'),\n",
       " ('하', 'P'),\n",
       " ('ㄹ', 'E'),\n",
       " ('것', 'N'),\n",
       " ('을', 'J'),\n",
       " ('굳', 'P'),\n",
       " ('게', 'E'),\n",
       " ('다짐', 'N'),\n",
       " ('하', 'P'),\n",
       " ('ㅂ니다', 'E'),\n",
       " ('.', 'S')]"
      ]
     },
     "execution_count": 9,
     "metadata": {},
     "output_type": "execute_result"
    }
   ],
   "source": [
    "hannanum.pos('나는 자랑스러운 태극기 앞에 자유롭고 정의로운 대한민국의 무궁한 영광을 위하여 충성을 다 할 것을 굳게 다짐 합니다.')"
   ]
  },
  {
   "attachments": {},
   "cell_type": "markdown",
   "metadata": {},
   "source": [
    "---\n",
    "## Okt"
   ]
  },
  {
   "cell_type": "code",
   "execution_count": 10,
   "metadata": {},
   "outputs": [],
   "source": [
    "from konlpy.tag import Okt\n",
    "t = Okt()"
   ]
  },
  {
   "cell_type": "code",
   "execution_count": 11,
   "metadata": {},
   "outputs": [
    {
     "data": {
      "text/plain": [
       "['나', '태극기', '앞', '자유', '정의', '대한민국', '무궁', '영광', '위', '충성', '것', '다짐']"
      ]
     },
     "execution_count": 11,
     "metadata": {},
     "output_type": "execute_result"
    }
   ],
   "source": [
    "t.nouns('나는 자랑스러운 태극기 앞에 자유롭고 정의로운 대한민국의 무궁한 영광을 위하여 충성을 다 할 것을 굳게 다짐 합니다.')"
   ]
  },
  {
   "cell_type": "code",
   "execution_count": 12,
   "metadata": {},
   "outputs": [
    {
     "data": {
      "text/plain": [
       "[('나', 'Noun'),\n",
       " ('는', 'Josa'),\n",
       " ('자랑스러운', 'Adjective'),\n",
       " ('태극기', 'Noun'),\n",
       " ('앞', 'Noun'),\n",
       " ('에', 'Josa'),\n",
       " ('자유', 'Noun'),\n",
       " ('롭고', 'Josa'),\n",
       " ('정의', 'Noun'),\n",
       " ('로운', 'Josa'),\n",
       " ('대한민국', 'Noun'),\n",
       " ('의', 'Josa'),\n",
       " ('무궁', 'Noun'),\n",
       " ('한', 'Josa'),\n",
       " ('영광', 'Noun'),\n",
       " ('을', 'Josa'),\n",
       " ('위', 'Noun'),\n",
       " ('하여', 'Verb'),\n",
       " ('충성', 'Noun'),\n",
       " ('을', 'Josa'),\n",
       " ('다', 'Adverb'),\n",
       " ('할', 'Verb'),\n",
       " ('것', 'Noun'),\n",
       " ('을', 'Josa'),\n",
       " ('굳게', 'Adjective'),\n",
       " ('다짐', 'Noun'),\n",
       " ('합니다', 'Verb'),\n",
       " ('.', 'Punctuation')]"
      ]
     },
     "execution_count": 12,
     "metadata": {},
     "output_type": "execute_result"
    }
   ],
   "source": [
    "t.pos('나는 자랑스러운 태극기 앞에 자유롭고 정의로운 대한민국의 무궁한 영광을 위하여 충성을 다 할 것을 굳게 다짐 합니다.')"
   ]
  },
  {
   "cell_type": "code",
   "execution_count": null,
   "metadata": {},
   "outputs": [],
   "source": []
  }
 ],
 "metadata": {
  "kernelspec": {
   "display_name": "tensorflow",
   "language": "python",
   "name": "python3"
  },
  "language_info": {
   "codemirror_mode": {
    "name": "ipython",
    "version": 3
   },
   "file_extension": ".py",
   "mimetype": "text/x-python",
   "name": "python",
   "nbconvert_exporter": "python",
   "pygments_lexer": "ipython3",
   "version": "3.9.13 | packaged by conda-forge | (main, May 27 2022, 17:01:00) \n[Clang 13.0.1 ]"
  },
  "orig_nbformat": 4,
  "vscode": {
   "interpreter": {
    "hash": "b5bceb7e8a84ff8847f58b8686ae86845aacdffaae9b7539e602163ce2574e80"
   }
  }
 },
 "nbformat": 4,
 "nbformat_minor": 2
}
