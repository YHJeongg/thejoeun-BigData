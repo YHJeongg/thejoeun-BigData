{
 "cells": [
  {
   "attachments": {},
   "cell_type": "markdown",
   "metadata": {},
   "source": [
    "# 인터넷의 빅데이터\n",
    "- 빅데이터는 이름 그대로 대규모의 데이터 집합을 의미.\n",
    "- 데이터를 수집하는 것만으로는 어떤 의미도 없음.\n",
    "- 수집한 데이터를 활용해야 가치가 생성"
   ]
  },
  {
   "attachments": {},
   "cell_type": "markdown",
   "metadata": {},
   "source": [
    "### <i> 빅데이터라는 용어는 수집한 데이터를 분석해서 비지니스에 활용하는 것까지를 의미함 <i>"
   ]
  },
  {
   "attachments": {},
   "cell_type": "markdown",
   "metadata": {},
   "source": [
    "- 빅데이터를 분석한다는 것은 수많은 데이터에서 규칙성을 찾는 것을 말함.\n",
    "- 데이터에 포함되어 있는 요소 중에서 중요한 것들을 추출하고 이를 분류해서 규칙성을 찾는 것이 일반적임."
   ]
  },
  {
   "attachments": {},
   "cell_type": "markdown",
   "metadata": {},
   "source": [
    "### 블로그와 SNS\n",
    "- Trend 분석"
   ]
  },
  {
   "attachments": {},
   "cell_type": "markdown",
   "metadata": {},
   "source": [
    "### 인터넷 전자 상거래\n",
    "- 상품 데이터 베이스\n",
    "- 네이버와 다음 같은 사이트에서 다양한 곳의 상품 데이터를 모아 웹API로 제공."
   ]
  },
  {
   "attachments": {},
   "cell_type": "markdown",
   "metadata": {},
   "source": [
    "### 금융정보\n",
    "- 환율, 주식등의 다양한 금융정보\n",
    "- 각 국가의 환율, 주식, 금값등을 실시간으로 추출 가능\n",
    "- 이러한 정보를 정기적으로 추출해서 저장해두고 활용하면 예측 등에 활용할 수 있음."
   ]
  },
  {
   "attachments": {},
   "cell_type": "markdown",
   "metadata": {},
   "source": [
    "### 이미지 데이터\n",
    "- 플리커, 인스타그램 같은 사이트에서 이미지 서비스를 활용하여 이미지 획득 가능.\n",
    "- 이미지와 함께 제공되는 태그 정보등을 활용"
   ]
  },
  {
   "attachments": {},
   "cell_type": "markdown",
   "metadata": {},
   "source": [
    "### 행정기관 정보\n",
    "- 공개 데이터 (서울 열린 데이터 광장)"
   ]
  },
  {
   "attachments": {},
   "cell_type": "markdown",
   "metadata": {},
   "source": [
    "### 위키\n",
    "#### 저작권이 없어진 작품\n",
    "- 고전소설, 고전 그림"
   ]
  },
  {
   "attachments": {},
   "cell_type": "markdown",
   "metadata": {},
   "source": [
    "### 머신러닝 데이터\n",
    "- 공개 데이터"
   ]
  },
  {
   "attachments": {},
   "cell_type": "markdown",
   "metadata": {},
   "source": [
    "---\n",
    "# 스크레이핑(Scraping), 크롤링(Crawling), 데이터 가공"
   ]
  },
  {
   "attachments": {},
   "cell_type": "markdown",
   "metadata": {},
   "source": [
    "### 스크레이핑\n",
    "- 웹사이트에 있는 특정 정보를 추출하는 기술\n",
    "- 웹에 공개된 정보는 HTML 형식\n",
    "- HTML 데이터를 획득하여 데이터베이스에 저장하려면 가공 기술이 필요.\n",
    "- 광고 등의 불필요한 정보를 제거하고 필요한 정보를 가져오려면 사이트의 구조를 분석 해야 가능함."
   ]
  },
  {
   "attachments": {},
   "cell_type": "markdown",
   "metadata": {},
   "source": [
    "### 크롤링\n",
    "- 프로그램이(웹봇) 웹사이트를 정기적으로 정보를 추출하는 기술"
   ]
  },
  {
   "attachments": {},
   "cell_type": "markdown",
   "metadata": {},
   "source": [
    "### 머신러닝에 사용할 수 있는 데이터 구조\n",
    "- 수집한 데이터는 머신러닝을 사용해 다양하게 활용 가능함\n",
    "- 웹에서 내려 받은 데이터는 HTML이므로 머신러닝에 바로 사용 불가\n",
    "- 이를 해결하기 위해 데이터의 구조를 분석하고 필요한 부분만 추출하는 과정이 필요\n",
    "- 텍스트와 이미지 파일을 아무런 처리없이 학습용 데이터로 사용할 수 없다.\n",
    "- 데이터에 어떤 특징 있는지 분석가가 직접 확인하고 가공해야 학습을 시킬 수 있다."
   ]
  },
  {
   "attachments": {},
   "cell_type": "markdown",
   "metadata": {},
   "source": [
    "---\n",
    "### Web Crawling\n",
    "- Web Scraping이라고도 하며 Computer Software 기술로 각종 웹사이트들에서 원하는 정보를 추출하는 것을 의미\n",
    "- 선행학습 : Python 기초, HTML, CSS, JavaScript 구조 및 Tag"
   ]
  },
  {
   "attachments": {},
   "cell_type": "markdown",
   "metadata": {},
   "source": [
    "### Web Crawling 기법\n",
    "- HTML page를 가져와서 HTML/CSS 등을 parsing하고 필요한 데이터만 추출하는 기법\n",
    "- Open API(Rest API)를 제공하는 서비스에 Open API를 호출해서 받은 데이터중 필요한 데이터만 추출하는 기법.\n",
    "- Web Browser를 Programming으로 조작해서 필요한 데이터만 추출하는 기법"
   ]
  },
  {
   "attachments": {},
   "cell_type": "markdown",
   "metadata": {},
   "source": [
    "### Web Crawling의 합법 여부 판단\n",
    "- Site명 뒤에 /robots.txt를 확인하여 허용범위 확인\n"
   ]
  },
  {
   "cell_type": "markdown",
   "metadata": {},
   "source": []
  }
 ],
 "metadata": {
  "kernelspec": {
   "display_name": "tensorflow",
   "language": "python",
   "name": "python3"
  },
  "language_info": {
   "codemirror_mode": {
    "name": "ipython",
    "version": 3
   },
   "file_extension": ".py",
   "mimetype": "text/x-python",
   "name": "python",
   "nbconvert_exporter": "python",
   "pygments_lexer": "ipython3",
   "version": "3.9.13"
  },
  "orig_nbformat": 4,
  "vscode": {
   "interpreter": {
    "hash": "b5bceb7e8a84ff8847f58b8686ae86845aacdffaae9b7539e602163ce2574e80"
   }
  }
 },
 "nbformat": 4,
 "nbformat_minor": 2
}
