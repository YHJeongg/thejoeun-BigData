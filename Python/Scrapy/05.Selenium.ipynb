{
 "cells": [
  {
   "cell_type": "code",
   "execution_count": 2,
   "metadata": {},
   "outputs": [
    {
     "name": "stdout",
     "output_type": "stream",
     "text": [
      "Requirement already satisfied: selenium in /Users/jyh/miniforge3/envs/tensorflow/lib/python3.9/site-packages (4.7.2)\n",
      "Requirement already satisfied: trio~=0.17 in /Users/jyh/miniforge3/envs/tensorflow/lib/python3.9/site-packages (from selenium) (0.22.0)\n",
      "Requirement already satisfied: trio-websocket~=0.9 in /Users/jyh/miniforge3/envs/tensorflow/lib/python3.9/site-packages (from selenium) (0.9.2)\n",
      "Requirement already satisfied: certifi>=2021.10.8 in /Users/jyh/miniforge3/envs/tensorflow/lib/python3.9/site-packages (from selenium) (2022.12.7)\n",
      "Requirement already satisfied: urllib3[socks]~=1.26 in /Users/jyh/miniforge3/envs/tensorflow/lib/python3.9/site-packages (from selenium) (1.26.14)\n",
      "Requirement already satisfied: sortedcontainers in /Users/jyh/miniforge3/envs/tensorflow/lib/python3.9/site-packages (from trio~=0.17->selenium) (2.4.0)\n",
      "Requirement already satisfied: async-generator>=1.9 in /Users/jyh/miniforge3/envs/tensorflow/lib/python3.9/site-packages (from trio~=0.17->selenium) (1.10)\n",
      "Requirement already satisfied: idna in /Users/jyh/miniforge3/envs/tensorflow/lib/python3.9/site-packages (from trio~=0.17->selenium) (3.4)\n",
      "Requirement already satisfied: sniffio in /Users/jyh/miniforge3/envs/tensorflow/lib/python3.9/site-packages (from trio~=0.17->selenium) (1.3.0)\n",
      "Requirement already satisfied: exceptiongroup>=1.0.0rc9 in /Users/jyh/miniforge3/envs/tensorflow/lib/python3.9/site-packages (from trio~=0.17->selenium) (1.1.0)\n",
      "Requirement already satisfied: outcome in /Users/jyh/miniforge3/envs/tensorflow/lib/python3.9/site-packages (from trio~=0.17->selenium) (1.2.0)\n",
      "Requirement already satisfied: attrs>=19.2.0 in /Users/jyh/miniforge3/envs/tensorflow/lib/python3.9/site-packages (from trio~=0.17->selenium) (22.2.0)\n",
      "Requirement already satisfied: wsproto>=0.14 in /Users/jyh/miniforge3/envs/tensorflow/lib/python3.9/site-packages (from trio-websocket~=0.9->selenium) (1.2.0)\n",
      "Requirement already satisfied: PySocks!=1.5.7,<2.0,>=1.5.6 in /Users/jyh/miniforge3/envs/tensorflow/lib/python3.9/site-packages (from urllib3[socks]~=1.26->selenium) (1.7.1)\n",
      "Requirement already satisfied: h11<1,>=0.9.0 in /Users/jyh/miniforge3/envs/tensorflow/lib/python3.9/site-packages (from wsproto>=0.14->trio-websocket~=0.9->selenium) (0.14.0)\n"
     ]
    }
   ],
   "source": [
    "# !pip install selenium"
   ]
  },
  {
   "cell_type": "code",
   "execution_count": 3,
   "metadata": {},
   "outputs": [
    {
     "name": "stdout",
     "output_type": "stream",
     "text": [
      "Collecting webdriver-manager\n",
      "  Downloading webdriver_manager-3.8.5-py2.py3-none-any.whl (27 kB)\n",
      "Collecting python-dotenv\n",
      "  Downloading python_dotenv-0.21.0-py3-none-any.whl (18 kB)\n",
      "Collecting tqdm\n",
      "  Downloading tqdm-4.64.1-py2.py3-none-any.whl (78 kB)\n",
      "\u001b[2K     \u001b[90m━━━━━━━━━━━━━━━━━━━━━━━━━━━━━━━━━━━━━━━━\u001b[0m \u001b[32m78.5/78.5 kB\u001b[0m \u001b[31m4.1 MB/s\u001b[0m eta \u001b[36m0:00:00\u001b[0m\n",
      "\u001b[?25hRequirement already satisfied: requests in /Users/jyh/miniforge3/envs/tensorflow/lib/python3.9/site-packages (from webdriver-manager) (2.28.2)\n",
      "Requirement already satisfied: packaging in /Users/jyh/miniforge3/envs/tensorflow/lib/python3.9/site-packages (from webdriver-manager) (23.0)\n",
      "Requirement already satisfied: idna<4,>=2.5 in /Users/jyh/miniforge3/envs/tensorflow/lib/python3.9/site-packages (from requests->webdriver-manager) (3.4)\n",
      "Requirement already satisfied: charset-normalizer<4,>=2 in /Users/jyh/miniforge3/envs/tensorflow/lib/python3.9/site-packages (from requests->webdriver-manager) (3.0.1)\n",
      "Requirement already satisfied: certifi>=2017.4.17 in /Users/jyh/miniforge3/envs/tensorflow/lib/python3.9/site-packages (from requests->webdriver-manager) (2022.12.7)\n",
      "Requirement already satisfied: urllib3<1.27,>=1.21.1 in /Users/jyh/miniforge3/envs/tensorflow/lib/python3.9/site-packages (from requests->webdriver-manager) (1.26.14)\n",
      "Installing collected packages: tqdm, python-dotenv, webdriver-manager\n",
      "Successfully installed python-dotenv-0.21.0 tqdm-4.64.1 webdriver-manager-3.8.5\n"
     ]
    }
   ],
   "source": [
    "# !pip install webdriver-manager"
   ]
  },
  {
   "cell_type": "code",
   "execution_count": 217,
   "metadata": {},
   "outputs": [],
   "source": [
    "from selenium import webdriver\n",
    "from selenium.webdriver.chrome.service import Service\n",
    "from webdriver_manager.chrome import ChromeDriverManager\n",
    "from selenium.webdriver.common.by import By\n",
    "from bs4 import BeautifulSoup\n",
    "from selenium.webdriver import ActionChains\n",
    "import urllib.request as req"
   ]
  },
  {
   "cell_type": "code",
   "execution_count": 135,
   "metadata": {},
   "outputs": [],
   "source": [
    "# Chrome Browser와 Chrome Driver Version 확인하기\n",
    "chrome_options = webdriver.ChromeOptions()\n",
    "driver = webdriver.Chrome(service=Service(ChromeDriverManager().install()), options=chrome_options)\n",
    "driver.get('http://www.opinet.co.kr/searRgSelect.do')"
   ]
  },
  {
   "cell_type": "code",
   "execution_count": 10,
   "metadata": {},
   "outputs": [
    {
     "data": {
      "text/plain": [
       "True"
      ]
     },
     "execution_count": 10,
     "metadata": {},
     "output_type": "execute_result"
    }
   ],
   "source": [
    "# 전체 화면 Capture 하기\n",
    "driver.save_screenshot(\"../Data/001.png\")"
   ]
  },
  {
   "cell_type": "code",
   "execution_count": 30,
   "metadata": {},
   "outputs": [
    {
     "data": {
      "text/plain": [
       "['강남구',\n",
       " '강동구',\n",
       " '강북구',\n",
       " '강서구',\n",
       " '관악구',\n",
       " '광진구',\n",
       " '구로구',\n",
       " '금천구',\n",
       " '노원구',\n",
       " '도봉구',\n",
       " '동대문구',\n",
       " '동작구',\n",
       " '마포구',\n",
       " '서대문구',\n",
       " '서초구',\n",
       " '성동구',\n",
       " '성북구',\n",
       " '송파구',\n",
       " '양천구',\n",
       " '영등포구',\n",
       " '용산구',\n",
       " '은평구',\n",
       " '종로구',\n",
       " '중구',\n",
       " '중랑구']"
      ]
     },
     "execution_count": 30,
     "metadata": {},
     "output_type": "execute_result"
    }
   ],
   "source": [
    "# 자치구명 정보 가져오기 : //*[@id=\"SIGUNGU_NM0\"]\n",
    "gu_list_raw = driver.find_element(By.XPATH, '//*[@id=\"SIGUNGU_NM0\"]')\n",
    "gu_list = gu_list_raw.find_elements(By.TAG_NAME, 'option')\n",
    "gu_names = [option.get_attribute('value') for option in gu_list]\n",
    "gu_names.remove('')\n",
    "gu_names"
   ]
  },
  {
   "cell_type": "code",
   "execution_count": 15,
   "metadata": {},
   "outputs": [],
   "source": [
    "# 조회버튼 click을 위해 Xpath 가져온다. : //*[@id=\"searRgSelect\"]/span\n",
    "xpath = '//*[@id=\"searRgSelect\"]/span'\n",
    "driver.find_element(By.XPATH, xpath).click()"
   ]
  },
  {
   "cell_type": "code",
   "execution_count": 28,
   "metadata": {},
   "outputs": [],
   "source": [
    "# 자치구 이름을 획득하여 1번자치구를 실행\n",
    "element = driver.find_element(By.ID, 'SIGUNGU_NM0')\n",
    "element.send_keys(gu_names[1])\n",
    "driver.find_element(By.XPATH, xpath).click()\n",
    "driver.find_element(By.XPATH, '//*[@id=\"glopopd_excel\"]/span').click()"
   ]
  },
  {
   "attachments": {},
   "cell_type": "markdown",
   "metadata": {},
   "source": [
    "---\n",
    "### 데이터 수집"
   ]
  },
  {
   "cell_type": "code",
   "execution_count": 29,
   "metadata": {},
   "outputs": [],
   "source": [
    "import time"
   ]
  },
  {
   "cell_type": "code",
   "execution_count": 33,
   "metadata": {},
   "outputs": [],
   "source": [
    "# 화면에 그림을 그리는 시간이 필요하므로 이를 delay 시키도록 한다.\n",
    "for gu in gu_names:\n",
    "    element = driver.find_element(By.ID, 'SIGUNGU_NM0')\n",
    "    element.send_keys(gu)\n",
    "    driver.find_element(By.XPATH, xpath).click()\n",
    "    time.sleep(3)\n",
    "    driver.find_element(By.XPATH, '//*[@id=\"glopopd_excel\"]/span').click()\n",
    "    time.sleep(1)\n",
    "    \n"
   ]
  },
  {
   "cell_type": "code",
   "execution_count": 219,
   "metadata": {},
   "outputs": [
    {
     "ename": "WebDriverException",
     "evalue": "Message: Service /Users/jyh/.wdm/drivers/chromedriver/mac_arm64/109.0.5414/chromedriver unexpectedly exited. Status code was: -9\n",
     "output_type": "error",
     "traceback": [
      "\u001b[0;31m---------------------------------------------------------------------------\u001b[0m",
      "\u001b[0;31mWebDriverException\u001b[0m                        Traceback (most recent call last)",
      "Cell \u001b[0;32mIn[219], line 2\u001b[0m\n\u001b[1;32m      1\u001b[0m chrome_options \u001b[39m=\u001b[39m webdriver\u001b[39m.\u001b[39mChromeOptions()\n\u001b[0;32m----> 2\u001b[0m driver \u001b[39m=\u001b[39m webdriver\u001b[39m.\u001b[39;49mChrome(service\u001b[39m=\u001b[39;49mService(ChromeDriverManager()\u001b[39m.\u001b[39;49minstall()), options\u001b[39m=\u001b[39;49mchrome_options)\n\u001b[1;32m      3\u001b[0m driver\u001b[39m.\u001b[39mget(\u001b[39m'\u001b[39m\u001b[39mhttps://www.starbucks.co.kr/store/store_map.do\u001b[39m\u001b[39m'\u001b[39m)\n",
      "File \u001b[0;32m~/miniforge3/envs/tensorflow/lib/python3.9/site-packages/selenium/webdriver/chrome/webdriver.py:81\u001b[0m, in \u001b[0;36mWebDriver.__init__\u001b[0;34m(self, executable_path, port, options, service_args, desired_capabilities, service_log_path, chrome_options, service, keep_alive)\u001b[0m\n\u001b[1;32m     78\u001b[0m \u001b[39mif\u001b[39;00m \u001b[39mnot\u001b[39;00m service:\n\u001b[1;32m     79\u001b[0m     service \u001b[39m=\u001b[39m Service(executable_path, port, service_args, service_log_path)\n\u001b[0;32m---> 81\u001b[0m \u001b[39msuper\u001b[39;49m()\u001b[39m.\u001b[39;49m\u001b[39m__init__\u001b[39;49m(\n\u001b[1;32m     82\u001b[0m     DesiredCapabilities\u001b[39m.\u001b[39;49mCHROME[\u001b[39m\"\u001b[39;49m\u001b[39mbrowserName\u001b[39;49m\u001b[39m\"\u001b[39;49m],\n\u001b[1;32m     83\u001b[0m     \u001b[39m\"\u001b[39;49m\u001b[39mgoog\u001b[39;49m\u001b[39m\"\u001b[39;49m,\n\u001b[1;32m     84\u001b[0m     port,\n\u001b[1;32m     85\u001b[0m     options,\n\u001b[1;32m     86\u001b[0m     service_args,\n\u001b[1;32m     87\u001b[0m     desired_capabilities,\n\u001b[1;32m     88\u001b[0m     service_log_path,\n\u001b[1;32m     89\u001b[0m     service,\n\u001b[1;32m     90\u001b[0m     keep_alive,\n\u001b[1;32m     91\u001b[0m )\n",
      "File \u001b[0;32m~/miniforge3/envs/tensorflow/lib/python3.9/site-packages/selenium/webdriver/chromium/webdriver.py:103\u001b[0m, in \u001b[0;36mChromiumDriver.__init__\u001b[0;34m(self, browser_name, vendor_prefix, port, options, service_args, desired_capabilities, service_log_path, service, keep_alive)\u001b[0m\n\u001b[1;32m    100\u001b[0m     \u001b[39mraise\u001b[39;00m \u001b[39mAttributeError\u001b[39;00m(\u001b[39m\"\u001b[39m\u001b[39mservice cannot be None\u001b[39m\u001b[39m\"\u001b[39m)\n\u001b[1;32m    102\u001b[0m \u001b[39mself\u001b[39m\u001b[39m.\u001b[39mservice \u001b[39m=\u001b[39m service\n\u001b[0;32m--> 103\u001b[0m \u001b[39mself\u001b[39;49m\u001b[39m.\u001b[39;49mservice\u001b[39m.\u001b[39;49mstart()\n\u001b[1;32m    105\u001b[0m \u001b[39mtry\u001b[39;00m:\n\u001b[1;32m    106\u001b[0m     \u001b[39msuper\u001b[39m()\u001b[39m.\u001b[39m\u001b[39m__init__\u001b[39m(\n\u001b[1;32m    107\u001b[0m         command_executor\u001b[39m=\u001b[39mChromiumRemoteConnection(\n\u001b[1;32m    108\u001b[0m             remote_server_addr\u001b[39m=\u001b[39m\u001b[39mself\u001b[39m\u001b[39m.\u001b[39mservice\u001b[39m.\u001b[39mservice_url,\n\u001b[0;32m   (...)\u001b[0m\n\u001b[1;32m    114\u001b[0m         options\u001b[39m=\u001b[39moptions,\n\u001b[1;32m    115\u001b[0m     )\n",
      "File \u001b[0;32m~/miniforge3/envs/tensorflow/lib/python3.9/site-packages/selenium/webdriver/common/service.py:106\u001b[0m, in \u001b[0;36mService.start\u001b[0;34m(self)\u001b[0m\n\u001b[1;32m    104\u001b[0m count \u001b[39m=\u001b[39m \u001b[39m0\u001b[39m\n\u001b[1;32m    105\u001b[0m \u001b[39mwhile\u001b[39;00m \u001b[39mTrue\u001b[39;00m:\n\u001b[0;32m--> 106\u001b[0m     \u001b[39mself\u001b[39;49m\u001b[39m.\u001b[39;49massert_process_still_running()\n\u001b[1;32m    107\u001b[0m     \u001b[39mif\u001b[39;00m \u001b[39mself\u001b[39m\u001b[39m.\u001b[39mis_connectable():\n\u001b[1;32m    108\u001b[0m         \u001b[39mbreak\u001b[39;00m\n",
      "File \u001b[0;32m~/miniforge3/envs/tensorflow/lib/python3.9/site-packages/selenium/webdriver/common/service.py:119\u001b[0m, in \u001b[0;36mService.assert_process_still_running\u001b[0;34m(self)\u001b[0m\n\u001b[1;32m    117\u001b[0m return_code \u001b[39m=\u001b[39m \u001b[39mself\u001b[39m\u001b[39m.\u001b[39mprocess\u001b[39m.\u001b[39mpoll()\n\u001b[1;32m    118\u001b[0m \u001b[39mif\u001b[39;00m return_code:\n\u001b[0;32m--> 119\u001b[0m     \u001b[39mraise\u001b[39;00m WebDriverException(\u001b[39mf\u001b[39m\u001b[39m\"\u001b[39m\u001b[39mService \u001b[39m\u001b[39m{\u001b[39;00m\u001b[39mself\u001b[39m\u001b[39m.\u001b[39mpath\u001b[39m}\u001b[39;00m\u001b[39m unexpectedly exited. Status code was: \u001b[39m\u001b[39m{\u001b[39;00mreturn_code\u001b[39m}\u001b[39;00m\u001b[39m\"\u001b[39m)\n",
      "\u001b[0;31mWebDriverException\u001b[0m: Message: Service /Users/jyh/.wdm/drivers/chromedriver/mac_arm64/109.0.5414/chromedriver unexpectedly exited. Status code was: -9\n"
     ]
    }
   ],
   "source": [
    "chrome_options = webdriver.ChromeOptions()\n",
    "driver = webdriver.Chrome(service=Service(ChromeDriverManager().install()), options=chrome_options)\n",
    "driver.get('https://www.starbucks.co.kr/store/store_map.do')"
   ]
  },
  {
   "cell_type": "code",
   "execution_count": 83,
   "metadata": {},
   "outputs": [
    {
     "data": {
      "text/plain": [
       "['서울',\n",
       " '경기',\n",
       " '광주',\n",
       " '대구',\n",
       " '대전',\n",
       " '부산',\n",
       " '울산',\n",
       " '인천',\n",
       " '강원',\n",
       " '경남',\n",
       " '경북',\n",
       " '전남',\n",
       " '전북',\n",
       " '충남',\n",
       " '충북',\n",
       " '제주',\n",
       " '세종']"
      ]
     },
     "execution_count": 83,
     "metadata": {},
     "output_type": "execute_result"
    }
   ],
   "source": [
    "sigungu = driver.find_element(By.XPATH, '//*[@id=\"container\"]/div/form/fieldset/div/section/article[1]/article/article[2]/div[1]/div[2]/ul')\n",
    "sigungu_list = sigungu.find_elements(By.CLASS_NAME, 'set_sido_cd_btn')\n",
    "sigungu_names = [option.text for option in sigungu_list]\n",
    "# sigungu_names.remove('')\n",
    "sigungu_names"
   ]
  },
  {
   "cell_type": "code",
   "execution_count": 49,
   "metadata": {},
   "outputs": [],
   "source": [
    "driver.find_element(By.XPATH, '//*[@id=\"mCSB_2_container\"]/ul/li[1]/a').click()"
   ]
  },
  {
   "cell_type": "code",
   "execution_count": 201,
   "metadata": {},
   "outputs": [
    {
     "ename": "KeyboardInterrupt",
     "evalue": "",
     "output_type": "error",
     "traceback": [
      "\u001b[0;31m---------------------------------------------------------------------------\u001b[0m",
      "\u001b[0;31mKeyboardInterrupt\u001b[0m                         Traceback (most recent call last)",
      "Cell \u001b[0;32mIn[201], line 1\u001b[0m\n\u001b[0;32m----> 1\u001b[0m \u001b[39mtry\u001b[39;00m:\n\u001b[1;32m      2\u001b[0m     index \u001b[39m=\u001b[39m \u001b[39m1\u001b[39m\n\u001b[1;32m      3\u001b[0m     nameList \u001b[39m=\u001b[39m []\n",
      "Cell \u001b[0;32mIn[201], line 1\u001b[0m\n\u001b[0;32m----> 1\u001b[0m \u001b[39mtry\u001b[39;00m:\n\u001b[1;32m      2\u001b[0m     index \u001b[39m=\u001b[39m \u001b[39m1\u001b[39m\n\u001b[1;32m      3\u001b[0m     nameList \u001b[39m=\u001b[39m []\n",
      "File \u001b[0;32m~/miniforge3/envs/tensorflow/lib/python3.9/site-packages/debugpy/_vendored/pydevd/_pydevd_bundle/pydevd_frame.py:988\u001b[0m, in \u001b[0;36mPyDBFrame.trace_dispatch\u001b[0;34m(self, frame, event, arg)\u001b[0m\n\u001b[1;32m    986\u001b[0m \u001b[39m# if thread has a suspend flag, we suspend with a busy wait\u001b[39;00m\n\u001b[1;32m    987\u001b[0m \u001b[39mif\u001b[39;00m info\u001b[39m.\u001b[39mpydev_state \u001b[39m==\u001b[39m STATE_SUSPEND:\n\u001b[0;32m--> 988\u001b[0m     \u001b[39mself\u001b[39;49m\u001b[39m.\u001b[39;49mdo_wait_suspend(thread, frame, event, arg)\n\u001b[1;32m    989\u001b[0m     \u001b[39mreturn\u001b[39;00m \u001b[39mself\u001b[39m\u001b[39m.\u001b[39mtrace_dispatch\n\u001b[1;32m    990\u001b[0m \u001b[39melse\u001b[39;00m:\n",
      "File \u001b[0;32m~/miniforge3/envs/tensorflow/lib/python3.9/site-packages/debugpy/_vendored/pydevd/_pydevd_bundle/pydevd_frame.py:165\u001b[0m, in \u001b[0;36mPyDBFrame.do_wait_suspend\u001b[0;34m(self, *args, **kwargs)\u001b[0m\n\u001b[1;32m    164\u001b[0m \u001b[39mdef\u001b[39;00m \u001b[39mdo_wait_suspend\u001b[39m(\u001b[39mself\u001b[39m, \u001b[39m*\u001b[39margs, \u001b[39m*\u001b[39m\u001b[39m*\u001b[39mkwargs):\n\u001b[0;32m--> 165\u001b[0m     \u001b[39mself\u001b[39;49m\u001b[39m.\u001b[39;49m_args[\u001b[39m0\u001b[39;49m]\u001b[39m.\u001b[39;49mdo_wait_suspend(\u001b[39m*\u001b[39;49margs, \u001b[39m*\u001b[39;49m\u001b[39m*\u001b[39;49mkwargs)\n",
      "File \u001b[0;32m~/miniforge3/envs/tensorflow/lib/python3.9/site-packages/debugpy/_vendored/pydevd/pydevd.py:2070\u001b[0m, in \u001b[0;36mPyDB.do_wait_suspend\u001b[0;34m(self, thread, frame, event, arg, exception_type)\u001b[0m\n\u001b[1;32m   2067\u001b[0m             from_this_thread\u001b[39m.\u001b[39mappend(frame_custom_thread_id)\n\u001b[1;32m   2069\u001b[0m     \u001b[39mwith\u001b[39;00m \u001b[39mself\u001b[39m\u001b[39m.\u001b[39m_threads_suspended_single_notification\u001b[39m.\u001b[39mnotify_thread_suspended(thread_id, thread, stop_reason):\n\u001b[0;32m-> 2070\u001b[0m         keep_suspended \u001b[39m=\u001b[39m \u001b[39mself\u001b[39;49m\u001b[39m.\u001b[39;49m_do_wait_suspend(thread, frame, event, arg, suspend_type, from_this_thread, frames_tracker)\n\u001b[1;32m   2072\u001b[0m frames_list \u001b[39m=\u001b[39m \u001b[39mNone\u001b[39;00m\n\u001b[1;32m   2074\u001b[0m \u001b[39mif\u001b[39;00m keep_suspended:\n\u001b[1;32m   2075\u001b[0m     \u001b[39m# This means that we should pause again after a set next statement.\u001b[39;00m\n",
      "File \u001b[0;32m~/miniforge3/envs/tensorflow/lib/python3.9/site-packages/debugpy/_vendored/pydevd/pydevd.py:2106\u001b[0m, in \u001b[0;36mPyDB._do_wait_suspend\u001b[0;34m(self, thread, frame, event, arg, suspend_type, from_this_thread, frames_tracker)\u001b[0m\n\u001b[1;32m   2103\u001b[0m         \u001b[39mself\u001b[39m\u001b[39m.\u001b[39m_call_input_hook()\n\u001b[1;32m   2105\u001b[0m     \u001b[39mself\u001b[39m\u001b[39m.\u001b[39mprocess_internal_commands()\n\u001b[0;32m-> 2106\u001b[0m     time\u001b[39m.\u001b[39;49msleep(\u001b[39m0.01\u001b[39;49m)\n\u001b[1;32m   2108\u001b[0m \u001b[39mself\u001b[39m\u001b[39m.\u001b[39mcancel_async_evaluation(get_current_thread_id(thread), \u001b[39mstr\u001b[39m(\u001b[39mid\u001b[39m(frame)))\n\u001b[1;32m   2110\u001b[0m \u001b[39m# process any stepping instructions\u001b[39;00m\n",
      "\u001b[0;31mKeyboardInterrupt\u001b[0m: "
     ]
    }
   ],
   "source": [
    "try:\n",
    "    index = 1\n",
    "    nameList = []\n",
    "    addrList = []\n",
    "    for gu in sigungu_names:\n",
    "        driver.find_element(By.XPATH, '//*[@id=\"container\"]/div/form/fieldset/div/section/article[1]/article/header[2]/h3/a').click()\n",
    "        # driver.find_element(By.TAG_NAME, soup.find(\"a\", string=gu).text).click()\n",
    "        time.sleep(1)\n",
    "        driver.find_element(By.XPATH, f'//*[@id=\"container\"]/div/form/fieldset/div/section/article[1]/article/article[2]/div[1]/div[2]/ul/li[{index}]/a').click()\n",
    "        time.sleep(1)\n",
    "        driver.find_element(By.XPATH, '//*[@id=\"mCSB_2_container\"]/ul/li[1]/a').click()\n",
    "        time.sleep(1)\n",
    "        name = driver.find_element(By.XPATH, '//*[@id=\"mCSB_3_container\"]/ul')\n",
    "        name_list = name.find_elements(By.CLASS_NAME, 'quickResultLstCon')\n",
    "        name_names = [option.get_attribute('data-name') for option in name_list]\n",
    "        nameList.append(name_names)\n",
    "        addrList.append(addrnames)\n",
    "        time.sleep(5)\n",
    "\n",
    "        index += 1\n",
    "    nameList\n",
    "except Exception as e:\n",
    "    pass\n",
    "\n",
    "print(nameList)\n",
    "print(addrList)"
   ]
  },
  {
   "cell_type": "code",
   "execution_count": 132,
   "metadata": {},
   "outputs": [
    {
     "data": {
      "text/plain": [
       "['',\n",
       " '',\n",
       " '',\n",
       " '',\n",
       " '',\n",
       " '',\n",
       " '',\n",
       " '',\n",
       " '',\n",
       " '',\n",
       " '',\n",
       " '',\n",
       " '',\n",
       " '',\n",
       " '',\n",
       " '',\n",
       " '',\n",
       " '',\n",
       " '',\n",
       " '',\n",
       " '',\n",
       " '',\n",
       " '',\n",
       " '',\n",
       " '',\n",
       " '광주광역시 동구 필문대로 240 (동명동)\\n1522-3232',\n",
       " '광주광역시 동구 동명로 16 (동명동)\\n1522-3232',\n",
       " '광주광역시 동구 남문로 529 (용산동)\\n1522-3232',\n",
       " '',\n",
       " '',\n",
       " '',\n",
       " '',\n",
       " '',\n",
       " '',\n",
       " '',\n",
       " '',\n",
       " '',\n",
       " '',\n",
       " '',\n",
       " '',\n",
       " '',\n",
       " '',\n",
       " '',\n",
       " '',\n",
       " '',\n",
       " '',\n",
       " '',\n",
       " '',\n",
       " '',\n",
       " '',\n",
       " '',\n",
       " '',\n",
       " '',\n",
       " '',\n",
       " '',\n",
       " '',\n",
       " '',\n",
       " '',\n",
       " '',\n",
       " '',\n",
       " '']"
      ]
     },
     "execution_count": 132,
     "metadata": {},
     "output_type": "execute_result"
    }
   ],
   "source": [
    "# driver.find_element(By.XPATH, '//*[@id=\"mCSB_3_container\"]/ul/li[1]/strong')\n",
    "\n",
    "addr = driver.find_element(By.XPATH, '//*[@id=\"mCSB_3_container\"]')\n",
    "addr_list = addr.find_elements(By.CLASS_NAME, 'result_details')\n",
    "addrnames = [option.text for option in addr_list]\n",
    "addrnames"
   ]
  },
  {
   "cell_type": "code",
   "execution_count": 212,
   "metadata": {},
   "outputs": [
    {
     "name": "stdout",
     "output_type": "stream",
     "text": [
      "['역삼아레나빌딩', '논현역사거리', '신사역성일빌딩', '국기원사거리', '대치재경빌딩R', '봉은사역', '압구정윤성빌딩', '코엑스별마당', '삼성역섬유센터R', '압구정R', '수서역R', '양재강남빌딩R', '선릉동신빌딩R', '봉은사로선정릉', '강남오거리', '스타필드코엑스몰R', '강남구청정문', '도곡공원', '강남R', '대치은마사거리', '청담영동대로', '압구정', '신사가로수', '청담스타R', '강남우성', '학동사거리', '대치사거리', '포스코사거리', '을지병원사거리', '신사역', '도곡역', '서울세관사거리', '청담사거리', '한티역', '역삼초교사거리', '코엑스몰', '가로수길', '역삼대로', '역삼포스코', '강남대로', '청담', '삼성도심공항', '삼성교', '학동역', '대치', 'SSG마켓도곡R', '삼성', '선릉세화빌딩', '압구정역', '압구정로', '구역삼사거리', '큰길타워', '강남구청역', '대치역', '포이', '아크플레이스', '학여울역', '선정릉역', '삼성현대힐', 'GS타워', '압구정미소', '선릉역', '코엑스사거리', '역삼럭키', '청담공원', '신압구정', '아크로힐스논현', '강남비젼타워', '압구정로데오역', '르네상스사거리', '포스코', '선릉로', '논현힐탑', '도산가로수길', '대치한티', '수서역사거리', '코엑스아셈타워', '센터필드R', '도산사거리', '강남세곡', '대치삼성프라자', '언주역', '강남역신분당역사', '삼성역', '테헤란로아남타워', '강남논현', '삼성동', '역삼이마트', '미아뉴타운', '강북구청사거리', '미아사거리역', '수유역', '미아역', '파라스파라서울', '발산역사거리', '마곡역', '우장산역', '마곡사이언스타워R', '방화DT', '마곡나루역', '마곡GMG', '가양역', '화곡DT', '양천향교역', '화곡동', '등촌', '염창역', '발산역', '까치산역', '화곡역8번출구', '강서우장산', '등촌대로', '가양역사거리', '내발산', '마곡웰튼', '김포공항DT', '강서NC', '마곡나루공원', '강서구청사거리', '낙성대역', '관악서울대입구R', '신림DT', '서울대역', '낙성대DT', '사당', '보라매대교', '신림사거리', '신림', '신림타임스트림', '서울대입구역', '봉천역', '건국대', '어린이대공원역', '아차산역', '올림픽대교북단', '구의DT', '자양사거리', '군자역', '광나루', '건대스타시티', '자양', '건대입구', '구의역', '광장', '건국클래식', '건대후문', '중곡역', '자양이마트', '뚝섬유원지역', '군자사거리', '금천구청역', '가산에스케이', '독산사거리', '금천시흥', '가산디지털단지역', '금천독산', '가산디지털', 'W-Mall', '마리오아울렛', '가산브이타워', '가산그레이트', '독산역', '가산현대아울렛', '월계역', '월계트레이더스', '상계초교사거리', '공릉DT', '노원마들역', '공릉역', '은행사거리', '노원KT', '광운대', '중계역', '노원역', '월계이마트', '태릉입구역DT', '노원상계', '창동이마트', '쌍문역', '쌍문도봉로', '방학역', '노량진동', '남성역', '상도역', '보라매공원R', '이수자이', '노량진역', '신대방삼거리역', '중앙대', '숭실대입구역', '숭실대', '사당역', '서강대프라자', '상암YTN', '마포용강동', '홍대입구역사거리R', '마포경찰서후문', '공덕', '합정폴리스R', '홍대공항철도역', '마포염리', '서강광흥창역', '합정', '서강대흥역', '서교동사거리', '상암사보이시티', '신촌오거리', '상암디지털큐브', '상수역', '공덕오거리', '서강대', '상암MBC', '홍대역', '동교', '애오개역', '상암DMC', '마포일진빌딩', '마포아크로', '홍대삼거리', '망원역', '마포이마트', '합정메세나몰', '아현역대로', '디지털미디어시티역', '홍대역8번출구', '합정푸르지오', '망원한강공원', '가재울뉴타운', '남가좌사거리', '신촌역', '연희동', '아현역', '홍제역', '연세백양로', '연희DT', '경기대', '신촌', '이대R', '연세종합관', '이대ECC', '연대', '신촌아트레온', '충정로역', '연대동문', '신촌명물거리', '충정타워', '이대역', '북가좌DT', '현대신촌', '방배로', '강남교보타워R', '방배다이치빌딩', '센트럴F1', '서초역이화빌딩', '서초구청', '서초우성사거리', '이수역사거리', '강남대로신사', '서울고속터미널', '강남대로논현R', '방배', '방배카페거리', '서초법원', '청계산입구역', '사당로데오', '파미에파크R', '교대역', '양재역', '논현역', '이수역', '내방역', '서초파라곤', '서울아트센터', '서초중앙로', '센트럴시티', '강남삼성타운', '방배역', '반포역', '남부터미널', '뉴코아강남', '강남2', '교대', '하이브랜드', '신논현역', '영동2교', '남부터미널2', '서래마을입구', '몬테소리', '서초역', '교대법원', '강남GT타워', '서초동', '서울교대', '강남에비뉴', '반포자이', '서이초교사거리', '서울웨이브아트센터', '길음역', '미아이마트', '종암DT', '미아', '성신여대정문', '종암', '삼선교', '월곡역', '고대', '현대미아', '성신여대', '안암역', '한성대입구역', '고대안암병원', '장위뉴타운', '송파나루역DT', '송파헬리오시티', '잠실시그마타워', '문정법원로R', '송파개롱역', '문정하비오', '문정역', '잠실대교남단R', '송파위례', '송파방이DT', '올림픽평화의문', '송파아이파크', '송파사거리', '석촌서호', '문정로데오', '올림픽훼미리', '올림픽공원남문', '방이역', '석촌호수', '잠실푸르지오월드', '잠실새내역', '잠실역', '갤러리아팰리스', '아시아선수촌', '올림픽아파트', '가락본동', '석촌역', '가락시장역', '가든파이브', '송파NC', '송파거여역', '몽촌토성역', '송파KT', '송파마천사거리DT', '목동파리공원', '등촌역', '목동행복한', '신정DT', '목동역', '목동오목로', '목동8단지', '오목교역', '신월IC DT', '목동7단지', '목동5단지', '목동', '현대목동', '목동파라곤', '목동트라팰리스', '목동10단지', '신월동DT', '타임스퀘어R', '샛강역', '영등포역', '당산대로', '여의도IFC몰(L1)R', '여의도KBS R', '여의도화재보험', '국회대로', '영등포KT', '여의도공원R', '국회의사당역', '선유도역', '여의도역R', '선유동이레빌딩', '동여의도', '여의도ABL타워', '영등포신길', '문래역', '당산', '여의도한양증권', '여의도일신', '신세계타임스퀘어B2', '하이테크시티', '여의도', '롯데캐슬여의도', '문래동', '신세계타임스퀘어1F', '여의도호성', '타임스퀘어B2', '영등포본동', '타임스퀘어2F', '여의도의사당', '여의도IFC(1F)', '여의도신한투자증권타워', '선유도역 1번출구', '영등포시장역', '영등포구청역', '서울양평역', '영등포시장교차로', '더현대서울(B2)R', '당산역사거리', '불광역', '구파발사거리', '연신내역사거리', '연신내', '구파발역', '은평구청입구', '은평이마트', '구산역', '수색', '녹번역', '진관DT', '연합뉴스', '혜화역', '경희궁로', '강북삼성병원', '종로평창동', '광화문우체국', '더종로R', '독립문역', '정부서울청사R', '동묘앞역', '종로구청', '북촌로', '종로수송', '새문안로', '안국', '삼청동', '광화문D타워', '적선', '인사', '광화문', '성대입구', '스페이스본', '주얼리시티', '종각', '동숭로아트', '종로관철', '경복궁역', '이마빌딩', '마로니에공원', '종로3가', '대학로', '경복궁사거리', '종로관수', '광화문교보문고', '정동', '종로플레이스', '강북삼성병원1층', '동숭길입구', '서울대치과병원', '서대문역', '숭례문북창', '을지로4가역', '동대문두타', '대한상공회의소R', '국립중앙의료원', '동국대', '신세계본점5F', '을지로내외빌딩R', '대우재단빌딩', '동대문공원', '을지로국제빌딩', '동대입구역', '신당역사거리', '연세세브란스', '회현역', '을지로경기빌딩', '을지로2가', '신세계본점6F', '서울중앙우체국', '한국프레스센터', '명동중앙로', '약수역', '중구저동', '명동길', '서소문로', '신당역', '명동메트로', '숭례문', '순화동더샵', '대한극장', '환구단', '무교동', '문화일보', '태평로', '퍼시픽타워', '남산단암', '황학캐슬', '을지로삼화타워', '소공로', '서소문배재', '을지로한국빌딩', 'KG타워', '시청', '충무로역', '명동역', '명동입구', '무교로', '청계크리스탈스퀘어', '숭례문SG타워', '세종대로', '동대문디자인플라자', '레스케이프호텔R', '별다방', '포포인츠명동', '명동남산', '명일역', '강동구청DT', '강동암사DT', '굽은다리역', '강동역', '둔촌동', '천호로데오', '천호이마트', '길동역', '상일동', '천호역', '명일이마트', '상일동역', '천호사거리', '강일역', '올림픽공원북2문', '천호대로길동', '신도림', '구로디지털타워', '오류동역', '구로디지털로', '구로에이스', '구로하이엔드', '현대디큐브2F', '구로호텔', '현대디큐브B2', '구로고척', '구로NC', '구로오류DT', '구로구청', '고척아이파크', '답십리역', '경희대삼거리', '외대정문', '신설동역', '회기역사거리', '외대', '장한평역', '경희대', '경동1960', '청량리역사', '서울숲역', '금호역', '뚝섬역', '황학사거리', '성수역', '상왕십리역', '왕십리역', '한양대', '엔터식스', '성수이마트', '신금호역', '왕십리역9번출구', '성수', '옥수', '성수낙낙', '효창공원앞역', '서울역서부', '이태원역', '한강진역R', '용산역써밋R', '이촌', '신용산역', '용산파크타워', '남영동', '한남동R', '서울타워', '서울역동자동', '순천향입구', '숙대', '동빙고', '숙대입구역', '용산아이파크몰', '동부이촌동', '숙명여대정문', '용산해링턴스퀘어', '경리단길', '서울역사', '용산리첸시아', '포포인츠서울역', '용산전자랜드', '상봉', '중랑역', '중랑구청', '사가정역', '상봉역', '묵동', '양원역', '중화역', '남이섬', '소노캄고양', '일산애니골DT', '동국대일산병원', '일산풍동DT', '백석중앙로', '일산식사', '풍산이마트', '백석역DT', '백석', '라페스타광장', '일산백마', '웨스턴돔B', '마두역', '일산동구청', '고양대로DT', '일산하늘마을', '과천DT', '과천이마트', '과천', '광명하안대로', '철산역', '광명역', '광명소하DT', '광명소하', '광명사거리역', '철산로데오', '광명하안', '광명철산', '광명AK', '광명롯데몰', '경기광주쌍령DT', '경기광주신현DT', '경기광주송정DT', '경기광주', '경기광주초월역DT', '곤지암IC DT', '구리갈매역', '구리돌다리', '구리장자호수', '구리인창DT', '구리수택', '구리토평DT', '산본사거리', '산본', '산본역', '산본동', '금정AK', '산본역서부사거리', '다산지금', '남양주연평DT', '다산진건', '도농역', '남양주진접DT', '리버사이드팔당DT', '별내불암로', '평내DT', '별내', '평내호평역', '더북한강R', '남양주화도DT', '다산DT', '남양주묵현DT', '별내별가람역', '남양주삼패', '판교유스페이스', '판교알파돔타워', '판교아비뉴프랑R', '야탑터미널', '분당이매', '분당율동공원', '정자동', '판교알파돔시티', '서판교', '판교브릿지타워', '판교봇들마을', '판교역로', '서현', '미금역사거리', '수내로', '정자역', '분당구청', '뉴코아야탑', '미금역', '수내', '정자상떼뷰', '서현미래에셋', '야탑글라스', '정자', '분당서울대병원4', '분당서울대병원1', '서현N타운', '서현역', '오리역', '분당정자', '수내역', '정자아데나', '분당이마트', '판교H스퀘어', '오리역삼거리', '판교HIPEX', '네이버1784', '미금역2001아울렛', '분당서현역AK R', '분당궁내DT', '야탑역사거리', '남한산성입구역', '단대오거리역', '성남모란DT', '수원금곡', '수원세류DT', '수원호매실', '수원권선DT', '수원권선', '수원이마트', '수원세류역DT', '수원롯데백화점2F', '수원연무DT', '북수원IC DT', '수원천천', '수원성균관대', '수원정자사거리DT', '수원종합운동장', '수원경수인계DT', '수원KBS DT', '수원인계DT', '수원이비스', '수원매산', '동수원DT', '수원인계', '아주대', '수원나혜석거리', '수원역AK R', '시흥대야DT', '배곧아브뉴프랑', '시흥대야동', '배곧신도시', '시흥대야', '시흥P.아울렛 3F', '시흥P.아울렛 1F', '시화로데오', '시흥월곶', '시흥장현', '시흥능곡역', '시흥목감DT', '시흥은계', '안산고잔센트럴타워', '안산상공회의소', '고잔이마트', '안산문화광장', '안산중앙', '안산중앙역', '안산트레이더스', '안성석정DT', '안성공도DT', '안성서동대로DT', '안성계동DT', '스타필드안성R', '호계지식산업센터', '평촌역DT', '안양범계', '안양운동장사거리DT', '범계역', '안양호계DT', '평촌호계', '평촌로데오', '평촌역사거리', '안양비산DT', '평촌아크로', '범계로데오', '인덕원역', '안양덕현DT', '안양이마트', '안양역R', '명학역', '안양역', '안양석수DT', '안양일번가', '양주옥정타운', '양주송추DT', '양주덕정역DT', '양주고읍DT', '양주광사DT', '양주고읍', '양주옥정공원', '양주회정DT', '북오산IC DT', '오산세교', '오산갈곶DT', '오산IC DT', '오산시청', '오산원동DT', '서동탄DT', '오산수청DT', '용인세브란스병원', '용인상하DT', '용인언남', '기흥역AK R', '용인고매동', '용인보라DT', '용인동백DT', '용인마북DT', '용인기흥구청', '수원IC DT', '용인보정', '구성트레이더스', '강남대', '용인흥덕DT', '기흥테라타워', '용인보정DT', '한국민속촌DT', '동백이마트', '용인김량장DT', '용인에버랜드', '용인시청DT', '용인처인구청', '용인마평DT', '용인역북', '의왕청계DT', '의왕포일', '의왕내손', '의왕롯데몰', '의정부예술의전당DT', '의정부신곡DT', '의정부용현DT', '의정부공원', '의정부민락', '의정부회룡역DT', '의정부녹양DT', '의정부금오', '신세계의정부2F', '신세계의정부6F', '의정부송산역DT', '의정부민락타운', '의정부장암DT', '의정부이마트', '이천증포DT', '이천사음DT', '이천하이닉스', '마장휴게소', '이천터미널', '포천DT', '포천호국로DT', '하남미사DT', '하남황산사거리', '스타필드위례1FR', '미사역효성', '하남덕풍', '하남미사', '스타필드하남1F(티바나)', '신세계하남2F', '스타필드하남2FR', '하남신장', '하남시청', '하남시청역', '하남풍산역', '하남감일', '미사역그랑파사쥬', '미사역파라곤스퀘어', '화성시청', '화성봉담', '화성향남', '동탄카림R', '동탄능동DT', '동탄역', '화성병점DT', '동탄영천', '신영통DT', '동탄센트럴파크', '동탄', '동탄광장', '동탄이마트', '동탄라크몽', '화성남양DT', '화성봉담DT', '동탄목동', '화성반월DT', '동탄트레이더스', '화성향남DT', '송산그린시티', '동탄타임테라스', '동탄IX타워', '동탄역롯데R', '화성안녕DT', '동탄디엠시티', '화성향남2지구', '동탄호수공원', '삼송역', '원흥역', '스타필드고양3F(티바나)', '스타필드고양1FR', '고양삼송', '고양DT', '행신역', '원당DT', '화정', '화정역', '고양행신', '고양원흥DT', '고양향동', '지축역', '화정호국로', '신흥역', '성남위례', '성남이마트', '판교아이스퀘어', '성남모란삼성프라자', '남위례역', '여주DT', '여주P.아울렛입구', '여주P.아울렛', '여주자유CC', '평택비전', '평택서정DT', '평택안중DT', '평택로데오', '평택AK플라자', '평택송탄', '평택이충DT', '평택죽백DT', '평택청북DT', '평택대DT', '평택고덕', '평택이마트', '평택세교DT', '주엽강선', '일산가로수길R', '일산가구단지', '일산덕이DT', '일산후곡', '킨텍스이마트', '일산탄현제니스', '대화역', '일산주엽', '현대킨텍스', '문촌사거리', '일산탄현동', '풍무역DT', '풍무사거리DT', '김포아이앤씨', '김포구래', '김포장기커낼', '김포감정DT', '김포운양', '김포이마트', '김포풍무DT', '김포시청', '김포장기', '김포현대아울렛3층', '김포구래DT', '김포석모DT', '김포걸포', '부천상동역', '스타필드부천', '부천옥길', '부천심곡DT', '뉴코아부천4층', '중동이마트', '부천중동DT', '부천신중동역', '역곡역DT', '부천중동', '부천시청역', '현대중동', '부천플레이도시', '송내역', '부천', '부천상동', '중동디지털프라자', '부천옥길DT', '부천상동DT', '부천원종DT', '부천중동센트럴', '춘의역DT', '신중동', '소사역', '광교갤러리아9F', '수원법조타운', '광교역', '광교엘포트R', '영통R', '수원망포DT', '수원광교', '수원트레이더스', '경희대국제캠퍼스', '수원망포역', '광교이마트', '수원영통', '광교더샵레이크시티', '수원청명', '안산한양대', '안산한대앞역', '안산삼성프라자', '경기양평', '더양평DTR', '용인죽전역R', '죽전단국대', '수지동천', '죽전', '수지성복DT', '광교중앙로', '죽전이마트', '신세계경기', '수지이마트', '수지풍덕천', '수지구청역', '수지성복역', '파주P.아울렛1F', '파주야당역', '파주금촌역', '파주금릉역', '파주운정', '파주P.아울렛3F', '파주문산DT', '파주가람', '파주산내', '파주야당DT', '파주운정이마트', '지행역', '동두천DT', '광주운남DT', '광주선운DT', '광주산정DT', '광주흑석DT', '광주송정역', '광주수완DT', '광주신가DT', '광주쌍암', '광주장덕', '광주하남', '광주첨단', '광산수완', '광주첨단DT', '광주비아DT', '광주송정로', '광주월산DT', '광주주월DT', '광주효천DT', '광주봉선로', '광주서문대로', '광주방림DT', '광주봉선중앙', '광주진월', '광주봉선', '봉선이마트', '광주지산DT', '광주동명', '광주지원DT', '광주지산유원지입구', '광주황금', '충장서림', '충장일가', '조선대', '광주충장DT', '광주오치', '광주연제DT', '광주신안DT', '광주매곡DT', '광주두암타운', '광주일곡', '광주북구청', '광주첨단신용', '광주용두DT', '전남대', '광주용봉', '동광주DT', '광주신세계DT', '광주상무DT', '광주화정DT', '광주상무중앙로', '광주상무시민로', '광주풍암', '광주금호DT', '광주상무대교', '광주동림', '신세계광주', '광주상무', '상무치평', '상무역', '신세계광주신관B1', '서광주DT', '대구영대병원역DT', '대구앞산DT', '대구가톨릭대학교병원', '대구앞산스카이타운', '계명대동산병원', '대구죽전역', '대구월곡DT', '대구광장', '대구월촌역', '대구진천역', '대구도원DT', '대구월성', '대구수목원', '대구성서IC DT', '대구감삼DT', '대구상인역', '대구두류DT', '대구상인DT', '대구계명대', '대구성서', '대구서부정류장역', '대구이월드', '대구대천', '신세계대구3F(티바나)', '신세계대구8FR', '동대구로DT', '대구팔공산', '대구봉무', '동대구터미널', '대구동촌유원지', '반야월이마트', '대구팔공로DT', '대구율하', '대구각산역DT', '대구평리DT', '대구수성도서관DT', '대구그랜드호텔R', '국립대구박물관DT', '대구수성호수R', '대구수성동', '대구수성네거리DT', '대구중동DT', '대구중동네거리DT', '대구상동DT', '대구황금DT', '대구삼성화재', '대구시지', '대구만촌DT', '대구수성하이츠', '동아수성', '수성리더스', '수성레이크', '대구범어제니스', '대구두산DT', '대구들안길DT', '대구만촌이마트', '대구시티센터', '대구계산', '대구중앙로역', '대구공평DT', '반월당', '동성로광장', '동성로로데오', '대구종로고택', '대구반월삼성', '대구228중앙공원', '대구칠성DT', '대구유통단지', '대구칠곡대로DT', '대구동천', '대구침산DT', '대구칠곡', '경북대', '대구복현DT', '대구칠곡읍내DT', '대구칠성이마트', '대구금호', '대구테크노폴리스', '대구죽곡', '대전한남대DT', '대전IC DT', '대전신탄진DT', '대전송촌', '신탄진금강DT', '대전터미널DT', '대전판암DT', '대전스타일마켓', '대전가오', '대전터미널', '대전신흥역DT', '대전용전DT', '대전정부청사역', '대전건양대병원', '대전탄방역', '대전복수', '대전둔산남로', '대전둔산로', '대전법원', '대전가수원DT', '대전수침교DT', '대전관저', '대전대덕로', '대전목원대', '대전둔산', '대전만년', '대전시청사거리', '대전월평', '둔산은하수', '대전탄방', '대전시청역', '대전호텔', '월평트레이더스', '둔산삼성프라자', '대전갈마DT', '대전용문DT', '대전반석역', '대전도안DT', '대전장대', '대전유성구청', '대전지족', '대전유성', '대전전민', '대전관평동', '대전조이마루', '대전노은', '충남대정문', '대전테크노밸리', '신세계대전R', '대전현대아울렛', '대전유성NC', '대전구암DT', '신세계대전B1', '대전엑스포스카이', '대전대사DT', '대전태평', '대전유천DT', '대전중앙로R', '대전세이1층', '은행동', '대전목동DT', '금정남산동DT', '금정구청DT', '온천장역DT', '부산대정문', '부산대역', '부산대', '금정이마트', '금정구서', '용호동W스퀘어', '동명대DT', 'BIFC Mall', '부산대연역', '경성대', '부산대연못골', '부산역라마다', '부산역아스티', '부산역', '범일동일타워', '서면중앙대로R', '서면로R', '서면NC', '양정역', '동의대역', '부산개금역', '서면전포역', '부산서면중앙로', '서면서전로', '부산서면', '서면역', '부전역', '서면센트럴스퀘어', '서면메디컬거리', '서면중앙', '서면트레이더스', '서면엠디엠타워', '서면문화로', '부산덕천역', '부산화명역', '화명강변DT', '부산구남역DT', '부산만덕DT', '사상주례DT', '동서대DT', '사상역', '부산사상로', '삼락강변DT', '사상엄궁DT', '다대포비치', '부산하단', '다대포DT', '을숙도강변DT', '부산괴정역', '하단중앙', '사하장림DT', '부산교대역DT', '연산시티타워', '부산교대역', '부산연산역', '연산중앙로', '부산교대', '연산트레이더스', '부산시청', '영도청학DT', '영도대교', '부산광복로R', '자갈치역', '국제시장', '부산중앙역', 'BIFF광장', '남포동역', '기장역DT', '동부산DT', '부산정관', '부산P.아울렛', '동부산테마파크', '광안수변공원', '수영역', '금련산역', '광안비치', '수영망미DT', '광안리', '남천', '밀락더마켓', '스타필드명지', '명지강변DT', '명지국제신도시', '명지오션시티', '명지퍼스트월드', '동래역', '명륜역', '사직구장', '부산안락DT', '동래미남DT', '부산사직', '부산온천장역', '부산동래', '부산송도해수욕장', '부민사거리', '부산동대신역', '동아대병원', '더해운대R', '수영강변DT', '센텀파크', '해운대역', '부산재송DT', '해운대', '센텀로', '센텀신세계B1', '해운대달맞이DT', '센텀그린타워', '부산송정비치', '장산역', '하버타운', '벡스코', '베네시티', '팔레드시즈', '블루스퀘어', '센텀시티역', '제니스스퀘어', '마린시티아이파크', '해운대달맞이', '해운대이마트', '센텀드림월드', '센텀KNN', '월드마크센텀', '해운대NC', '해운대좌동', '해운대 엑스더스카이', '센텀신세계3F', '해운대중동역', '센텀몰1F', '그랜드조선 부산', '울산번영로', '울산대공원', '울산도산사거리DT', '울산시청사거리DT', '울산남구청DT', '울산중리사거리DT', '울산센트럴', '울산삼산로', '울산대', '울산디자인거리', '울산신복', '울산삼산대로', '울산번영로DT', '울산삼성프라자', '울산신정DT', '울산호계DT', '울산북구청DT', '울산진장', '울산정자비치DT', '울산화봉', '북울산삼성프라자', '울산간절곶', '울산 KTX', '울산MBC DT', '울산성안', '울산성남삼거리', '울산약사DT', '울산국가정원', '현대동구', '울산테라스파크', '울산일산비치DT', '울산대학교병원', '현대동구5F', '울산주전비치', '인천강화DT', '경인교대입구역DT', '인천계양', '인천작전', '인천계산역DT', '계양BMW', '인천학익DT', '인천용현DT', '주안역', '인하대', '제물포역DT', '인천주안DT', '인천도화DT', '인하대역', 'SSG랜더스필드2F', 'SSG랜더스필드1F', '인천용일사거리DT', '송림트레이더스', '인천갈산DT', '인천삼산', '부평사거리', '부평시장역', '부평', '동암역', '부평역', '인천테크노밸리', '인천성모병원', '인천스퀘어원', '인천동춘DT', '인천송도', '송도트리플R', '인천송도DT', '인천연수', '송도캠퍼스타운역', '송도커넬워크', '송도센트럴파크', '연수이마트', '인천옥련DT', '송도캐슬파크', '송도현대아울렛', '송도컨벤시아대로DT', '검단사거리역', '인천청라센트럴', '인천청라한신', '인천당하DT', '인천청라타워돔', '인천서구청DT', '인천청라', '루원시티', '인천공촌DT', '인천청라DT', '부평삼거리역DT', '인천구월아시아드', '인천터미널사거리', '인천서창', '인천간석DT', '인천예술회관역', '구월로데오', '구월길병원', '인천구월', '인천논현', '인천구월중앙', '간석중앙공원DT', '영종하늘도시', '인천공항T2출국', '인천공항T2에어', '인천공항T2입국', '영종도운서역', '인천공항중앙', '인천공항랜드', '동해DT', '동해IC DT', '설악쏘라노', '속초DT', '속초중앙로', '속초교동DT', '춘천구봉산R', '춘천후평DT', '춘천석사DT', '춘천명동', '춘천이마트', '강원대', '춘천퇴계DT', '춘천온의', '비발디파크', '오션월드', '강릉송정DT', '강릉강문해변', '강릉교동광장', '강릉중앙로', '강릉안목항', '강릉율곡DT', '소노델피노', '원주반곡DT', '원주명륜DT', '원주무실', '원주혁신도시', '원주터미널', '오크밸리', '원주IC DT', '원주단구DT', '김해구산DT', '김해진영DT', '신세계김해R', '김해이마트', '김해대로DT', '김해외동DT', '김해율하', '김해삼계', '김해내동', '김해주촌DT', '김해가야로DT', '장유율하', '진영신도시', '김해율하신도시', '김해금관대로DT', '밀양DT', '경남사천DT', '사천벌리', '진주평거', '진주칠암DT', '진주중안', '진주신안', '진주경상대', '진주혁신도시', '경상대칠암캠퍼스', '마산회원DT', '창원상남로', '마산역DT', '마산해안대로DT', '진해자은DT', '창원역DT', '창원호계DT', '창원마창대교', '삼성창원병원', '마산터미널', '창원상남사거리', '진해용원', '창원리베라', '창원상남중앙', '창원상남동R', '신세계마산', '창원시티세븐', '경남대', '창원용지호수', '마산월남동DT', '마산봉암로DT', '창원반림', '창원유니시티', '창원NC파크R', '창원중앙역', '진해부산신항', '창원대로DT', '창원사파', '진해장천', '창원파티마병원', '창원내서', '창원팔용', '통영이마트', '거제대로DT', '거제고현', '소노캄거제', '디큐브거제', '거제옥포DT', '남양산IC DT', '양산증산역', '양산가촌', '양산덕계DT', '양산터미널', '양산범어', '양산이마트', '양산물금DT', '경산중방DT', '영남대아트센터', '영남대중앙도서관', '영남대', '대구가톨릭대', '경산이마트', '대구대학교', '경산임당역DT', '경산중산', '경산하양DT', '경주보문', '경주터미널DT', '경주황성', '경주대릉원', '경주보문호수DT', '경주중앙', '경주보문로DT', '경주용강DT', '구미상모DT', '구미도량DT', '구미옥계', '구미시청DT', '구미인의', '구미금오산DT', '구미', '구미인동', '구미공단', '구미광평DT', '구미문성DT', '구미확장단지', '상주무양DT', '포항쌍용DT', '포항오천', '포항대이', '포항이마트', '포항시청', '포항세명기독병원', '포항포스코DT', '문경새재', '김천구미역', '김천시청DT', '안동이마트', '안동병원', '안동시청', '안동강변DT', '안동옥동', '영천완산DT', '포항죽도DT', '포항장성DT', '포항양덕', '포항중앙', '포항영일대비치', '포항중앙로DT', '전남광양DT', '광양LF', '광양마동DT', '목포터미널DT', '목포하당', '목포북항DT', '목포옥암', '목포평화광장', '목포용해DT', '목포남악', '전남도청DT', '순천연향', '순천신대', '순천호수공원', '순천조례', '순천용당DT', '순천팔마DT', '순천이마트', '여수해양공원', '여수학동DT', '여수웅천', '여수둔덕DT', '여수여서', '여수여천', '여수신월DT', '여수마리나', '전남화순DT', '전남나주', '나주혁신DT', '전북김제DT', '전북남원DT', '익산모현', '익산영등DT', '익산영등', '익산동산DT', '전주송천DT', '전북대병원DT', '전주혁신도시', '전주덕진광장DT', '전북대', '전주에코시티', '전주인후DT', '전주호성DT', '전주IC DT', '전주평화DT', '전주백제대로DT', '전주효자DT', '전주서신', '전주홍산로', '전주한옥마을', '전북도청', '전주경원', '전주신시가지', '전주효천DT', '전북정읍DT', '군산나운DT', '군산수송', '군산대', '군산조촌DT', '군산수송DT', '공주동학사DT', '공주신관', '공주DT', '논산중앙', '논산내동DT', '충남보령DT', '서산예천DT', '서산호수', '천안신부R', '천안청당', '천안안서', '천안IC DT', '천안신부동', '신세계천안아산', '천안청당신도시', '천안대로DT', '천안서북이마트', '천안백석', '천안불당DT', '천안서부대로DT', '천안두정역DT', '천안시청', '천안쌍용역', '천안신불당', '천안성정DT', '천안불당', '천안두정', '천안이마트', '천안업성레이크', '충남홍성DT', '충남도청', '계룡대로DT', '당진시곡DT', '당진문예의전당', '아산방축DT', '아산배방', '아산탕정', '아산용화', '아산터미널', '아산권곡', '아산모종', '천안아산역', '충북증평', '청주용암DT', '청주용담DT', '청주서문', '충주호암DT', '충주시청DT', '충주터미널', '충주연수', '충주교현DT', '충북혁신도시', '제천DT', '청주비하DT', '청주오송', '청주봉명DT', '청주강서', '청주지웰시티', '현대충청', '청주터미널', '청주복대지웰', '청주이마트', '청주사직DT', '청주성화', '충북대', '청주분평DT', '오창호수공원', '청주율량DT', '오창과학단지', '제주신화월드R', '제주에듀시티', '제주성산DT', '제주중문DT', '제주송악산', '서귀포DT', '성산일출봉', '제주중문', '서귀포올레', '제주도남DT', '제주협재', '제주외도DT', '제주삼화DT', '제주시청', '제주함덕', '제주노형공원', '제주애월DT', '제주칠성', '제주노형', '제주용담DT', '신제주이마트', '제주노형로', '제주노형DT', '제주서해안로DT', '제주일도DT', '제주공항DT']\n",
      "['서울특별시 강남구 언주로 425 (역삼동)', '서울특별시 강남구 강남대로 538 (논현동)', '서울특별시 강남구 강남대로 584 (논현동)', '서울특별시 강남구 테헤란로 125 (역삼동)', '서울특별시 강남구 남부순환로 2947 (대치동)', '서울특별시 강남구 봉은사로 619 (삼성동)', '서울특별시 강남구 논현로 834 (신사동)', '서울특별시 강남구 영동대로 513 (삼성동)', '서울특별시 강남구 테헤란로 518 (대치동)', '서울특별시 강남구 언주로 861 (신사동)', '서울특별시 강남구 광평로 281 (수서동)', '서울특별시 강남구 남부순환로 2621 (도곡동)', '서울특별시 강남구 테헤란로 409 (삼성동)', '서울특별시 강남구 봉은사로 446 (삼성동)', '서울특별시 강남구 봉은사로2길 39 (역삼동)', '서울특별시 강남구 영동대로 513 (삼성동) 코엑스 A106호', '서울특별시 강남구 학동로 419 (청담동)', '서울특별시 강남구 도곡로 205 (역삼동)', '서울특별시 강남구 강남대로 390 (역삼동)', '서울특별시 강남구 도곡로 457 (대치동)', '서울특별시 강남구 영동대로 720 (청담동)', '서울특별시 강남구 압구정로30길 17 (신사동)', '서울특별시 강남구 가로수길 59', '서울특별시 강남구 도산대로57길 24 (청담동)', '서울특별시 강남구 강남대로 328 (역삼동)', '서울특별시 강남구 도산대로 328 (논현동)', '서울특별시 강남구 삼성로 402 (대치동)', '서울특별시 강남구 테헤란로 505 (삼성동) 화진빌딩', '서울특별시 강남구 논현로 752 (논현동,구산빌딩)', '서울특별시 강남구 도산대로 108 (논현동) 렉스타워', '서울특별시 강남구 남부순환로 2909 (대치동)', '서울특별시 강남구 언주로 650 (논현동) 한국건설기술인협회', '서울특별시 강남구 도산대로 458 (청담동) 리츠타워', '서울특별시 강남구 도곡로 408, 디마크빌딩 101호 (대치동)', '서울특별시 강남구 역삼로 123 (역삼동)', '서울특별시 강남구 영동대로 513 (삼성동) O103호', '서울특별시 강남구 논현로175길 94, 1~2층 (신사동)', '서울특별시 강남구 테헤란로 211, 한국고등교육재단빌딩 1층 (역삼동)', '서울특별시 강남구 테헤란로 134, P&S TOWER (역삼동)', '서울특별시 강남구 강남대로 456, 한석타워 2층 1-2호 (역삼동)', '서울특별시 강남구 도산대로 532, 인희빌딩 1층 (청담동)', '서울특별시 강남구 테헤란로87길 33 (삼성동)', '서울특별시 강남구 영동대로86길 12, 동남유화빌딩 1층', '서울특별시 강남구 논현로 704 (논현동)', '서울특별시 강남구 도곡로 511 (대치동)', '서울특별시 강남구 언주로30길 57, 타워팰리스Ⅱ F 지하1층 (도곡동)', '서울특별시 강남구 테헤란로 443, 애플트리타워 1층 (삼성동)', '서울특별시 강남구 테헤란로64길 18 (대치동) 1층', '서울특별시 강남구 압구정로 170, 관영빌딩 1층 지하1층 (신사동)', '서울특별시 강남구 압구정로42길 32 (신사동)', '서울특별시 강남구 논현로 401 (역삼동)', '서울특별시 강남구 테헤란로 223, 큰길타워빌딩 (역삼동)', '서울특별시 강남구 선릉로 669, 웰빙센터 1층 (논현동)', '서울특별시 강남구 남부순환로 2936 (대치동) 107호', '서울특별시 강남구 논현로 88 (개포동)', '서울특별시 강남구 테헤란로 142 (역삼동)', '서울특별시 강남구 영동대로 215 (대치동)', '서울특별시 강남구 봉은사로 407 (삼성동) 에프오빌딩', '서울특별시 강남구 삼성로 605 (삼성동)', '서울특별시 강남구 논현로 508 (역삼동)', '서울특별시 강남구 논현로 841 (신사동)', '서울특별시 강남구 테헤란로 334, LG화재 빌딩 (역삼동)', '서울특별시 강남구 영동대로 616 (삼성동)', '서울특별시 강남구 도곡로 183 (역삼동)', '서울특별시 강남구 학동로 506 (삼성동)', '서울특별시 강남구 언주로174길 29 (신사동)', '서울특별시 강남구 봉은사로 304, 금강빌딩 1-2층 (역삼동)', '서울특별시 강남구 테헤란로2길 27, 1층 101호 (역삼동)', '서울특별시 강남구 선릉로 836, 삼원빌딩 1,2층 (청담동)', '서울특별시 강남구 테헤란로 306 (역삼동)', '서울특별시 강남구 삼성로86길 7, 1층 (대치동)', '서울특별시 강남구 선릉로93길 22, 대흥빌딩 1층 (역삼동)', '서울특별시 강남구 논현로 648 (논현동)', '서울특별시 강남구 도산대로 134, 2층 (논현동)', '서울특별시 강남구 선릉로 324 (대치동)', '서울특별시 강남구 광평로 280 (수서동)', '서울특별시 강남구 영동대로 517 (삼성동)', '서울특별시 강남구 테헤란로 231 (역삼동)', '서울특별시 강남구 언주로 727 (논현동)', '서울특별시 강남구 헌릉로569길 18 (세곡동)', '서울특별시 강남구 영동대로 237 (대치동)', '서울특별시 강남구 봉은사로 222 (역삼동)', '서울특별시 강남구 강남대로 396 (역삼동)', '서울특별시 강남구 테헤란로 620 (대치동)', '서울특별시 강남구 테헤란로 311 (역삼동)', '서울특별시 강남구 강남대로 512 (논현동)', '서울특별시 강남구 영동대로96길 12 (삼성동)', '서울특별시 강남구 역삼로 310 (역삼동)', '서울특별시 강북구 삼양로 161 (미아동)', '서울특별시 강북구 도봉로 365 (수유동)', '서울특별시 강북구 도봉로 32 (미아동)', '서울특별시 강북구 도봉로 342 (번동)', '서울특별시 강북구 도봉로 196 (미아동)', '서울특별시 강북구 삼양로 689 (우이동) 파라스파라서울 지하1층', '서울특별시 강서구 공항대로 248 (마곡동)', '서울특별시 강서구 공항대로 168 (마곡동)', '서울특별시 강서구 강서로 267 (내발산동)', '서울특별시 강서구 마곡동로 62 (마곡동)', '서울특별시 강서구 방화대로 375 (방화동)', '서울특별시 강서구 마곡중앙로 161-17 (마곡동)', '서울특별시 강서구 마곡중앙6로 16 (마곡동) 117,118,119,120호', '서울특별시 강서구 양천로 476 (등촌동)', '서울특별시 강서구 등촌로 57 (화곡동)', '서울특별시 강서구 강서로 463 (마곡동)', '서울특별시 강서구 화곡로 142(화곡동)', '서울특별시 강서구 공항대로 329 (등촌동)', '서울특별시 강서구 공항대로 627 (염창동)', '서울특별시 강서구 강서로 388 (등촌동) 그랜드마트', '서울특별시 강서구 강서로13길 3 (화곡동)', '서울특별시 강서구 강서로 179 (화곡동), 1층 일부', '서울특별시 강서구 강서로 231 (화곡동, 우장산역 해링턴 타워), 116/117/118/119/120호', '서울특별시 강서구 공항대로 543 (염창동, 센터스퀘어)', '서울특별시 강서구 화곡로 416 (등촌동) 가양더스카이벨리5차 지식산업센터 101, 102, 114,~117호', '서울특별시 강서구 강서로 323 (내발산동), 101/102호', '서울특별시 강서구 마곡중앙5로 22 (마곡동), 104/105/106호', '서울특별시 강서구 개화동로 517 (방화동)', '서울특별시 강서구 강서로56길 17 (등촌동)', '서울특별시 강서구 마곡중앙5로 47 (마곡동)', '서울특별시 강서구 화곡로 350 (화곡동)', '서울특별시 관악구 남부순환로 1908 (봉천동)', '서울특별시 관악구 관악로 158 (봉천동)', '서울특별시 관악구 남부순환로 1419 (신림동)', '서울특별시 관악구 남부순환로 1817 (봉천동)', '서울특별시 관악구 남부순환로 1948 (봉천동)', '서울특별시 관악구 남부순환로 2082-25', '서울특별시 관악구 보라매로3길 23 (봉천동) 1층', '서울특별시 관악구 남부순환로 1619 (신림동)', '서울특별시 관악구 신림로 355-1 (신림동)', '서울특별시 관악구 신림로 330 타임스트림 1층', '서울특별시 관악구 남부순환로 1812 (봉천동)', '서울특별시 관악구 남부순환로 1730 (봉천동)', '서울특별시 광진구 능동로 117 (화양동)', '서울특별시 광진구 능동로 243 (군자동)', '서울특별시 광진구 천호대로 676 (구의동)', '서울특별시 광진구 광나루로 608 (구의동)', '서울특별시 광진구 광나루로 519 (구의동)', '서울특별시 광진구 아차산로 355', '서울특별시 광진구 천호대로 548 (군자동) 중앙빌딩', '서울특별시 광진구 아차산로 607, 1,2층 (광장동)', '서울특별시 광진구 아차산로 262 (자양동)', '서울특별시 광진구 능동로 50 (자양동)', '서울특별시 광진구 능동로 107 (화양동)', '서울특별시 광진구 아차산로 373 (구의동)', '서울특별시 광진구 아차산로 537-17 (광장동)', '서울특별시 광진구 능동로 90 (자양동) 더 클래식500', '서울특별시 광진구 능동로 172 (화양동)', '서울특별시 광진구 능동로 400 (중곡동) 1층 108,109,110,111,112,118 6개호실', '서울특별시 광진구 아차산로 272 (자양동) 지하1층', '서울특별시 광진구 능동로 18 (자양동, 이튼타워리버3차)', '서울특별시 광진구 천호대로 549 (중곡동) 1층', '서울특별시 금천구 시흥대로73길 67 (시흥동)112,113,114,115호', '서울특별시 금천구 가산디지털1로 171 (가산동)', '서울특별시 금천구 시흥대로 426 (독산동)', '서울특별시 금천구 시흥대로 164 (시흥동)', '서울특별시 금천구 벚꽃로 298 (가산동)', '서울특별시 금천구 두산로 70 (독산동)', '서울특별시 금천구 가산디지털1로 168 (가산동)', '서울특별시 금천구 디지털로 188 (가산동)', '서울특별시 금천구 벚꽃로 266 마리오아울렛3관', '서울특별시 금천구 가산디지털1로 128 (가산동)', '서울특별시 금천구 디지털로9길 32, 갑을그레이트밸리 1층 (가산동)', '서울특별시 금천구 가산디지털1로 16 (가산동), 107-2, 108, 109호', '서울특별시 금천구 디지털로10길 9 (가산동), 1층 일부', '서울특별시 노원구 초안산로2라길26 월계동(104,105,106호)', '서울특별시 노원구 마들로3길 15 (월계동)', '서울특별시 노원구 노원로 449 (상계동)', '서울특별시 노원구 동일로 1015 (공릉동)', '서울특별시 노원구 노원로 569 (상계동, 임광아파트)', '서울특별시 노원구 동일로 1081 (공릉동)', '서울특별시 노원구 중계로 217, 중흥빌딩 103,203호 (중계동)', '서울특별시 노원구 노해로 502, (주)KT 노원사옥 (상계동)', '서울특별시 노원구 석계로 104 (월계동)', '서울특별시 노원구 동일로 1339, 대한빌딩 (상계동)', '서울특별시 노원구 동일로 1413 (상계동) 1층', '서울특별시 노원구 마들로3길 15 (월계동)', '서울특별시 노원구 화랑로 469 (공릉동)', '서울특별시 노원구 동일로215길 2 (상계동)', '서울특별시 도봉구 노해로65길 4 (창동)', '서울특별시 도봉구 도봉로 480 (창동)', '서울특별시 도봉구 도봉로 444 (창동)', '서울특별시 도봉구 도봉로 684 (방학동)101,102,113,114,115호', '서울특별시 동작구 노량진로 190 (노량진동, 고려교육타워-어바니엘한강) 101호~105호', '서울특별시 동작구 사당로 219 (사당동)', '서울특별시 동작구 상도로37길 1 (상도1동)', '서울특별시 동작구 보라매로5길 35 (신대방동, 파크스퀘어,보라매현대APT)', '서울특별시 동작구 사당로 300 (사당동 이수자이)', '서울특별시 동작구 노량진로 134 (노량진동)', '서울특별시 동작구 상도로 102 (상도동)', '서울특별시 동작구 흑석로 75-1 (흑석동)', '서울특별시 동작구 상도로 354 (상도동)', '서울특별시 동작구 사당로 4 (상도동)', '서울특별시 동작구 동작대로 21, 양지빌딩 1-3층 (사당동)', '서울특별시 마포구 백범로 35 (신수동)', '서울특별시 마포구 상암산로 76 (상암동)', '서울특별시 마포구 토정로 295 (용강동)', '서울특별시 마포구 양화로 125 (서교동)', '서울특별시 마포구 마포대로 173-14 (아현동)', '서울특별시 마포구 마포대로 130 (공덕동)', '서울특별시 마포구 양화로 45 (서교동, 메세나폴리스)', '서울특별시 마포구 양화로 178 (동교동)', '서울특별시 마포구 독막로 311 (염리동)', '서울특별시 마포구 서강로 69 (창전동)', '서울특별시 마포구 월드컵로1길 14 (합정동) 마포한강푸르지오 110, 111, 112-2', '서울특별시 마포구 백범로 89-5 (대흥동)', '서울특별시 마포구 양화로 105 (서교동)', '서울특별시 마포구 월드컵북로54길 17 (상암동)', '서울특별시 마포구 신촌로16길 10 (노고산동)', '서울특별시 마포구 상암산로 34', '서울특별시 마포구 독막로 88 (상수동)', '서울특별시 마포구 마포대로 86 (도화동) 창강빌딩', '서울특별시 마포구 백범로 23 (신수동)', '서울특별시 마포구 성암로 267 (상암동)', '서울특별시 마포구 양화로 165, 상진빌딩 1층 (동교동)', '서울특별시 마포구 월드컵북로 22, 영준빌딩 1층 (동교동)', '서울특별시 마포구 마포대로 201, 마포트라팰리스II (아현동)', '서울특별시 마포구 월드컵북로 375, DMC이안오피스텔1단지 102호,202호 (상암동)', '서울특별시 마포구 마포대로 45, 일진빌딩 1층 (도화동)', '서울특별시 마포구 마포대로 68 (도화동) 마포아크로타워', '서울특별시 마포구 와우산로 64 (상수동)', '서울특별시 마포구 월드컵로 74 (서교동)', '서울특별시 마포구 백범로 212 (신공덕동) 마포이마트', '서울특별시 마포구 양화로 45 (서교동, 메세나폴리스)', '서울특별시 마포구 신촌로 262 (아현동)', '서울특별시 마포구 성암로 179 (상암동)', '서울특별시 마포구 양화로 166 (동교동)', '서울특별시 마포구 월드컵로3길 14 (합정동, 마포 한강 2차 푸르지오)', '서울특별시 마포구 마포나루길 435 (망원동)', '서울특별시 서대문구 가재울미래로 2 (남가좌동, DMC파크뷰자이)', '서울특별시 서대문구 거북골로 84 (남가좌동, DMC에코자이104동)', '서울특별시 서대문구 신촌로 73 (창천동)', '서울특별시 서대문구 연희로 97 (연희동)', '서울특별시 서대문구 신촌로35길 10 (북아현동, e편한세상신촌 4단지)', '서울특별시 서대문구 통일로 451 (홍제동)', '서울특별시 서대문구 연세로 50 (신촌동) 연세대학교', '서울특별시 서대문구 연희로 144 (연희동)', '서울특별시 서대문구 충정로 53 (충정로2가)', '서울특별시 서대문구 연세로 10-1 (창천동)', '서울특별시 서대문구 이화여대길 34 (대현동)', '서울특별시 서대문구 연세로 50, 연세세브란스 종합관 (신촌동)', '서울특별시 서대문구 이화여대길 52 (대현동) 이화여자대학교 B415호', '서울특별시 서대문구 연세로 35 (창천동)', '서울특별시 서대문구 신촌로 129 (창천동)', '서울특별시 서대문구 충정로 23', '서울특별시 서대문구 성산로 565 (대신동)', '서울특별시 서대문구 명물길 24, 1-5층 (창천동)', '서울특별시 서대문구 서소문로 21, 충정타워빌딩 1층 (충정로3가)', '서울특별시 서대문구 신촌로 183 (대현동)', '서울특별시 서대문구 응암로 85 (북가좌동)', '서울특별시 서대문구 신촌로 83 (창천동)', '서울특별시 서초구 방배로 52 (방배동)', '서울특별시 서초구 강남대로 465 (서초동)', '서울특별시 서초구 방배로 114 (방배동)', '서울특별시 서초구 신반포로 176 (반포동)', '서울특별시 서초구 반포대로21길 3 (서초동)', '서울특별시 서초구 남부순환로 2557 (서초동)', '서울특별시 서초구 강남대로 343 (서초동)', '서울특별시 서초구 서초대로 3-4 (방배동, 방배디오슈페리움1)', '서울특별시 서초구 강남대로 595 (잠원동)', '서울특별시 서초구 신반포로 194 (반포동)', '서울특별시 서초구 강남대로85길 5 (반포동)', '서울특별시 서초구 방배로 211', '서울특별시 서초구 방배중앙로 162 (방배동)', '서울특별시 서초구 서초대로 274 (서초동)', '서울특별시 서초구 청계산로 203 (신원동)', '서울특별시 서초구 방배천로 5-4(방배동)', '서울특별시 서초구 사평대로 205 (반포동) CENTRALCITY', '서울특별시 서초구 서초중앙로 138 (서초동) 우림빌딩', '서울특별시 서초구 강남대로 202 (양재동) 모산빌딩', '서울특별시 서초구 강남대로 557 (잠원동) 1~2층', '서울특별시 서초구 동작대로 112 (방배동)', '서울특별시 서초구 방배로 184 (방배동) 대풍빌딩', '서울특별시 서초구 서초대로74길 29 (서초동) 서초파라곤', '서울특별시 서초구 남부순환로 2395 (서초동) 호경빌딩', '서울특별시 서초구 서초중앙로 225', '서울특별시 서초구 신반포로 176 (반포동)', '서울특별시 서초구 서초대로78길 24 (서초동)', '서울특별시 서초구 방배로 84 (방배동)', '서울특별시 서초구 신반포로 257 (잠원동) 신반포11차상가', '서울특별시 서초구 서초중앙로 26, 래미안서초유니빌 1층 101호 (서초동)', '서울특별시 서초구 잠원로 69 (잠원동) 킴스클럽', '서울특별시 서초구 서초대로77길 27, 유빌딩 1,2층 (서초동)', '서울특별시 서초구 서초중앙로 118 (서초동)', '서울특별시 서초구 매헌로 16, 리빙관 101호 (양재동)', '서울특별시 서초구 강남대로 483 (반포동) 청호빌딩', '서울특별시 서초구 논현로 139, 대흥빌딩 (양재동)', '서울특별시 서초구 효령로 274 (서초동)', '서울특별시 서초구 서래로 48 (반포동)', '서울특별시 서초구 강남대로 399 (서초동)', '서울특별시 서초구 반포대로 118 (서초동)', '서울특별시 서초구 서초중앙로 164 (서초동)', '서울특별시 서초구 서초대로 411, GT타워 (서초동)', '서울특별시 서초구 남부순환로339길 64, 현우빌딩 1층 (서초동)', '서울특별시 서초구 서초중앙로 64, 1층 (서초동)', '서울특별시 서초구 서초대로77길 62, 강남역아이파크 B102~B105 (서초동)', '서울특별시 서초구 잠원로 24 (반포동)', '서울특별시 서초구 사임당로 143 (서초동)', '서울특별시 서초구 잠원로 145-35 (잠원동)', '서울특별시 성북구 정릉로 376 (돈암동)', '서울특별시 성북구 도봉로 17 (길음동)', '서울특별시 성북구 종암로 17 (종암동)', '서울특별시 성북구 동소문로 314 (하월곡동)', '서울특별시 성북구 보문로34길 62 (동선동2가)', '서울특별시 성북구 종암로 122 (종암동)', '서울특별시 성북구 동소문로 10 (동소문동2가)', '서울특별시 성북구 화랑로 76, 101-1호 (하월곡동)', '서울특별시 성북구 고려대로24길 51 (안암동5가)', '서울특별시 성북구 동소문로 315 (길음동) 지하1층', '서울특별시 성북구 동소문로24길 12 (동선동1가)', '서울특별시 성북구 고려대로 102-2 (안암동5가)', '서울특별시 성북구 성북로 11 (성북동1가)', '서울특별시 성북구 고려대로 73 (안암동5가)', '서울특별시 성북구 장월로38길 4 (장위동)', '서울특별시 송파구 오금로 142 (송파동)', '서울특별시 송파구 송파대로 345 (가락동, 헬리오시티)', '서울특별시 송파구 올림픽로 289 (신천동)', '서울특별시 송파구 송파대로 201 (문정동)', '서울특별시 송파구 오금로 420 (가락동)', '서울특별시 송파구 송파대로 111 (문정동, 파크하비오) 204동 104호~107호', '서울특별시 송파구 송파대로 167 (문정동)테라타워 B동 137호~139호,204호', '서울특별시 송파구 송파대로 570 타워 730 1층', '서울특별시 송파구 위례광장로 230 (장지동, 위례2차아이파크)', '서울특별시 송파구 오금로 241 (방이동)', '서울특별시 송파구 위례성대로 38 (방이동) 해태그린피아빌라트', '서울특별시 송파구 법원로 55 (문정동)', '서울특별시 송파구 송파대로 386 (송파동)', '서울특별시 송파구 석촌호수로 176 (삼전동)', '서울특별시 송파구 동남로 141 (가락동)', '서울특별시 송파구 중대로 68 (문정동)', '서울특별시 송파구 위례성대로 102 (방이동)', '서울특별시 송파구 마천로 53, 1~2층 (오금동)', '서울특별시 송파구 석촌호수로 262 (송파동)', '서울특별시 송파구 올림픽로35가길 9, 잠실푸르지오월드마크 1층 (신천동)', '서울특별시 송파구 올림픽로 96 (잠실동)', '서울특별시 송파구 송파대로 562 (신천동, 웰리스타워,삼성웰리스아파트) 1층,2층', '서울특별시 송파구 올림픽로 212, 갤러리아 팰리스 (잠실동)', '서울특별시 송파구 백제고분로 69 (잠실동)', '서울특별시 송파구 양재대로 1220 (방이동)', '서울특별시 송파구 송파대로30길 13 (가락동)', '서울특별시 송파구 백제고분로 358, 1층 (석촌동)', '서울특별시 송파구 중대로 121, 롯데캐슬 파인힐 1층 (가락동)', '서울특별시 송파구 충민로 10 (문정동) 가든파이브툴', '서울특별시 송파구 충민로 66 (문정동) 가든파이브라이프 패션관1층', '서울특별시 송파구 오금로 493 (거여동)', '서울특별시 송파구 위례성대로 6 (방이동)', '서울특별시 송파구 잠실로 209 (신천동), 오피스빌딩 1층 2~4호', '서울특별시 송파구 거마로 78 (마천동)', '서울특별시 양천구 목동동로 377 (목동)', '서울특별시 양천구 공항대로 566 (목동) 1층 2층', '서울특별시 양천구 목동동로 309 (목동)', '서울특별시 양천구 신월로 341 (신정동)', '서울특별시 양천구 목동로 203 (신정동) 1층일부', '서울특별시 양천구 오목로 279 (목동) 102,103,104,105호', '서울특별시 양천구 목동서로 299 (신정동)', '서울특별시 양천구 오목로 354 (목동)', '서울특별시 양천구 남부순환로 430 (신월동)', '서울특별시 양천구 목동서로 213 (목동) 세신비젼프라자', '서울특별시 양천구 목동동로 411, 1동 116호(목동, 부영그린타운3차)', '서울특별시 양천구 목동서로 67 (목동) 우성에펠타운', '서울특별시 양천구 목동동로 257 (목동, 현대하이페리온) 지하2층', '서울특별시 양천구 목동서로 155, 목동파라곤 1층 (목동)', '서울특별시 양천구 오목로 299 (목동)', '서울특별시 양천구 목동서로 401 (신정동, 대림아크로빌), 상가A동 101,101-1호', '서울특별시 양천구 남부순환로 319 (신월동)', '서울특별시 영등포구 영중로 15 지하 1층 (영등포동4가)', '서울특별시 영등포구 여의대방로 376 (여의도동)', '서울특별시 영등포구 경인로 870 (영등포동1가)', '서울특별시 영등포구 양평로 22 (당산동6가)', '서울특별시 영등포구 국제금융로 10 (여의도동) 지하1층 178호', '서울특별시 영등포구 의사당대로 26 (여의도동)', '서울특별시 영등포구 국제금융로6길 38 (여의도동)', '서울특별시 영등포구 국회대로 786 (여의도동)', '서울특별시 영등포구 영중로 119 (영등포동8가)', '서울특별시 영등포구 여의공원로 101 (여의도동)', '서울특별시 영등포구 의사당대로 8 (여의도동)', '서울특별시 영등포구 양평로 115 (양평동4가)', '서울특별시 영등포구 의사당대로 83 (여의도동) 1층', '서울특별시 영등포구 선유동2로 57 (양평제1동) 이레빌딩', '서울특별시 영등포구 국제금융로 86 (여의도동) 롯데캐슬 아이비', '서울특별시 영등포구 의사당대로 147 (여의도동) 알리안츠타워', '서울특별시 영등포구 신길로 137 (신길동) 1,2층', '서울특별시 영등포구 당산로 34 (문래동3가)', '서울특별시 영등포구 양평로 64 (당산동6가)', '서울특별시 영등포구 국제금융로6길 7 (여의도동) 한양증권', '서울특별시 영등포구 은행로 11 (여의도동) 1층 1부', '서울특별시 영등포구 영중로 9, 신세계타임스퀘어점 리빙관 지하2층 (영등포동4가)', '서울특별시 영등포구 경인로 775 (문래동3가) 에이스하이테크시티', '서울특별시 영등포구 국제금융로2길 28 (여의도동)', '서울특별시 영등포구 의사당대로 127 (여의도동, 롯데캐슬엠파이어) 1층 104호', '서울특별시 영등포구 선유로 64, 대창타운빌 1층 (문래동3가)', '서울특별시 영등포구 영중로 9, 신세계백화점 리빙관 1층 (영등포동4가)', '서울특별시 영등포구 여의대방로65길 24, 호성빌딩 1층 (여의도동)', '서울특별시 영등포구 영중로 15, 지하2층 (영등포동4가)', '서울특별시 영등포구 영등포로 254 (영등포동3가)', '서울특별시 영등포구 영중로 15 지상2층 (영등포동4가)', '서울특별시 영등포구 국회대로74길 12 (여의도동)', '서울특별시 영등포구 국제금융로 10 (여의도동)', '서울특별시 영등포구 여의대로 70 (여의도동)', '서울특별시 영등포구 양평로 128 (양평동5가)양평로 128', '서울특별시 영등포구 영중로 79 (영등포동7가)', '서울특별시 영등포구 국회대로 558', '서울특별시 영등포구 선유서로24길 6 (양평동1가, 영등포 중흥 S-CLASS)', '서울특별시 영등포구 영중로 45 (영등포동6가)', '서울특별시 영등포구 여의대로 108 (여의도동)', '서울특별시 영등포구 양평로 47 (당산동5가)', '서울특별시 은평구 통일로 715 (대조동)', '서울특별시 은평구 진관3로 21 은평엘크루 101동 105-108호', '서울특별시 은평구 통일로 842 (불광동)', '서울특별시 은평구 통일로 867 (갈현동)', '서울특별시 은평구 진관2로 12', '서울특별시 은평구 은평로 170 (응암동)', '서울특별시 은평구 은평로 111 (응암동)', '서울특별시 은평구 연서로 146 (대조동)', '서울특별시 은평구 수색로 216 (수색동)', '서울특별시 은평구 통일로 636 (녹번동) 110,111,112,113,114,115호', '서울특별시 은평구 연서로 645 (진관동)', '서울특별시 종로구 율곡로2길 25 (수송동)', '서울특별시 종로구 대학로12길 4 (동숭동)1~2층', '서울특별시 종로구 새문안로3길 15 (당주동)', '서울특별시 종로구 새문안로 29 (평동)', '서울특별시 종로구 평창12길 3 (평창동)', '서울특별시 종로구 종로 6 (서린동)', '서울특별시 종로구 종로 51 (종로2가)', '서울특별시 종로구 송월길 155 경희궁자이 4단지 1층 팰리스애비뉴 4114~4119호', '서울특별시 종로구 새문안로5가길 28 (적선동)', '서울특별시 종로구 종로 344 (숭인동, 대우디오빌) 101호 일부, 201호 일부', '서울특별시 종로구 삼봉로 71 (수송동)', '서울특별시 종로구 북촌로4길 23 (계동)', '서울특별시 종로구 종로5길 30 (청진동) 1~3층', '서울특별시 종로구 새문안로 92 (신문로1가) 광화문오피시아빌딩', '서울특별시 종로구 북촌로 5-1 (재동)', '서울특별시 종로구 삼청로 111-1 (삼청동)', '서울특별시 종로구 종로3길 17 (청진동) D타워', '서울특별시 종로구 새문안로5길 55, 노스게이트빌딩 1층 (적선동)', '서울특별시 종로구 인사동길 14 (인사동)', '서울특별시 종로구 세종대로 167 (세종로)', '서울특별시 종로구 창경궁로 235 (명륜3가)', '서울특별시 종로구 사직로8길 4 (사직동) 광화문 풍림스페이스본', '서울특별시 종로구 종로 183 (인의동) 효성주얼리시티', '서울특별시 종로구 종로 64 (종로2가)', '서울특별시 종로구 동숭길 110 (동숭동)', '서울특별시 종로구 종로12길 21, 2층 (관철동)', '서울특별시 종로구 자하문로4길 6, 1층 (통의동)', '서울특별시 종로구 종로1길 42 (수송동)', '서울특별시 종로구 대학로 116, 1-2층 (동숭동)', '서울특별시 종로구 종로 113-1, 1-4층 (종로3가)', '서울특별시 종로구 대학로 57, 홍익대학교 대학로캠퍼스 內 (연건동)', '서울특별시 종로구 율곡로 6, B동 101호(중학동, 트윈트리타워)', '서울특별시 종로구 삼일대로20길 13 (관수동)', '서울특별시 종로구 종로 1 (종로1가)', '서울특별시 종로구 새문안로 42 (신문로2가)', '서울특별시 종로구 창경궁로 120 (인의동)', '서울특별시 종로구 새문안로 29 (평동)', '서울특별시 종로구 대학로 146 (혜화동)', '서울특별시 종로구 대학로 101 서울대학교 치과병원 신관1층', '서울특별시 종로구 통일로 134 (평동)', '서울특별시 중구 세종대로12길 12 (남대문로4가)', '서울특별시 중구 을지로 170 (을지로4가)', '서울특별시 중구 장충단로 275 (을지로6가)', '서울특별시 중구 세종대로 39 (남대문로4가) 1층', '서울특별시 중구 을지로 251 (을지로6가)', '서울특별시 중구 서애로 1길 11', '서울특별시 중구 소공로 63 (충무로1가)', '서울특별시 중구 을지로 51 (을지로2가)', '서울특별시 중구 퇴계로 18 (남대문로5가)', '서울특별시 중구 장충단로 229 (광희동1가)', '서울특별시 중구 남대문로 109 (다동)', '서울특별시 중구 장충단로 166 (장충동1가)', '서울특별시 중구 다산로 258 (흥인동)', '서울특별시 중구 통일로 10 (남대문로5가)', '서울특별시 중구 퇴계로 72 (회현동) 리더스뷰남산', '서울특별시 중구 남대문로10길 9 (삼각동) 경기빌딩', '서울특별시 중구 삼일대로 358 (을지로2가)', '서울특별시 중구 퇴계로 77 (충무로1가)', '서울특별시 중구 소공로 70 (충무로 1가) 서울 중앙 우체국', '서울특별시 중구 세종대로 124 (태평로1가)', '서울특별시 중구 명동길 60 (명동 2가)', '서울특별시 중구 다산로 129 (신당동)', '서울특별시 중구 수표로 34 (저동2가)', '서울특별시 중구 명동10길 41', '서울특별시 중구 서소문로 120 (서소문동) 대한빌딩', '서울특별시 중구 퇴계로 385, 1층 (흥인동)', '서울특별시 중구 명동9가길 14 (을지로1가) 메트로호텔', '서울특별시 중구 세종대로 17, 와이즈타워 1층 (남대문로5가)', '서울특별시 중구 칠패로 27, 1층 (순화동)', '서울특별시 중구 퇴계로 212 (필동2가) 1,2층', '서울특별시 중구 소공로 112 (소공동)', '서울특별시 중구 무교로 21 (무교동) 코오롱빌딩 1층', '서울특별시 중구 새문안로 22 (충정로1가) 문화일보', '서울특별시 중구 세종대로 72, 대영빌딩 1층 (태평로2가)', '서울특별시 중구 세종대로9길 41, 퍼시픽타워 1층 (서소문동)', '서울특별시 중구 소월로 10, 단암빌딩 (남대문로5가)', '서울특별시 중구 청계천로 400 (황학동) 롯데캐슬베네치아', '서울특별시 중구 을지로5길 16 (을지로2가) 1층', '서울특별시 중구 남대문로7길 19, 삼영빌딩 1층 일부 (소공동)', '서울특별시 중구 서소문로 99 (서소문동)', '서울특별시 중구 을지로 50, 1층 (을지로 2가)', '서울특별시 중구 통일로 92 (순화동) KG타워', '서울특별시 중구 을지로 19, 삼성화재삼성빌딩 1층 (을지로1가)', '서울특별시 중구 퇴계로 197, 충무빌딩 1층 (필동 2가)', '서울특별시 중구 퇴계로 101, 건물 전체 (충무로 1가)', '서울특별시 중구 남대문로 68-1 (명동2가)', '서울특별시 중구 무교로 15 (무교동)', '서울특별시 중구 청계천로 106 (수표동)', '서울특별시 중구 세종대로 14 (남대문로5가)', '서울특별시 중구 세종대로 135-5 (태평로1가)', '서울특별시 중구 을지로 281 (을지로7가) 디자인장터', '서울특별시 중구 퇴계로 67 (회현동1가)', '서울특별시 중구 퇴계로 100 (회현동2가)', '서울특별시 중구 삼일대로10길 36 (저동2가)', '서울특별시 중구 퇴계로 132 (남산동3가)', '서울특별시 강동구 양재대로 1647 (명일동)', '서울특별시 강동구 성내로 32 (성내동)', '서울특별시 강동구 고덕로 43 (암사동)', '서울특별시 강동구 양재대로 1568 (명일동, 원일타워)', '서울특별시 강동구 천호대로 1089 (천호동, 강동 헤르셔)', '서울특별시 강동구 양재대로 1303 (성내동) 평원빌딩', '서울특별시 강동구 천호대로 1037 (천호동)', '서울특별시 강동구 천호대로 1015-14 (천호동) 이마트별관', '서울특별시 강동구 양재대로 1487 (길동)', '서울특별시 강동구 상일로10길 36, 1~2층 (상일동)', '서울특별시 강동구 천호대로 1012, 태승빌딩 (성내동)', '서울특별시 강동구 동남로75길 5 (명일동) 명일이마트별관주차장', '서울특별시 강동구 고덕로 399 (고덕동, 고덕센트럴푸르지오)', '서울특별시 강동구 올림픽로 651 (천호동)', '서울특별시 강동구 고덕로 429 (강일동), 1층', '서울특별시 강동구 강동대로 199 (성내동)', '서울특별시 강동구 천호대로 1131 거산 유팰리스', '서울특별시 구로구 경인로 610 (신도림동)', '서울특별시 구로구 디지털로32길 30 (구로동)', '서울특별시 구로구 경인로 216 (오류동)', '서울특별시 구로구 디지털로33길 11, 에이스테크노8차 1층 (구로동)', '서울특별시 구로구 디지털로 285, 에이스트윈타워1차 103호 (구로동)', '서울특별시 구로구 디지털로26길 5, 에이스하이엔드타워1차 103호 (구로동)', '서울특별시 구로구 경인로 662 (신도림동)', '서울특별시 구로구 디지털로32길 72, 구로호텔 1층 (구로동)', '서울특별시 구로구 경인로 662 (신도림동)', '서울특별시 구로구 경인로 387 (고척동)', '서울특별시 구로구 구로중앙로 152 (구로동) 구로NC', '서울특별시 구로구 서해안로 2233 (오류동)', '서울특별시 구로구 가마산로 232 (구로동, 스페스큐브), B101호', '서울특별시 구로구 경인로43길 49 (고척동, 고척아이파크), 1층 D-101호', '서울특별시 동대문구 천호대로 263 (답십리동)', '서울특별시 동대문구 회기로 141 (회기동)', '서울특별시 동대문구 이문로 93 (이문동)', '서울특별시 동대문구 왕산로 19 (신설동)', '서울특별시 동대문구 이문로 37 (회기동)', '서울특별시 동대문구 휘경로 12-1 (이문동)', '서울특별시 동대문구 장한로 10 (장안동)', '서울특별시 동대문구 경희대로 16-1 (회기동)', '서울특별시 동대문구 고산자로36길 3 (제기동)', '서울특별시 동대문구 왕산로 214 (전농동)', '서울특별시 성동구 왕십리로 50 (성수동1가) 1층', '서울특별시 성동구 동호로 99 (금호동4가)', '서울특별시 성동구 아차산로 42 (성수동1가)', '서울특별시 성동구 왕십리로 410 (하왕십리동, 센트라스)', '서울특별시 성동구 성수이로 94 (성수동2가)', '서울특별시 성동구 왕십리로 382 (하왕십리동)', '서울특별시 성동구 왕십리로 326 (도선동)', '서울특별시 성동구 왕십리로 225 (행당동) 1,2층', '서울특별시 성동구 왕십리광장로 17 (행당동)', '서울특별시 성동구 뚝섬로 379 (성수동2가) 이마트 성수점', '서울특별시 성동구 금호로 158-1 (금호동1가) 1~5층 전체', '서울특별시 성동구 고산자로 234 (행당동)', '서울특별시 성동구 아차산로 104 (성수동2가)', '서울특별시 성동구 독서당로 202 (옥수동)', '서울특별시 성동구 광나루로8길 31 (성수동2가) 성수낙낙 1층 101~107호', '서울특별시 용산구 백범로 313 (효창동, 용산 롯데캐슬 센터포레)', '서울특별시 용산구 만리재로 202 (서계동)', '서울특별시 용산구 이태원로 188 (이태원동)', '서울특별시 용산구 이태원로 252 (한남동)', '서울특별시 용산구 한강대로 69 (한강로2가, 용산푸르지오써밋)', '서울특별시 용산구 이촌로 276 (이촌동)', '서울특별시 용산구 한강대로 95 (한강로2가, 래미안용산)', '서울특별시 용산구 서빙고로 67 (용산동5가, 파크타워)', '서울특별시 용산구 한강대로 275 (갈월동)', '서울특별시 용산구 독서당로 94 (한남동)', '서울특별시 용산구 남산공원길 105 (용산동2가) YTN서울타워 1층', '서울특별시 용산구 한강대로 372 (동자동)', '서울특별시 용산구 대사관로 67 (한남동)', '서울특별시 용산구 청파로47길 57 (청파동3가)', '서울특별시 용산구 장문로 12 (동빙고동)', '서울특별시 용산구 한강대로 291 (갈월동)', '서울특별시 용산구 한강대로23길 55', '서울특별시 용산구 이촌로 198 (이촌동)', '서울특별시 용산구 청파로47길 100 (청파동2가) 프라임관B1F(로비층)', '서울특별시 용산구 서빙고로 17 (한강로3가)', '서울특별시 용산구 회나무로 3 (이태원동)', '서울특별시 용산구 한강대로 405 (동자동) 신-101호', '서울특별시 용산구 백범로 341 (원효로1가, 리첸시아 용산)', '서울특별시 용산구 한강대로 366 (동자동)', '서울특별시 용산구 청파로 74 (한강로3가)', '서울특별시 중랑구 상봉로 131 (상봉동, 상봉 듀오트리스 주상복합)', '서울특별시 중랑구 망우로30길 3 (상봉동)', '서울특별시 중랑구 신내로 72', '서울특별시 중랑구 면목로 310', '서울특별시 중랑구 망우로 307 (상봉동)', '서울특별시 중랑구 동일로 952 (묵동, 로프트원 태릉입구역) 1층', '서울특별시 중랑구 양원역로10길 3 (망우동)', '서울특별시 중랑구 봉화산로 35', '경기도 가평군 가평읍 북한강변로 1054 북한강변로 1054', '경기도 고양시 일산동구 태극로 18 (장항동)', '경기도 고양시 일산동구 무궁화로 294 (풍동)', '경기도 고양시 일산동구 동국로 27 (식사동)', '경기도 고양시 일산동구 백마로 475 (풍동)', '경기도 고양시 일산동구 강송로 33 (백석동)', '경기도 고양시 일산동구 위시티2로11번길 31 (식사동)', '경기도 고양시 일산동구 무궁화로 237 (중산동)', '경기도 고양시 일산동구 중앙로 1054, 1층 (백석동)', '경기도 고양시 일산동구 중앙로 1059 (백석동)', '경기도 고양시 일산동구 중앙로1275번길 38-9 (장항동)', '경기도 고양시 일산동구 일산로 237 (마두동)', '경기도 고양시 일산동구 정발산로 24 (장항동)', '경기도 고양시 일산동구 중앙로 1191 (장항동)', '경기도 고양시 일산동구 정발산로 38 (장항동)', '경기도 고양시 일산동구 고양대로 910 (풍동)', '경기도 고양시 일산동구 중산로 61 (중산동)', '경기도 과천시 중앙로 277 (중앙동)', '경기도 과천시 별양상가3로 11 이마트 1층(별양동)', '경기도 과천시 중앙로 129, 고려빌딩 1층 (중앙동)', '경기도 광명시 범안로 1036 (하안동)', '경기도 광명시 철산로 15 (철산동)', '경기도 광명시 양지로 16 (일직동, 광명역써밋플레이스)', '경기도 광명시 오리로 363 (소하동)', '경기도 광명시 금하로 464 (소하동)', '경기도 광명시 광명로 907 (광명동)', '경기도 광명시 디지털로 17 (철산1동) 가림빌딩', '경기도 광명시 범안로 1060 (하안동)', '경기도 광명시 오리로 865 (철산동)', '경기도 광명시 양지로 17 (일직동), 1층 일부', '경기도 광명시 일직로 17 (일직동) 롯데아울렛 1층', '경기도 광주시 경충대로 1445 (쌍령동)', '경기도 광주시 오포읍 태재로 37', '경기도 광주시 경안천로 118 (송정동)', '경기도 광주시 광주대로 35 (경안동)', '경기도 광주시 초월읍 경충대로 1084', '경기도 광주시 곤지암읍 경충대로 765 경충대로 765', '경기도 구리시 경춘북로 252 (갈매동, 갈매역아이파크)', '경기도 구리시 검배로 5, 우진빌딩 (수택동)', '경기도 구리시 장자대로 84 (수택동)', '경기도 구리시 건원대로 53 (인창동)', '경기도 구리시 체육관로 44 (수택동)1-2층 , 옥외공간', '경기도 구리시 벌말로 88 (토평동)', '경기도 군포시 고산로701', '경기도 군포시 산본로343번길 9 (산본동) 1층', '경기도 군포시 번영로 497, 금화프라자 1층 (산본동)', '경기도 군포시 산본로 398, 태주빌딩 2층', '경기도 군포시 엘에스로 143 (금정동, 힐스테이트 금정역), AK플라자 4층 일부', '경기도 군포시 번영로 485 (산본동) 롯데피트인 산본 1층 일부', '경기도 남양주시 다산지금로 139 (다산동)', '경기도 남양주시 진접읍 해밀예당1로 27', '경기도 남양주시 다산중앙로123번길 22-26 (다산동) 123호~128호', '경기도 남양주시 미금로 239 (다산동)', '경기도 남양주시 진접읍 금강로 1477', '경기도 남양주시 와부읍 경강로 772', '경기도 남양주시 별내5로5번길 15 (별내동)', '경기도 남양주시 경춘로 1269', '경기도 남양주시 별내중앙로 64 1-2층', '경기도 남양주시 늘을1로16번길 25, 성보빌딩 (호평동)', '경기도 남양주시 화도읍 북한강로 1098', '경기도 남양주시 화도읍 수레로 1137 1~2층', '경기도 남양주시 다산중앙로 19번길5 (다산동)', '경기도 남양주시 화도읍 비룡로 122', '경기도 남양주시 덕송2로 62 (별내동)', '경기도 남양주시 경강로 384 (삼패동)1-2층 옥탑', '경기도 성남시 분당구 대왕판교로 660 (삼평동)', '경기도 성남시 분당구 판교역로 152 (백현동)', '경기도 성남시 분당구 동판교로177번길 25 (삼평동, 판교 호반 써밋 플레이스)', '경기도 성남시 분당구 성남대로925번길 16 (야탑동)', '경기도 성남시 분당구 이매로 15 (이매동)', '경기도 성남시 분당구 새마을로175번길 4 (율동)', '경기도 성남시 분당구 정자로 82 (정자동)', '경기도 성남시 분당구 판교역로 145 타워2동 1층, 138~142호 (백현동530, 알파리움)', '경기도 성남시 분당구 운중로 132 (운중동)', '경기도 성남시 분당구 판교로 227번길 6 (삼평동)', '경기도 성남시 분당구 판교로 372 (삼평동)', '경기도 성남시 분당구 판교역로 192번길 14 (삼평동)', '경기도 성남시 분당구 황새울로360번길 19 (서현동) 금화빌딩', '경기도 성남시 분당구 성남대로 151 (구미동)', '경기도 성남시 분당구 수내로46번길 12 (수내동) 코아빌딩', '경기도 성남시 분당구 성남대로343번길 12-2 (정자동)', '경기도 성남시 분당구 분당로 43 (서현동)', '경기도 성남시 분당구 야탑로81번길 11, 뉴코아 야탑점 아울렛 1층 (야탑동)', '경기도 성남시 분당구 돌마로 43 (금곡동) 메디파크빌딩', '경기도 성남시 분당구 황새울로 234, 분당트라팰리스 (수내동)', '경기도 성남시 분당구 정자일로213번길 18 (정자동, 성원상떼뷰리젠시)', '경기도 성남시 분당구 황새울로359번길 11, 미래에셋빌딩 1층 (서현동)', '경기도 성남시 분당구 성남대로916번길 11 (야탑동)', '경기도 성남시 분당구 정자일로 166, SPG센터 (정자동)', '경기도 성남시 분당구 구미로173번길 82, 분당서울대학교병원 신관 4층 (구미동)', '경기도 성남시 분당구 구미로173번길 82, 분당서울대학교병원 신관 1층 (구미동)', '경기도 성남시 분당구 황새울로335번길 5 (서현동)', '경기도 성남시 분당구 서현로210번길 20, 1층 (서현동)', '경기도 성남시 분당구 성남대로 32, 1층 (구미동)', '경기도 성남시 분당구 성남대로 393, 두산위브파빌리온 1층 (정자동)', '경기도 성남시 분당구 백현로101번길 30, 1-2층 (수내동)', '경기도 성남시 분당구 성남대로 275 (정자동)', '경기도 성남시 분당구 불정로 134 (정자동)', '경기도 성남시 분당구 판교역로 231, 에이치스퀘어 (삼평동)', '경기도 성남시 분당구 성남대로 45 (구미동)', '경기도 성남시 분당구 판교역로 230, 판교 삼환 HIPEX (삼평동)', '경기도 성남시 분당구 정자일로 95 (정자동) 네이버1784 2층', '경기도 성남시 분당구 미금일로154번길 20 (구미동)', '경기도 성남시 분당구 황새울로360번길 42 (서현동)', '경기도 성남시 분당구 대왕판교로 302 (궁내동)', '경기도 성남시 분당구 야탑로 102 (야탑동)', '경기도 성남시 중원구 산성대로426번길 2 (금광동)', '경기도 성남시 중원구 산성대로 340-1 (중앙동)', '경기도 성남시 중원구 둔촌대로 131 (성남동)', '경기도 수원시 권선구 금곡로 219 (금곡동)', '경기도 수원시 권선구 권선로544번길 1 (세류동)', '경기도 수원시 권선구 서수원로577번길 305 (금곡동, 수원모아미래도센트럴타운2단지)', '경기도 수원시 권선구 매송고색로 543 (오목천동)', '경기도 수원시 권선구 동수원로177번길 40 (권선동)', '경기도 수원시 권선구 경수대로 270 (권선동) 2층', '경기도 수원시 권선구 경수대로 185 (세류동)', '경기도 수원시 권선구 세화로 134 (서둔동)', '경기도 수원시 장안구 창룡대로 171 (연무동)', '경기도 수원시 장안구 경수대로 1038 (파장동)', '경기도 수원시 장안구 덕영대로535번길 46 (천천동)', '경기도 수원시 장안구 서부로 2131, 1층 4,5,6호 2층1,2호 (율전동)', '경기도 수원시 장안구 수성로 291 (정자동)', '경기도 수원시 장안구 송원로 71 (송죽동)', '경기도 수원시 팔달구 경수대로 499 (인계동)', '경기도 수원시 팔달구 권광로 265 (인계동)', '경기도 수원시 팔달구 인계로94번길 3 (인계동)', '경기도 수원시 팔달구 권광로 132 (인계동)', '경기도 수원시 팔달구 매산로 11 (매산로1가)', '경기도 수원시 팔달구 중부대로 161 (우만동)', '경기도 수원시 팔달구 권광로 199 (인계동)', '경기도 수원시 팔달구 월드컵로 205 (우만동)', '경기도 수원시 팔달구 권광로188번길 17 (인계동)', '경기도 수원시 팔달구 덕영대로 924 (매산로1가)', '경기도 시흥시 뱀내장터로 27 (대야동)', '경기도 시흥시 서울대학로278번길 34 (정왕동)', '경기도 시흥시 비둘기공원7길 51 (대야동)', '경기도 시흥시 서울대학로278번길 43-13 (정왕동)', '경기도 시흥시 비둘기공원로 10 (대야동)', '경기도 시흥시 서해안로 699 (정왕동)', '경기도 시흥시 서해안로 699 (정왕동)', '경기도 시흥시 중심상가2길 20-5 (정왕동)', '경기도 시흥시 월곶중앙로58번길 5-6 (월곶동)', '경기도 시흥시 황고개로 530 (장곡동) 센터프라자', '경기도 시흥시 장현능곡로 155 (능곡동)', '경기도 시흥시 동서로 950 (조남동)', '경기도 시흥시 은계번영길 9 (은행동)', '경기도 안산시 단원구 고잔로 72 (고잔동)', '경기도 안산시 단원구 적금로 120 (고잔동)', '경기도 안산시 단원구 원포공원1로 46 (초지동) 이마트', '경기도 안산시 단원구 광덕대로 154, ,771-4 로데오타운1층 (고잔동)', '경기도 안산시 단원구 고잔로 102, 스타타워 1층 (고잔동)', '경기도 안산시 단원구 중앙대로 907 (고잔동)', '경기도 안산시 단원구 중앙대로 397 (신길동)', '경기도 안성시 중앙로 308 (석정동)', '경기도 안성시 공도읍 서동대로 4489', '경기도 안성시 공도읍 서동대로 4314 서동대로 4314', '경기도 안성시 안성맞춤대로 805 (계동)', '경기도 안성시 공도읍 서동대로 3930-39', '경기도 안양시 동안구 엘에스로 122 (호계동) 118~123호', '경기도 안양시 동안구 시민대로 373 (관양동)', '경기도 안양시 동안구 시민대로 206 (호계동)', '경기도 안양시 동안구 관악대로 234 (비산동)', '경기도 안양시 동안구 시민대로 180 (호계동)', '경기도 안양시 동안구 엘에스로 23-8 (호계동)', '경기도 안양시 동안구 평촌대로 123 (호계동)', '경기도 안양시 동안구 관평로 182 (관양동)', '경기도 안양시 동안구 시민대로 311 금강스마트 빌딩 1층(관양동1746)', '경기도 안양시 동안구 경수대로 821 (비산동)', '경기도 안양시 동안구 시민대로 230, 평촌아크로타워상가동 2층 8호 (관양동)', '경기도 안양시 동안구 평촌대로 223 (호계동)', '경기도 안양시 동안구 흥안대로 519, 아이퍼스트타워 1~2층 (관양동)', '경기도 안양시 동안구 흥안대로 139 (호계동)', '경기도 안양시 동안구 관악대로 104 (비산동)', '경기도 안양시 만안구 만안로 232 (안양동) 안양민자역사 1층 001호', '경기도 안양시 만안구 안양로 96 128,129,130,132,133,134,135,136호', '경기도 안양시 만안구 장내로 149번길 (안양동)53', '경기도 안양시 만안구 경수대로 1397 (석수동)', '경기도 안양시 만안구 안양로292번길 36 (안양동)', '경기도 양주시 회천남로 76 (옥정동)', '경기도 양주시 장흥면 호국로 528', '경기도 양주시 독바위로 35 (덕정동)', '경기도 양주시 고덕로351 (고읍동)', '경기도 양주시 부흥로 1872 (광사동)', '경기도 양주시 고읍남로 20 (광사동)', '경기도 양주시 옥정동로7길 30 (옥정동)', '경기도 양주시 평화로 1687 (회정동)', '경기도 오산시 문시로 109-2 (외삼미동)', '경기도 오산시 수청로 193 (금암동)', '경기도 오산시 경기대로 50, B동 (갈곶동)', '경기도 오산시 원동로 74 (원동)', '경기도 오산시 운천로 61', '경기도 오산시 경기대로 218 (원동)', '경기도 오산시 외삼미로 162-48 (외삼미동)', '경기도 오산시 경기대로 445 (수청동)', '경기도 용인시 기흥구 동백죽전대로 363 (중동)', '경기도 용인시 기흥구 중부대로 771 (상하동)', '경기도 용인시 기흥구 구성로 120 (언남동)', '경기도 용인시 기흥구 기흥역로 63 (구갈동, 기흥역 힐스테이트)', '경기도 용인시 기흥구 신고매로 59 (고매동)', '경기도 용인시 기흥구 용구대로 1877 (보라동)', '경기도 용인시 기흥구 어정로 102 (상하동)', '경기도 용인시 기흥구 용구대로 2330', '경기도 용인시 기흥구 구갈로 71-18 (신갈동)', '경기도 용인시 기흥구 중부대로 56', '경기도 용인시 기흥구 죽전로 20, 죽전누리에뜰상가 (보정동)', '경기도 용인시 기흥구 용구대로 2457 (보정동)', '경기도 용인시 기흥구 강남로 3, 강남&플러스 1층(구갈동)', '경기도 용인시 기흥구 흥덕1로 85 (영덕동)', '경기도 용인시 기흥구 서천로201번길 11 (농서동) 125, 126, 127, 128호', '경기도 용인시 기흥구 용구대로2469번길 165 (보정동)', '경기도 용인시 기흥구 사은로 110 (보라동)', '경기도 용인시 기흥구 동백죽전대로 444 (중동)', '경기도 용인시 처인구 백옥대로 1174 (김량장동)', '경기도 용인시 처인구 포곡읍 에버랜드로 199', '경기도 용인시 처인구 중부대로 1130', '경기도 용인시 처인구 금령로 60 (김량장동)', '경기도 용인시 처인구 금령로 188 (마평동)', '경기도 용인시 처인구 명지로 41 (역북동)', '경기도 의왕시 안양판교로 246 (청계동)', '경기도 의왕시 안양판교로 89 (포일동)', '경기도 의왕시 내손중앙로 4 (내손동) 벨포레스퀘어 G111~116호', '경기도 의왕시 바라산로 1 (학의동), GF층 일부', '경기도 의정부시 경의로 31 (의정부동)', '경기도 의정부시 회룡로 269 (신곡동)', '경기도 의정부시 시민로 468 (용현동)', '경기도 의정부시 평화로 540 (의정부동)', '경기도 의정부시 천보로 68 (민락동)', '경기도 의정부시 평화로 341 (호원동)', '경기도 의정부시 비우로 119 (가능동)', '경기도 의정부시 청사로48번길 7, 대송프라자 (금오동)', '경기도 의정부시 평화로 525, 신세계백화점 2층 (의정부동)', '경기도 의정부시 평화로 525, 신세계백화점 6층 (의정부동)', '경기도 의정부시 충의로 95 (용현동)', '경기도 의정부시 오목로 196 (민락동)', '경기도 의정부시 동일로 114 (장암동)', '경기도 의정부시 민락로 210 (민락동)', '경기도 이천시 이섭대천로 1445 (증포동)', '경기도 이천시 경충대로 3045 (사음동)', '경기도 이천시 부발읍 경충대로 2100 외 101호, 102호, 201호', '경기도 이천시 중부대로 중부고속도로 82', '경기도 이천시 중리천로 84 (중리동)', '경기도 포천시 호국로 925 (선단동)', '경기도 포천시 소흘읍 호국로 246', '경기도 하남시 미사강변남로 35 (망월동)', '경기도 하남시 조정대로 65 (풍산동)', '경기도 하남시 위례대로 200 (학암동)', '경기도 하남시 아리수로 570 (망월동)', '경기도 하남시 덕풍동로 123 (덕풍동)', '경기도 하남시 미사강변북로30번길 130 (망월동)', '경기도 하남시 미사대로 750 (신장동)', '경기도 하남시 미사대로 750 (신장동)', '경기도 하남시 미사대로 750 (신장동)', '경기도 하남시 신장로 130', '경기도 하남시 대청로 34 (신장동)', '경기도 하남시 하남대로 808 (신장동)', '경기도 하남시 덕풍서로 80 (덕풍동) 빌리브하남 101~106호', '경기도 하남시 감일백제로 169 (감이동) 현대타워, 1층 105~111호', '경기도 하남시 미사강변동로 95 (망월동) 미사역 그랑파사쥬 1층 1056~1059호', '경기도 하남시 미사강변동로 100 (망월동), 미사역 파라곤스퀘어 1층 1011~1016호', '경기도 화성시 남양읍 시청로 113', '경기도 화성시 봉담읍 동화길 51', '경기도 화성시 향남읍 발안로 111', '경기도 화성시 동탄대로시범길 134 (청계동, 시범 반도유보라 아이비파크4.0)', '경기도 화성시 동탄지성로 201 (능동)', '경기도 화성시 동탄대로 495 (오산동)', '경기도 화성시 효행로 1015 (진안동)', '경기도 화성시 동탄순환대로 692 (영천동)', '경기도 화성시 영통로 43 (반월동)', '경기도 화성시 동탄지성로 104 센트럴파티오', '경기도 화성시 메타폴리스로 54 (반송동, 동탄파라곤II) 1층', '경기도 화성시 동탄지성로 17, 풍성 위버폴리스 (반송동)', '경기도 화성시 동탄중앙로 376, 동탄이마트 1층 (석우동)', '경기도 화성시 동탄대로5길 21 (송동) 라크몽', '경기도 화성시 남양읍 시청로32번길 6', '경기도 화성시 효행로 219 (기안동)', '경기도 화성시 동탄순환대로20길 124 (목동)', '경기도 화성시 효행로 1241 (반월동)', '경기도 화성시 동탄대로 451 (오산동)', '경기도 화성시 향남읍 삼천병마로 213', '경기도 화성시 수노을중앙로 136 (새솔동)', '경기도 화성시 동탄중앙로 220 (반송동, 메타폴리스)', '경기도 화성시 동탄첨단산업1로 27 (영천동) 동탄금강펜테리움IX타워 M8~M11호', '경기도 화성시 동탄역로 160 롯데백화점 동탄점', '경기도 화성시 효행로 751 (안녕동)', '경기도 화성시 동탄대로 636-14 (영천동, 동탄역 대방디엠시티 더 센텀)', '경기도 화성시 향남읍 발안양감로 187 발안양감로 187 센트럴프라자1동 108호,204호', '경기도 화성시 동탄대로 181 (송동)', '경기도 고양시 덕양구 동송로 70 (삼송동)', '경기도 고양시 덕양구 원흥5로 25 (원흥동)', '경기도 고양시 덕양구 고양대로 1955 (동산동)', '경기도 고양시 덕양구 고양대로 1955 (동산동)', '경기도 고양시 덕양구 신원동 628-2', '경기도 고양시 덕양구 호국로 1775 (고양동)', '경기도 고양시 덕양구 충장로 14 (행신동)', '경기도 고양시 덕양구 호국로 811 (주교동)', '경기도 고양시 덕양구 화신로272번길 57 (화정동)', '경기도 고양시 덕양구 화신로260번길 57 (화정동)', '경기도 고양시 덕양구 충장로 126 (행신동)', '경기도 고양시 덕양구 서오릉로663번길 8 (원흥동)', '경기도 고양시 덕양구 꽃마을로 4 (향동동)', '경기도 고양시 덕양구 지축로 56 (지축동)', '경기도 고양시 덕양구 화수로14번길 72 (화정동)', '경기도 성남시 수정구 산성대로 267 (신흥동)', '경기도 성남시 수정구 위례광장로 104 (창곡동)', '경기도 성남시 수정구 수정로 201 (태평1동) 신세계쉐덴', '경기도 성남시 수정구 창업로 18(시흥동)', '경기도 성남시 수정구 산성대로 81 (수진동)', '경기도 성남시 수정구 위례광장로 9-9 (창곡동)', '경기도 여주시 세종로 358 (점봉동)_1', '경기도 여주시 명품로 360 2004호 (상거동)', '경기도 여주시 명품로 360 2400호 (상거동)', '경기도 여주시 가남읍 자유그린길 69', '경기도 평택시 비전5로 20-24 (비전동)', '경기도 평택시 경기대로 1353 (서정동)', '경기도 평택시 안중읍 서동대로 1459', '경기도 평택시 중앙2로 13 (평택동)', '경기도 평택시 평택로 51 (평택동) 평택역', '경기도 평택시 관광특구로 38 (서정동)', '경기도 평택시 청원로 1388 (이충동)', '경기도 평택시 만세로 1707 (죽백동)', '경기도 평택시 청북읍 안청로2길 86', '경기도 평택시 서동대로 3847 (용이동)', '경기도 평택시 고덕면 고덕여염9길 38', '경기도 평택시 영신로 29 (지제동)', '경기도 평택시 경기대로 625 (세교동)', '경기도 고양시 일산서구 중앙로 1371 (주엽동, 강선마을13단지아파트)', '경기도 고양시 일산서구 주엽로 80 (대화동)', '경기도 고양시 일산서구 하이파크2로 67 (덕이동)', '경기도 고양시 일산서구 탄중로 106 (덕이동)', '경기도 고양시 일산서구 일산로 541 (일산동)', '경기도 고양시 일산서구 킨텍스로 171', '경기도 고양시 일산서구 일현로 97-11 (일산위브더제니스스퀘어1동147~151)', '경기도 고양시 일산서구 중앙로 1559, 시티타워 1~2층 (대화동)', '경기도 고양시 일산서구 중앙로 1420, 1층 (주엽동)', '경기도 고양시 일산서구 호수로 817 (대화동)', '경기도 고양시 일산서구 중앙로 1470 (주엽동)', '경기도 고양시 일산서구 일현로 91 (탄현동)', '경기도 김포시 김포대로 657 (풍무동)', '경기도 김포시 풍무로 137', '경기도 김포시 태장로 779 (장기동)', '경기도 김포시 김포한강4로 487 (구래동, 한강신도시 반도유보라 4차)', '경기도 김포시 김포한강2로 41 (장기동, E편한세상 캐널시티)', '경기도 김포시 중봉로 27 (감정동)', '경기도 김포시 김포한강11로 288-32', '경기도 김포시 김포한강7로 71', '경기도 김포시 풍무로 45 (풍무동)', '경기도 김포시 사우중로 35 (사우동)', '경기도 김포시 김포한강4로 117, 홍우프라자 102~105호 (장기동)', '경기도 김포시 고촌읍 아라육로152번길 100', '경기도 김포시 양촌읍 봉수대로 1871', '경기도 김포시 양촌읍 김포한강4로301 1,2층', '경기도 김포시 걸포2로 83 (걸포동, 한강메트로자이1단지)', '경기도 부천시 길주로 105 (상동)', '경기도 부천시 옥길로 1 (옥길동) 1195호', '경기도 부천시 옥길로 118 (옥길동)', '경기도 부천시 부천로 97 (심곡동)', '경기도 부천시 송내대로 239 (상동)', '경기도 부천시 석천로 188 (중동)', '경기도 부천시 부흥로 193 (중동)', '경기도 부천시 길주로 281 (중동) 동화빌딩', '경기도 부천시 경인로 485', '경기도 부천시 신흥로 161 (중동)', '경기도 부천시 길주로 181, 102,103,104,110,111,112호 (중동)', '경기도 부천시 길주로 180, 현대백화점부천중동점 중동점 지하1층 (중동)', '경기도 부천시 조마루로 2 (상동)', '경기도 부천시 부일로 204, 루치올라빌딩 (상동)', '경기도 부천시 부천로 7, 1,2층 (심곡동)', '경기도 부천시 상동로 87 (상동)', '경기도 부천시 길주로 254 (중동)', '경기도 부천시 양지로 119 (옥길동)', '경기도 부천시 평천로 611 (상동)', '경기도 부천시 소사로 826 (원종동)', '경기도 부천시 소향로 181 (중동, 센트럴파크 푸르지오)', '경기도 부천시 길주로 386 (춘의동)', '경기도 부천시 신흥로 187 (중동)', '경기도 부천시 경인옛로 25 (소사본동, 부천 한신더휴 메트로)', '경기도 수원시 영통구 광교호수공원로 320 (하동)', '경기도 수원시 영통구 광교중앙로248번길 7-2 (하동)', '경기도 수원시 영통구 대학로 47 (이의동)', '경기도 수원시 영통구 광교중앙로 145 (이의동)', '경기도 수원시 영통구 덕영대로 1566 (영통동)', '경기도 수원시 영통구 덕영대로 1467', '경기도 수원시 영통구 센트럴타운로 85 (이의동) 광교c1호반베르디움', '경기도 수원시 영통구 삼성로 2 트레이더스수원점 (신동)', '경기도 수원시 영통구 덕영대로 1695 (영통동)', '경기도 수원시 영통구 영통로 195 (망포동)', '경기도 수원시 영통구 광교로 191(이의동)', '경기도 수원시 영통구 봉영로 1617, 훼미리타워 1층 (영통동)', '경기도 수원시 영통구 광교호수공원로 20 (원천동)', '경기도 수원시 영통구 청명로 88 (영통동)', '경기도 안산시 상록구 성안길 82-3, B동 1층 (사동)', '경기도 안산시 상록구 광덕1로 379, 한남빌딩 1~2층 (이동)', '경기도 안산시 상록구 광덕1로 342 (이동), 1층 일부', '경기도 양평군 양평읍 시민로 75', '경기도 양평군 양평읍 양근로 76', '경기도 용인시 수지구 용구대로 2750 (죽전동, 죽전 효성해링턴 플레이스)', '경기도 용인시 수지구 죽전로168번길 18 (죽전동)', '경기도 용인시 수지구 손곡로', '경기도 용인시 수지구 현암로 140 (죽전동)', '경기도 용인시 수지구 성복2로 55 (성복동)', '경기도 용인시 수지구 광교마을로 41 (상현동)', '경기도 용인시 수지구 포은대로 552, 이마트 죽전점 1층 (죽전동)', '경기도 용인시 수지구 포은대로 536 (죽전동) 3층', '경기도 용인시 수지구 수지로 203 (신봉동)', '경기도 용인시 수지구 수지로296번길 51-11, 비즈마루빌딩 1층 101호 (풍덕천동)', '경기도 용인시 수지구 풍덕천로 119 (풍덕천동) 111,112,113,206,207호', '경기도 용인시 수지구 성복2로 37 (성복동)', '경기도 파주시 탄현면 필승로 200', '경기도 파주시 야당동 1066-3', '경기도 파주시 문화로 109 (금촌동)', '경기도 파주시 금릉역로 84, 청원센트럴타워 1층 (금촌동)', '경기도 파주시 와석순환로 135', '경기도 파주시 탄현면 필승로 200 1312호', '경기도 파주시 파주읍 통일로 1555 (봉서리)', '경기도 파주시 가람로 89 (와동동)', '경기도 파주시 청암로17번길 29 (목동동)', '경기도 파주시 경의로 966 (야당동)', '경기도 파주시 한울로 123 (동패동)', '경기도 동두천시 지행로 55 (지행동)', '경기도 동두천시 평화로 2254 (지행동)', '광주광역시 광산구 임방울대로 156 (운남동)', '광주광역시 광산구 선운로 20번길 63', '광주광역시 광산구 용아로 342 (산정동)', '광주광역시 광산구 사암로 367 (산정동)', '광주광역시 광산구 상무대로205번길 6 (송정동)', '광주광역시 광산구 임방울대로 487 (수완동)', '광주광역시 광산구 목련로 335 (신가동)', '광주광역시 광산구 첨단중앙로 158 (쌍암동)', '광주광역시 광산구 장신로 85 (장덕동)', '광주광역시 광산구 사암로216번길 38-16, 1~2층 (우산동)', '광주광역시 광산구 첨단중앙로 104 (월계동)', '광주광역시 광산구 장신로 134, 1~2층 (수완동)', '광주광역시 광산구 첨단월봉로 84 (산월동)', '광주광역시 광산구 첨단과기로 81 (비아동)', '광주광역시 광산구 상무대로 202 (송정동)', '광주광역시 남구 대남대로 386 (월산동)', '광주광역시 남구 회재로 1256 (주월동)', '광주광역시 남구 임암길 232 (임암동)', '광주광역시 남구 제석로 104 (봉선동)', '광주광역시 남구 서문대로 665 (진월동)', '광주광역시 남구 대남대로 67 (방림동)', '광주광역시 남구 봉선중앙로 51 (봉선동)', '광주광역시 남구 서문대로 745 (주월동)', '광주광역시 남구 봉선로 176, 1층 101,111호 (봉선동)', '광주광역시 남구 봉선로 198 (봉선동)', '광주광역시 동구 필문대로 240 (동명동)', '광주광역시 동구 동명로 16 (동명동)', '광주광역시 동구 남문로 529 (용산동)', '광주광역시 동구 무등로 592 (산수동)', '광주광역시 동구 중앙로160번길 14 (황금동)', '광주광역시 동구 충장로 93-5 (금남로2가, 무등맨션)', '광주광역시 동구 서석로 43 (충장로1가)', '광주광역시 동구 지산로 3 (서석동)', '광주광역시 동구 천변우로 421 (불로동)', '광주광역시 북구 설죽로 314 (오치동)', '광주광역시 북구 양일로18번길 2 (연제동)', '광주광역시 북구 서암대로 93 (신안동)', '광주광역시 북구 설죽로 339 (매곡동)', '광주광역시 북구 삼정로 4 (두암동)', '광주광역시 북구 설죽로 518 (일곡동)', '광주광역시 북구 서방로9번길 30 (중흥동)', '광주광역시 북구 첨단연신로 101 (신용동)', '광주광역시 북구 임방울대로 1016 (신용동)', '광주광역시 북구 우치로 110, 1,2,3층 (용봉동)', '광주광역시 북구 저불로 45 (용봉동)', '광주광역시 북구 동문대로 148 (두암동)', '광주광역시 서구 죽봉대로 33 (화정동)', '광주광역시 서구 상무대로 847 (쌍촌동)', '광주광역시 서구 상무대로 1080', '광주광역시 서구 상무중앙로 46 (치평동) 1층', '광주광역시 서구 운천로 253 (치평동) 103호', '광주광역시 서구 풍암2로 8 (풍암동) 한아름빌딩', '광주광역시 서구 운천로109번길 1 (쌍촌동)', '광주광역시 서구 상무중앙로 90, 눈높이상무센터 1층 (치평동)', '광주광역시 서구 하남대로 672-1, 1층 (동천동)', '광주광역시 서구 무진대로 932 번지 신세계 백화점 1층', '광주광역시 서구 상무중앙로 75 (치평동)', '광주광역시 서구 상무자유로 173, 1층 (치평동)', '광주광역시 서구 상무중앙로 7, 1층 (치평동)', '광주광역시 서구 죽봉대로 61, 패션스트리트 B01호 (화정동)', '광주광역시 서구 서광주로 23 (매월동)', '대구광역시 남구 봉덕로 25 (봉덕동)', '대구광역시 남구 현충로 32 (대명동)', '대구광역시 남구 두류공원로17길 33 (대명동)', '대구광역시 남구 앞산순환로 375 (대명동)', '대구광역시 달서구 달구벌대로 1035 (신당동)', '대구광역시 달서구 와룡로 169', '대구광역시 달서구 월곡로 225 (상인동)', '대구광역시 달서구 달구벌대로 1710 (두류동)', '대구광역시 달서구 월배로 315 (송현동)', '대구광역시 달서구 월배로 91 (진천동)', '대구광역시 달서구 상화로 314 (도원동)', '대구광역시 달서구 조암로 41 (월성동)', '대구광역시 달서구 화암로 379', '대구광역시 달서구 달구벌대로 1393', '대구광역시 달서구 와룡로 131', '대구광역시 달서구 월배로 210 (상인동)', '대구광역시 달서구 달구벌대로 1798 (두류동)', '대구광역시 달서구 월곡로 334 (상인동)', '대구광역시 달서구 계대동문로 13 (신당동)', '대구광역시 달서구 이곡공원로 26, 이곡메디컬빌딩 (이곡동)', '대구광역시 달서구 구마로 265 (성당동)', '대구광역시 달서구 두류공원로 200 (두류동)', '대구광역시 달서구 조암남로32길 2 (대천동)', '대구광역시 동구 동부로 149 신세계백화점 대구점 3층', '대구광역시 동구 동부로 149 신세계백화점 대구점 8층', '대구광역시 동구 동대구로 422 (신천동)', '대구광역시 동구 파계로 650', '대구광역시 동구 팔공로51길 15-11 (봉무동)', '대구광역시 동구 동부로30길 12 (신천동)', '대구광역시 동구 효동로2길 45 (효목동)', '대구광역시 동구 안심로 389-2, 이마트 1층 (신서동)', '대구광역시 동구 팔공로 332 (봉무동)', '대구광역시 동구 안심로16길 47 (율하동)', '대구광역시 동구 안심로 383', '대구광역시 서구 서대구로 89 (평리1동)', '대구광역시 수성구 화랑로 112 (만촌동)', '대구광역시 수성구 동대구로 305 (범어동)', '대구광역시 수성구 청호로 318 (황금동)', '대구광역시 수성구 용학로 56 (두산동)', '대구광역시 수성구 명덕로 460 (수성동3가)', '대구광역시 수성구 들안로 342 (수성동4가)', '대구광역시 수성구 수성로 243 (중동)', '대구광역시 수성구 청수로 51 (중동)', '대구광역시 수성구 무학로 29(상동)', '대구광역시 수성구 청수로 164 (지산동)', '대구광역시 수성구 동대구로 401 (범어동) 삼성화재사옥', '대구광역시 수성구 달구벌대로 3216 (신매동)', '대구광역시 수성구 달구벌대로 2636, , 853-25번지 (만촌동)', '대구광역시 수성구 수성로 393, 수성하이츠 1층 (수성동4가)', '대구광역시 수성구 지범로 191, 동아백화점수성점 1층 (범물동)', '대구광역시 수성구 동대구로 95 (두산동)', '대구광역시 수성구 수성못길 4 (두산동)', '대구광역시 수성구 달구벌대로 2435, 두산위브더제니스아파트 상가 1층 110호 (범어동)', '대구광역시 수성구 지범로 37 (두산동)', '대구광역시 수성구 들안로 85 (상동)', '대구광역시 수성구 동원로 136 (만촌동)', '대구광역시 중구 국채보상로 611 (문화동)', '대구광역시 중구 달구벌대로415길 1 (계산동2가)', '대구광역시 중구 국채보상로 582 (남일동)', '대구광역시 중구 국채보상로 642 (동인동2가)', '대구광역시 중구 달구벌대로 2085 (덕산동) 동아쇼핑', '대구광역시 중구 동성로 4 (동성로3가)', '대구광역시 중구 동성로5길 62 (삼덕동1가)', '대구광역시 중구 중앙대로77길 22 (종로2가)', '대구광역시 중구 달구벌대로 2095 (덕산동)', '대구광역시 중구 동성로2길 95 (동성로2가)', '대구광역시 북구 중앙대로 524 (칠성동2가)', '대구광역시 북구 유통단지로8길 78 106호 (산격동)', '대구광역시 북구 칠곡중앙대로 348 (태전동)', '대구광역시 북구 동천로 123', '대구광역시 북구 침산로 126 (침산동)', '대구광역시 북구 학정로 422 (구암동) 태을빌딩', '대구광역시 북구 대학로 75 (산격동)', '대구광역시 북구 대학로 150 (복현동)', '칠곡중앙대로 631 칠곡중앙대로 631', '대구광역시 북구 침산로 93 (칠성동2가)', '대구광역시 북구 한강로4길 9 (사수동)', '대구광역시 달성군 유가면 테크노상업로 84 대경타워 105호, 106호, 107호', '대구광역시 달성군 달구벌대로 861 (다사읍)', '대전광역시 대덕구 한밭대로 1122 (중리동)', '대전광역시 대덕구 동서대로 1776 (비래동)', '대전광역시 대덕구 대덕대로 1544 (석봉동)', '대전광역시 대덕구 송촌북로36번길 36, 1층 (송촌동)', '대전광역시 대덕구 신탄진로 866 (신탄진동)', '대전광역시 동구 동서대로 1658 (성남동)', '대전광역시 동구 옥천로 118 (판암동)', '대전광역시 동구 동서대로 1689, 2층 (용전동)', '대전광역시 동구 동구청로 101 (가오동)', '대전광역시 동구 동서대로1695번길 4 (용전동)', '대전광역시 동구 옥천로 89 (판암동)', '대전광역시 동구 한밭대로 1239 (용전동)', '대전광역시 서구 한밭대로 755 (둔산동)', '대전광역시 서구 관저동로 170 (관저동)1층', '대전광역시 서구 문정로2번길 95 (탄방동)', '대전광역시 서구 복수남로 28 (복수동)', '대전광역시 서구 둔산남로 100 (탄방동)', '대전광역시 서구 대덕대로241번길 35 (둔산동)', '대전광역시 서구 둔산로123번길 43 (둔산동)', '대전광역시 서구 계백로 1128 (가수원동)', '대전광역시 서구 계룡로 692 (용문동)', '대전광역시 서구 관저로 142 (관저동)', '대전광역시 서구 대덕대로234번길 18 (둔산동)', '대전광역시 서구 동서대로 682 (도안동)', '대전광역시 서구 대덕대로 189 (둔산동)', '대전광역시 서구 만년로 81 (만년동)', '대전광역시 서구 둔산남로 50 (탄방동)', '대전광역시 서구 청사로123번길 25 (월평동)', '대전광역시 서구 둔산로31번길 28, 금정빌딩 1층 (둔산동)', '대전광역시 서구 문정로 78, 정우빌딩 1층 (탄방동)', '대전광역시 서구 둔산로 142 (둔산동)', '대전광역시 서구 둔산중로134번길 13, 둔산관광호텔 (둔산동)', '대전광역시 서구 한밭대로 580 (월평동)', '대전광역시 서구 대덕대로 254 삼성전자 메가스토어 대전본점 1층 (둔산동)', '대전광역시 서구 계룡로 384 (갈마동)', '대전광역시 서구 도산로 336 (용문동)', '대전광역시 유성구 북유성대로 303 (반석동)', '대전광역시 유성구 도안대로 573 (봉명동)', '대전광역시 유성구 유성대로 781 (장대동)', '대전광역시 유성구 어은로 42 (어은동)', '대전광역시 유성구 지족로 373 (지족동)', '대전광역시 유성구 온천서로 2 (봉명동)', '대전광역시 유성구 유성대로 1722 (전민동)', '대전광역시 유성구 테크노중앙로 68', '대전광역시 유성구 엑스포로 97번길 40', '대전광역시 유성구 은구비남로33번길 26, 1~2층 (지족동)', '대전광역시 유성구 대학로 82 (궁동)', '대전광역시 유성구 테크노4로 105 (관평동)', '대전광역시 유성구 엑스포로 1 (도룡동), 대전신세계 백화점 5F', '대전광역시 유성구 테크노중앙로 123 (용산동)', '대전광역시 유성구 계룡로 119 (봉명동)', '대전광역시 유성구 월드컵대로289번길 6 (구암동)', '대전광역시 유성구 엑스포로 1 (도룡동), 대전신세계 백화점 B1층', '대전광역시 유성구 엑스포로 1 (도룡동) 신세계엑스포점 38층', '대전광역시 중구 계룡로 949 (대사동)', '대전광역시 중구 태평로 71 (태평동)', '대전광역시 중구 계백로 1604 (유천동)', '대전광역시 중구 대종로 486 (은행동)', '대전광역시 중구 계백로 1700, 외 4필지 세이백화점 신관 (문화동)', '대전광역시 중구 중앙로 164 (은행동)', '대전광역시 중구 동서대로 1387 (목동)', '부산광역시 금정구 중앙대로 1989 (남산동)', '부산광역시 금정구 중앙대로 1730 (부곡동)', '부산광역시 금정구 식물원로 13 (장전동)', '부산광역시 금정구 부산대학로64번길 12 (장전동)', '부산광역시 금정구 장전로12번길 64, 1~4층 (장전동)', '부산광역시 금정구 금정로68번길 2, 건우빌딩 (장전동)', '부산광역시 금정구 중앙대로1841번길 24 (구서동)', '부산광역시 금정구 금강로 441 (구서동)', '부산광역시 남구 분포로 145 (용호동) 더블유스퀘어동 1019호,1020호,1021호,2011호 2012호', '부산광역시 남구 신선로 423 (용당동)', '부산광역시 남구 문현금융로 40 (문현동) 부산국제금융센터', '부산광역시 남구 수영로 240-1, 1층 (대연동)', '부산광역시 남구 수영로 312 (대연동)', '부산광역시 남구 못골로 87 (대연동)', '부산광역시 동구 중앙대로196번길 10 (초량동)', '부산광역시 동구 중앙대로214번길 7-8 (초량동)', '부산광역시 동구 중앙대로 216 (초량동)', '부산광역시 동구 조방로 14 (범일동)', '부산광역시 부산진구 중앙대로 672 (부전동) 1층 2층', '부산광역시 부산진구 서면로 49-1 (부전동)', '부산광역시 부산진구 동천로 92 (전포동) NC백화점 1층', '부산광역시 부산진구 중앙대로 894 (양정동)', '부산광역시 부산진구 가야대로 589 (가야제1동)', '부산광역시 부산진구 가야대로 462 (개금동)', '부산광역시 부산진구 전포대로199번길 27 (전포동)', '부산광역시 부산진구 중앙대로 701 (부전동)', '부산광역시 부산진구 서전로 19 (부전동)', '부산광역시 부산진구 중앙대로692번길 46-10 (부전동)', '부산광역시 부산진구 서전로 1 (부전동)', '부산광역시 부산진구 중앙대로 777, 서면호텔 복합시설1,2층 (부전동)', '부산광역시 부산진구 중앙대로666번길 50 (부전동)', '부산광역시 부산진구 가야대로 783-1, 1층 (부전동)', '부산광역시 부산진구 서면로68번길 1 (부전동)', '부산광역시 부산진구 시민공원로 31 (부암동)', '부산광역시 부산진구 중앙대로 639 (범천동)', '부산광역시 부산진구 서면문화로 10 (부전동)', '부산광역시 북구 만덕대로 30 (덕천동)', '부산광역시 북구 금곡대로285번길 5 (화명동)', '부산광역시 북구 금곡대로77 (덕천동)', '부산광역시 북구 백양대로 1040 (구포동)', '부산광역시 북구 만덕대로 323 (만덕동)', '부산광역시 사상구 백양대로 520 (주례동)', '부산광역시 사상구 가야대로 338 (주례동)', '부산광역시 사상구 사상로 211 (괘법동)', '부산광역시 사상구 사상로 200 (괘법동) 105호', '부산광역시 사상구 낙동대로 1306 (삼락동)', '부산광역시 사상구 낙동대로 744 (엄궁동)', '부산광역시 사하구 다대로 714 (다대동)', '부산광역시 사하구 낙동대로 455 (하단동)', '부산광역시 사하구 다대로 493 (다대동)', '부산광역시 사하구 하신번영로 381-6 (하단동)', '부산광역시 사하구 사하로186번길 6 (괴정동)', '부산광역시 사하구 낙동남로 1411 (하단동)', '부산광역시 사하구 을숙도대로 682 (장림동)', '부산광역시 연제구 중앙대로 1250 (거제동)', '부산광역시 연제구 중앙대로 1125 (연산동)', '부산광역시 연제구 명륜로 3 (거제제1동) 한양프라자', '부산광역시 연제구 반송로 20 (연산동)', '부산광역시 연제구 중앙대로 1091 (연산동)', '부산광역시 연제구 교대로 20-2 (거제동)', '부산광역시 연제구 좌수영로 241 연산동', '부산광역시 연제구 중앙천로 93 (연산동)', '부산광역시 영도구 태종로 373 (청학동)', '부산광역시 영도구 태종로 39 (대교동1가)', '부산광역시 중구 광복중앙로 8-2 (광복동3가)', '부산광역시 중구 구덕로 54-1 (남포동5가)', '부산광역시 중구 대청로 80 (대청동3가)', '부산광역시 중구 중앙대로81번길 2 (중앙동4가)', '부산광역시 중구 비프광장로 25 (남포동3가)', '부산광역시 중구 구덕로 4, 1~2층 (광복동1가)', '부산광역시 기장군 기장읍 기장대로 527', '부산광역시 기장군 기장읍 기장해안로 56', '부산광역시 기장군 정관읍 정관로 579', '부산광역시 기장군 정관로 1133 (175호)', '부산광역시 기장군 기장읍 동부산관광로 34', '부산광역시 수영구 민락수변로 29 (민락동)', '부산광역시 수영구 수영로 671 (광안동)', '부산광역시 수영구 수영로464번길 6 (남천동)', '부산광역시 수영구 광안로62번길 39 (광안동)', '부산광역시 수영구 과정로 68 (망미동)', '부산광역시 수영구 광안해변로 247 (민락동)', '부산광역시 수영구 남천바다로 38 (남천동)', '부산광역시 수영구 민락수변로17번길 56 (민락동)', '부산광역시 강서구 명지국제6로 168 스타필드 명지 1층', '부산광역시 강서구 르노삼성대로 620 (명지동)', '부산광역시 강서구 명지국제5로 42 (명지동)', '부산광역시 강서구 명지오션시티11로 66 (명지동)', '부산광역시 강서구 명지국제7로 37 (명지동, 더샵 명지퍼스트월드 2단지)', '부산광역시 동래구 충렬대로181번길 42', '부산광역시 동래구 동래로 25', '부산광역시 동래구 사직북로 4 (사직동)', '부산광역시 동래구 충렬대로 446 (안락동)', '부산광역시 동래구 충렬대로 101 (온천동)', '부산광역시 동래구 사직북로 24 (사직동)', '부산광역시 동래구 중앙대로 1523, SK허브스카이위아아파트 1층 (온천동)', '부산광역시 동래구 충렬대로 194 (명륜동)', '부산광역시 서구 송도해변로 97(101,102,201) (암남동)', '부산광역시 서구 구덕로 212 (부민동1가)', '부산광역시 서구 구덕로322번길 7 (동대신동3가)', '부산광역시 서구 동대로 8 (동대신동3가)', '부산광역시 해운대구 해운대해변로 197 (우동, 해운대경동제이드아파트)', '부산광역시 해운대구 수영강변대로 516 (반여동)', '부산광역시 해운대구 센텀중앙로 145 (재송동, 더샵센텀파크1차아파트)', '부산광역시 해운대구 구남로 9 (우동)', '부산광역시 해운대구 해운대로 189 (재송동)', '부산광역시 해운대구 구남로 49 (중동) 101호', '부산광역시 해운대구 센텀2로 10 (우동) 센텀메디컬센타 1층 스타벅스 센텀로점', '부산광역시 해운대구 센텀남대로 35 (우동) 센텀시티 신세계UEC', '부산광역시 해운대구 달맞이길 57 (중동) 1~3층', '부산광역시 해운대구 센텀중앙로 78 (우동)', '부산광역시 해운대구 송정해변로 36 (송정동)', '부산광역시 해운대구 해운대로 802 (좌동)', '부산광역시 해운대구 해운대해변로 257 (우동)', '부산광역시 해운대구 APEC로 55, 벡스코내 (우동)', '부산광역시 해운대구 해운대해변로 163 (우동)', '부산광역시 해운대구 해운대해변로298번길 24, 팔래드시즈 1-3호, 2-3호 (중동)', '부산광역시 해운대구 좌동로 96 (좌동)', '부산광역시 해운대구 센텀동로 9, 트럼프월드센텀아파트 1층 (우동)', '부산광역시 해운대구 마린시티2로 33, 제니스스퀘어 (우동)', '부산광역시 해운대구 마린시티2로 38 (우동)', '부산광역시 해운대구 달맞이길 189 (중동)', '부산광역시 해운대구 좌동순환로 511 (중동) 1층', '부산광역시 해운대구 센텀2로 25, 센텀드림월드 1층 (우동)', '부산광역시 해운대구 센텀서로 30 (우동)', '부산광역시 해운대구 센텀동로 25, 1층 (우동)', '부산광역시 해운대구 해운대로 813 (좌동)', '부산광역시 해운대구 좌동순환로 178 (좌동)', '부산광역시 해운대구 달맞이길30', '부산광역시 해운대구 센텀남대로 35 (우동)', '부산광역시 해운대구 좌동순환로 6 (중동)', '부산광역시 해운대구 센텀4로 15 (우동)', '부산광역시 해운대구 해운대해변로 292 (중동)', '울산광역시 남구 삼산로 182 (달동)', '울산광역시 남구 대공원입구로 4 (옥동)', '울산광역시 남구 대암로129번길 9-6 (야음동)', '울산광역시 남구 중앙로 180 (달동)', '울산광역시 남구 번영로 215 (신정동)', '울산광역시 남구 돋질로 310 (삼산동)', '울산광역시 남구 삼산로 231 (달동)', '울산광역시 남구 삼산로 278 번길 8 (삼산동)', '울산광역시 남구 대학로84번길 5-3 (무거동)', '울산광역시 남구 삼산중로74번길 30-1, 1~2층 (삼산동)', '울산광역시 남구 대학로 152 (무거동)', '울산광역시 남구 삼산로 257, 1층 (달동)', '울산광역시 남구 달삼로 3 (달동)', '울산광역시 남구 삼산로 86 (달동)', '울산광역시 남구 문수로 435 (신정동)', '울산광역시 북구 산업로 1464 (신천동)', '울산광역시 북구 산업로 1011 (연암동)', '울산광역시 북구 진장17길 10 (진장동)', '울산광역시 북구 동해안로 1601 (산하동)', '울산광역시 북구 화봉로 75 (화봉동)', '울산광역시 북구 진장유통로 65 (진장동)', '울산광역시 울주군 서생면 대송리 25-18', '울산광역시 울주군 삼남읍 도호1길 16', '울산광역시 중구 번영로 434 (복산동)', '울산광역시 중구 성안12길 45 (성안동)', '울산광역시 중구 젊음의2거리 33 (성남동)', '울산광역시 중구 북부순환도로 754 (약사동)', '울산광역시 중구 태화강국가정원길 205 (태화동)', '울산광역시 동구 방어진순환도로 899 (서부동) 현대백화점주차장', '울산광역시 동구 방어진순환도로 652 (일산동)', '울산광역시 동구 일산진11길 95 (일산동)', '울산광역시 동구 방어진순환도로 879 (서부동)', '울산광역시 동구 방어진순환도로 899 (서부동)', '울산광역시 동구 동해안로 667 (주전동)', '인천광역시 강화군 강화읍 강화대로 343', '인천광역시 계양구 계양대로 131 (작전동)', '인천광역시 계양구 장제로 808 (계산동)', '인천광역시 계양구 계양대로 37, 1층 (작전동)', '인천광역시 계양구 경명대로 1105 (계산동)', '인천광역시 계양구 서운산단로2길 6 (서운동) BMW 바바리안모터스', '인천광역시 미추홀구 매소홀로 368 (학익동)', '인천광역시 미추홀구 아암대로 107 (용현동)', '인천광역시 미추홀구 주안로 100 (주안동) 1층,2층', '인천광역시 미추홀구 인하로 59 (용현동)', '인천광역시 미추홀구 경인로 103 (숭의동)', '인천광역시 미추홀구 인주대로 443 (주안동)', '인천광역시 미추홀구 장고개로 28 (도화동)', '인천광역시 미추홀구 독배로 309 (용현동)', '인천광역시 미추홀구 매소홀로 618 (문학동)', '인천광역시 미추홀구 매소홀로 618 (문학동)', '인천광역시 미추홀구 한나루로 525 (주안동)', '인천광역시 동구 봉수대로 82, 이마트 트레이더스송림점1층 (송림동)', '인천광역시 부평구 장제로 371 (갈산동)', '인천광역시 부평구 길주로 643 (삼산동)', '인천광역시 부평구 부평문화로 52, 1~2층 (부평동)', '인천광역시 부평구 부평대로 60, 현대해상화재보험 1층 (부평동)', '인천광역시 부평구 경원대로 1397 (부평동)', '인천광역시 부평구 동암광장로 14, 1~2층 (십정동)', '인천광역시 부평구 경원대로 1377, 1-4층 (부평동)', '인천광역시 부평구 주부토로 236 (갈산동)', '인천광역시 부평구 동수로 56 (부평동)', '인천광역시 연수구 청능대로 210 (동춘동)', '인천광역시 연수구 앵고개로 171 (동춘동)', '인천광역시 연수구 컨벤시아대로 55 (송도동, 송도이안)', '인천광역시 연수구 송도과학로16번길 33-1 (송도동)', '인천광역시 연수구 하모니로 136 (송도동)', '인천광역시 연수구 용담로 115 (연수동) 105,106,203호', '인천광역시 연수구 송도과학로27번길 55 (송도동) 롯데캠퍼스타운', '인천광역시 연수구 아트센터대로 131 (송도동)', '인천광역시 연수구 센트럴로 194 (송도동)', '인천광역시 연수구 경원대로 184 (동춘동)', '인천광역시 연수구 능허대로 137 (옥련동)', '인천광역시 연수구 인천타워대로132번길 9 (송도동)', '인천광역시 연수구 송도국제대로 123 (송도동)', '인천광역시 연수구 벤처로 10 (송도동)', '인천광역시 서구 완정로 172 (마전동)', '인천광역시 서구 청라커낼로 300 (청라동, 청라센트럴에일린의뜰)', '인천광역시 서구 청라커낼로260번길 27 (청라동)', '인천광역시 서구 원당대로 668 (당하동)', '인천광역시 서구 중봉대로 612번길 10-17', '인천광역시 서구 서곶로 277 (심곡동)', '인천광역시 서구 중봉대로 586번길 19', '인천광역시 서구 가정로 437 (가정동, 루원시티 SK Leaders VIEW)', '인천광역시 서구 경명대로694번길 2 (공촌동)', '인천광역시 서구 국제대로 237 (청라동)', '인천광역시 남동구 경인로 750 (간석동)', '인천광역시 남동구 인하로 556 (구월동)', '인천광역시 남동구 예술로 126 (구월동)', '인천광역시 남동구 서창남로 51 (서창동) 101,102,103호', '인천광역시 남동구 경원대로 974 (간석동)', '인천광역시 남동구 예술로 174 (구월동) 흥국생명', '인천광역시 남동구 인하로 497-22, 2층 (구월동)', '인천광역시 남동구 남동대로 773, , 14 삼성화재 인천사옥 (구월동)', '인천광역시 남동구 예술로 138 (구월동) 101,102,111,201,209호 일부,210호 일부', '인천광역시 남동구 논고개로 93, 111,112, 206, 207호 (논현동)', '인천광역시 남동구 용천로 70 (구월동)', '인천광역시 남동구 경인로 563 (간석동)', '인천광역시 중구 하늘중앙로195번길 15 (중산동)', '인천광역시 중구 공항로 272 (운서동)', '인천광역시 중구 공항로 272 (운서동) 제2여객터미널 3층 탑승지역 25-235', '인천광역시 중구 공항로 272 (운서동) 제2여객터미널 1층 환영홀지역 23-202', '인천광역시 중구 신도시남로142번길 17 (운서동)', '인천광역시 중구 공항로 272 (운서동) 인천국제공항여객터미널 FB-P5-73', '인천광역시 중구 공항로 272 (운서동) 인천공항', '강원도 동해시 중앙로 219 (천곡동)', '강원도 동해시 동해대로 5453 (평릉동)', '강원도 속초시 미시령로2983번길 111 (장사동)', '강원도 속초시 동해대로 4114 (조양동)', '강원도 속초시 중앙로 123 (금호동)', '강원도 속초시 청대로 339 (교동)', '강원도 춘천시 동면 순환대로 1154-63', '강원도 춘천시 후석로 318 (후평동)', '강원도 춘천시 후석로 13 (석사동)', '강원도 춘천시 중앙로 57 (중앙로2가)', '강원도 춘천시 경춘로 2353 (온의동) E-마트 춘천점내 1층', '강원도 춘천시 서부대성로 243-1 (효자동)', '강원도 춘천시 안마산로 95 (퇴계동)', '강원도 춘천시 방송길 104 (온의동)', '강원도 홍천군 서면 한치골길 262', '강원도 홍천군 서면 한치골길 262', '강원도 강릉시 경강로 2400 (송정동)', '강원도 강릉시 창해로350번길 3 (강문동)', '강원도 강릉시 교동광장로 114 (교동)', '강원도 강릉시 경강로 2096 (임당동)', '강원도 강릉시 창해로14번길 40 (견소동)', '강원도 강릉시 율곡로 2996 (교동)', '강원도 고성군 토성면 미시령옛길 1153', '강원도 원주시 동부순환로 37 (반곡동)', '강원도 원주시 남원로 588 (명륜동)', '강원도 원주시 능라동길 73 (무실동)', '강원도 원주시 혁신로 61 (반곡동)', '강원도 원주시 서원대로 178 (단계동)', '강원도 원주시 지정면 오크밸리1길 70', '강원도 원주시 현충로 294 (태장동)', '강원도 원주시 서원대로 443 (단구동)', '경상남도 김해시 김해대로 1918 (구산동)', '경상남도 김해시 진영읍 여래로20번길 34-26', '경상남도 김해시 김해대로 2232 신세계백화점 1층', '경상남도 김해시 김해대로 2232 김해이마트 1층', '경상남도 김해시 김해대로 2465', '경상남도 김해시 분성로 146 (외동)', '경상남도 김해시 율하카페길 77 (관동동) 1층', '경상남도 김해시 가야로 182 (삼계동)', '경상남도 김해시 경원로 67 (내동)', '경상남도 김해시 주촌면 선천로 99', '경상남도 김해시 가야로 450 (동상동)', '경상남도 김해시 율하6로 67 1층 105호 (장유동)', '경상남도 김해시 진영읍 장등로10번길 1', '경상남도 김해시 율하3로 32 (율하동)', '경상남도 김해시 금관대로 1293 (내동)', '경상남도 밀양시 밀양대로 1792 (삼문동)', '경상남도 사천시 사천읍 사천대로 1844', '경상남도 사천시 주공로 31 (벌리동)', '경상남도 진주시 진양호로 206 BYC빌딩1층', '경상남도 진주시 진주대로829번길 2 (주약동)', '경상남도 진주시 진양호로527번길 3 (중안동)', '경상남도 진주시 진양호로 353 (신안동)', '경상남도 진주시 진주대로 510 (가좌동)', '경상남도 진주시 에나로127번길 30 (충무공동)', '경상남도 진주시 동진로 22 (칠암동)', '경상남도 창원시 마산회원구 3·15대로 518 (회원동)', '경상남도 창원시 성산구 상남로 88 (상남동)', '경상남도 창원시 마산회원구 3·15대로 715 (석전동)', '경상남도 창원시 마산합포구 해안대로 383 (오동동)', '경상남도 창원시 진해구 진해대로 962 (자은동)', '경상남도 창원시 의창구 의창대로 68 (팔용동)', '경상남도 창원시 마산회원구 내서읍 호원로 315', '경상남도 창원시 성산구 삼귀로 159 (귀곡동)', '경상남도 창원시 마산회원구 팔용로 158 (합성동)', '경상남도 창원시 마산회원구 합성남로 6-1 (합성동)', '경상남도 창원시 성산구 단정로 25', '경상남도 창원시 진해구 안골로 336 (용원동) 형제빌딩', '경상남도 창원시 성산구 중앙대로100번길 9 (상남동)', '경상남도 창원시 성산구 마디미로 20 (상남동)', '경상남도 창원시 성산구 상남로 132 (상남동)', '경상남도 창원시 마산합포구 합포로 251 (산호동) 신세계백화점 내 지하1층', '경상남도 창원시 성산구 원이대로 320 (대원동)', '경상남도 창원시 마산합포구 월영남로 3 (해운동)', '경상남도 창원시 성산구 용지로169번길 1 (용호동)', '경상남도 창원시 마산합포구 3·15대로 70 (월남동2가)', '경상남도 창원시 마산회원구 봉양로 118 (봉암동)', '경상남도 창원시 성산구 반송로 150 (반림동)', '경상남도 창원시 의창구 중동중앙로 47 (중동)', '경상남도 창원시 마산회원구 삼호로 63 (양덕동), 창원NC파크', '경상남도 창원시 의창구 용동로 91 (사림동)', '경상남도 창원시 진해구 신항동로 121 (용원동) 112호', '경상남도 창원시 성산구 성산패총로 182 (가음정동)', '경상남도 창원시 성산구 창이대로689번길 4-4 (사파동) 1,2층', '경상남도 창원시 진해구 충장로 662 (장천동), [108호, 109호, 110호, 111호]', '경상남도 창원시 의창구 창이대로 45 (명서동)', '경상남도 창원시 마산회원구 내서읍 광려천서로 81', '경상남도 창원시 의창구 팔용로 419 (팔용동)', '경상남도 통영시 광도면 죽림4로 9', '경상남도 거제시 거제대로 4521 (수월동)', '경상남도 거제시 거제중앙로 1936 (고현동)', '경상남도 거제시 일운면 거제대로 2660 1층', '경상남도 거제시 장평로 12 (장평동)', '경상남도 거제시 거제대로 3718 (옥포동)', '경상남도 양산시 동면 양산대로 532', '경상남도 양산시 물금읍 증산역로 177', '경상남도 양산시 물금읍 야리로 25', '경상남도 양산시 웅상대로 860 (덕계동)', '경상남도 양산시 양산역1길 7 (중부동) 양산시외버스터미널', '경상남도 양산시 물금읍 범어로 62', '경상남도 양산시 양산역6길 12, 양산이마트 1층 (중부동)', '경상남도 양산시 물금읍 황산로 346', '경상북도 경산시 경안로 222 (중방동)', '경상북도 경산시 대학로 280 (대동) 영남대학교', '경상북도 경산시 대학로 280 (조영동) 영남대학교', '경상북도 경산시 청운로 16, 1~3층 (대동)', '경상북도 경산시 하양읍 하양로 18', '경상북도 경산시 옥산로 227 (중산동) 경산이마트', '경상북도 경산시 진량읍 대구대로 201', '경상북도 경산시 대학로 208 (계양동)', '경상북도 경산시 펜타힐즈로 74 (중산동) 109호,110호,111호,112호', '경상북도 경산시 진량읍 대학로 1417 경상북도 경산시 진량읍 대학로 1417', '경상북도 경주시 보문로 537 (천군동)', '경상북도 경주시 태종로 686 (사정동)', '경상북도 경주시 황성로1번길 4 (황성동)', '경상북도 경주시 첨성로 125 (황남동)', '경상북도 경주시 보문로 132-6 (북군동)', '경상북도 경주시 원효로 105-1 (노동동)', '경상북도 경주시 보문로 510-6, 외 1번지(신평동 719-220) (천군동)', '경상북도 경주시 산업로 4350 (용강동)', '경상북도 구미시 금오대로 439 (상모동)', '경상북도 구미시 야은로 312 (도량동)', '경상북도 구미시 옥계북로 20 (양포동)', '경상북도 구미시 송정대로 27 (송정동)', '경상북도 구미시 인동중앙로 15 (인의동)', '경상북도 구미시 금오산로 205 (남통동)', '경상북도 구미시 구미중앙로 94 (원평동)', '경상북도 구미시 인동가산로 9-3, 노블레스타워 1층 (황상동)', '경상북도 구미시 1공단로 212, HALLA SIGMA VALLEY 106 (공단동)', '경상북도 구미시 구미대로 188 (광평동)', '경상북도 구미시 고아읍 들성로 207', '경상북도 구미시 산동읍 신당1로4길 19', '경상북도 상주시 영남제일로 1683 (무양동)', '경상북도 포항시 남구 중흥로 122 (상도동)', '경상북도 포항시 남구 오천읍 원동로 15', '경상북도 포항시 남구 포스코대로 124 (대잠동)', '경상북도 포항시 남구 냉천로 10, 이마트 포항점 1층 (인덕동)', '경상북도 포항시 남구 시청로 5 (대잠동)', '경상북도 포항시 남구 포스코대로 351 (대도동)', '경상북도 포항시 남구 동해안로6213번길 15-15 (동촌동)', '경상북도 문경시 문경읍 새재로 906', '경상북도 김천시 혁신3로 26 (율곡동)', '경상북도 김천시 시청로 47 (대신동)', '경상북도 안동시 옥동1길 2 (옥동)', '경상북도 안동시 앙실로 11 (수상동)', '경상북도 안동시 서동문로 173 (삼산동)', '경상북도 안동시 육사로 327 (법흥동)', '경상북도 안동시 광명로 166 (옥동)', '경상북도 영천시 영화로 272 (완산동)', '경상북도 포항시 북구 새천년대로 486 699-1 에스오일', '경상북도 포항시 북구 새천년대로 1255 (장성동)', '경상북도 포항시 북구 장량로 162 (양덕동)', '경상북도 포항시 북구 불종로 41 (신흥동)', '경상북도 포항시 북구 삼호로 186 (항구동)', '경상북도 포항시 북구 중앙로 197 (죽도동)', '전라남도 광양시 중마중앙로 143', '전라남도 광양시 광양읍 순광로 466', '전라남도 광양시 백운로 1267 (마동)', '전라남도 목포시 영산로 495 (상동)', '전라남도 목포시 백년대로 293 (상동)', '전라남도 목포시 고하대로 694 (산정동)', '전라남도 목포시 백년대로375번길 1 (옥암동)', '전라남도 목포시 미항로 137 (상동)', '전라남도 목포시 대양로 133 (용해동)', '전라남도 무안군 남악3로82번길 11', '전라남도 무안군 삼향읍 남악3로 54', '전라남도 순천시 연향번영길 118 (연향동)', '전라남도 순천시 해룡면 향매로 99', '전라남도 순천시 왕지2길 17 (왕지동)', '전라남도 순천시 비봉2길 9 (조례동)', '전라남도 순천시 중앙로 398 (가곡동)', '전라남도 순천시 백강로 23 (연향동)', '전라남도 순천시 팔마로 191 (덕암동)', '전라남도 여수시 이순신광장로 192 (종화동)', '전라남도 여수시 도원로 271 (학동)', '전라남도 여수시 예울마루로 37-53 (웅천동)', '전라남도 여수시 좌수영로 482 (둔덕동)', '전라남도 여수시 여문1로 49 (여서동)', '전라남도 여수시 망마로 39 (학동)', '전라남도 여수시 신월로 567 (신월동)', '전라남도 여수시 웅천로 134 (웅천동)', '전라남도 화순군 화순읍 서양로 478', '전라남도 나주시 상야1길 21 (빛가람동)', '전라남도 나주시 빛가람로 838 (빛가람동)', '전라북도 김제시 콩쥐팥쥐로 11 (검산동)', '전라북도 남원시 요천로 1477 (쌍교동)', '전라북도 익산시 선화로 106 (모현동1가)', '전라북도 익산시 무왕로 1005 (영등동)', '전라북도 익산시 무왕로 1052 (영등동)', '전라북도 익산시 평동로 722 (동산동)', '전라북도 전주시 덕진구 송천중앙로 228 (송천동2가)', '전라북도 전주시 덕진구 백제대로 616 (금암동)', '전라북도 전주시 덕진구 기지로 68 (중동)', '전라북도 전주시 덕진구 기린대로 491 (덕진동1가)', '전라북도 전주시 덕진구 명륜4길 12 (덕진동1가)', '전라북도 전주시 덕진구 세병2길 10 (송천동2가)', '전라북도 전주시 덕진구 아중로 135 (인후동1가)', '전라북도 전주시 덕진구 동부대로 860 (호성동1가)', '전라북도 전주시 덕진구 기린대로 1022 (여의동)', '전라북도 전주시 완산구 모악로 4696 (평화동2가)', '전라북도 전주시 완산구 백제대로 242 (중화산동2가)', '전라북도 전주시 완산구 용머리로 7 (효자동1가)', '전라북도 전주시 완산구 서신로 104 (서신동)', '전라북도 전주시 완산구 홍산로 238 (효자동2가)', '전라북도 전주시 완산구 팔달로 123 (전동)', '전라북도 전주시 완산구 홍산중앙로 22 (효자동3가)', '전라북도 전주시 완산구 전주객사4길 44-18 (고사동)', '전라북도 전주시 완산구 우전로 255 (효자동2가)', '전라북도 전주시 완산구 천잠로 149 (효자동2가)', '전라북도 정읍시 충정로 271 (수성동)', '전라북도 군산시 하나운안2길 4 (나운동)', '전라북도 군산시 수송로 195 (수송동)', '전라북도 군산시 황룡로 7 (미룡동)', '전라북도 군산시 번영로 133 (조촌동)', '전라북도 군산시 공단대로 243 (수송동)', '충청남도 공주시 반포면 동학사1로 114', '충청남도 공주시 번영1로 113 (신관동)', '충청남도 공주시 무령로 467 (신관동)', '충청남도 논산시 중앙로398번길 13-10', '충청남도 논산시 시민로 165 (내동)', '충청남도 보령시 대해로 101 (궁촌동)', '충청남도 서산시 나무장1길 22 (예천동)', '충청남도 서산시 호수공원2로 33, 1~2층 (읍내동)', '충청남도 천안시 동남구 만남로 43 (신부동) 아라리오갤러리', '충청남도 천안시 동남구 청수14로 102 (청당동)', '충청남도 천안시 동남구 안서3길 3 (안서동)', '충청남도 천안시 동남구 신부15길 3 (신부동)', '충청남도 천안시 동남구 만남로 9 (신안동)', '충청남도 천안시 동남구 만남로 43 (신부동) B관 4층', '충청남도 천안시 동남구 남부대로 322 1동 1층', '충청남도 천안시 동남구 천안대로 527 (구성동)', '충청남도 천안시 서북구 삼성대로 20 (백석동)', '충청남도 천안시 서북구 백석로 85-4 (백석동)', '충청남도 천안시 서북구 불당34길 4 (불당동)', '충청남도 천안시 서북구 서부대로 405 (쌍용동)', '충청남도 천안시 서북구 두정로 264 (두정동)', '충청남도 천안시 서북구 불당22대로 67 (불당동)', '충청남도 천안시 서북구 충무로 133 (쌍용동)', '충청남도 천안시 서북구 불당33길 24 (불당동)', '충청남도 천안시 서북구 동서대로 154 (성정동)', '충청남도 천안시 서북구 불당4로 91 (불당동)', '충청남도 천안시 서북구 부성4길 3 (부성1동)', '충청남도 천안시 서북구 충무로 187 (쌍용동) 천안이마트 1층', '충청남도 천안시 서북구 업성수변로 69 (성성동)', '충청남도 홍성군 홍성읍 도청대로 58', '충청남도 홍성군 홍북읍 청사로150번길 24', '충청남도 계룡시 엄사면 번영로 6', '충청남도 당진시 서해로 6283 (시곡동)', '충청남도 당진시 시청1로 78 (읍내동) 1층', '충청남도 아산시 온천대로 1392 (방축동)', '충청남도 아산시 배방읍 배방로 22', '충청남도 아산시 탕정면 탕정면로 10', '충청남도 아산시 어의정로 117 (용화동)', '충청남도 아산시 번영로 232 (모종동)', '충청남도 아산시 문화로 271-6 (권곡동) 101~105호', '충청남도 아산시 온천대로 1721 (모종동) 아산축산농협 1층', '충청남도 아산시 배방읍 고속철대로 147 101~105호', '충청북도 증평군 증평읍 광장로 40', '충청북도 청주시 상당구 1순환로 1243 (용암동)', '충청북도 청주시 상당구 산성로 129 (용담동)', '충청북도 청주시 상당구 무심동로392번길 20 (서문동)', '충청북도 충주시 중원대로 3245 (호암동)', '충청북도 충주시 국원대로 208-1 (금릉동)', '충청북도 충주시 봉계13길 2 (봉방동)', '충청북도 충주시 계명대로 227 (연수동)', '충청북도 충주시 금봉대로 358 (교현동)', '충청북도 음성군 맹동면 원중로 1416', '충청북도 제천시 의림대로 181 (중앙로2가)', '충청북도 청주시 흥덕구 2순환로 1078 (비하동)', '충청북도 청주시 흥덕구 오송읍 오송생명로 220', '충청북도 청주시 흥덕구 1순환로 514 (봉명동)', '충청북도 청주시 흥덕구 강서로 121 (강서동)', '충청북도 청주시 흥덕구 대농로 43 (복대동) 신영지웰시티 1차 상업시설', '충청북도 청주시 흥덕구 직지대로 308 (복대동)', '충청북도 청주시 흥덕구 풍산로 15 (가경동)', '충청북도 청주시 흥덕구 대농로 52 (복대동)', '충청북도 청주시 서원구 청남로 1853 (미평동)', '충청북도 청주시 서원구 사직대로 302 (사직동)', '충청북도 청주시 서원구 복대로 5 (개신동)', '충청북도 청주시 서원구 내수동로 113 (사창동)', '충청북도 청주시 서원구 1순환로 1154 (분평동)', '충청북도 청주시 청원구 오창읍 중심상업1로 20 101,102,103,104호', '충청북도 청주시 청원구 충청대로107번길 8 (율량동)', '충청북도 청주시 청원구 오창읍 과학산업2로 385', '제주특별자치도 서귀포시 안덕면 신화역사로304번길 38 B1-29', '제주특별자치도 서귀포시 대정읍 에듀시티로 36', '제주특별자치도 서귀포시 성산읍 일출로 80', '제주특별자치도 서귀포시 천제연로 95(색달동)', '제주특별자치도 서귀포시 대정읍 형제해안로 322', '제주특별자치도 서귀포시 일주서로 11 (강정동)', '제주특별자치도 서귀포시 성산읍 일출로 284-5 1,2층', '제주특별자치도 서귀포시 중문관광로110번길 32 (색달동)', '제주특별자치도 서귀포시 중정로 69 (서귀동)', '제주특별자치도 제주시 연북로 394 (도남동)', '제주특별자치도 제주시 한림읍 한림로 337', '제주특별자치도 제주시 일주서로 7300 (외도일동)', '제주특별자치도 제주시 연삼로 884 (도련일동)', '제주특별자치도 제주시 중앙로 215 (이도이동)', '제주특별자치도 제주시 조천읍 조함해안로 522', '제주특별자치도 제주시 연북로 12 (노형동)', '제주특별자치도 제주시 애월읍 애월해안로 376', '제주특별자치도 제주시 관덕로 55 (일도일동)', '제주특별자치도 제주시 도령로 27 (노형동)', '제주특별자치도 제주시 서해안로 380 (용담삼동) 화이트하우스', '제주특별자치도 제주시 1100로 3348, 신제주이마트 1층 (노형동)', '제주특별자치도 제주시 노형로 376 (노형동)', '제주특별자치도 제주시 월랑로 68 (노형동)', '제주특별자치도 제주시 서해안로 624 (용담삼동)', '제주특별자치도 제주시 동광로 130 (일도이동)', '제주특별자치도 제주시 월성로 42 (용담이동)']\n"
     ]
    }
   ],
   "source": [
    "#ActionChains생성\n",
    "action = ActionChains(driver)\n",
    "try:\n",
    "    i = 1\n",
    "    nameList = []\n",
    "    addrList = []\n",
    "    for gu in sigungu_names:\n",
    "        index = 4\n",
    "        driver.find_element(By.XPATH, '//*[@id=\"container\"]/div/form/fieldset/div/section/article[1]/article/header[2]/h3/a').click()\n",
    "        # driver.find_element(By.TAG_NAME, soup.find(\"a\", string=gu).text).click()\n",
    "        time.sleep(1)\n",
    "        driver.find_element(By.XPATH, f'//*[@id=\"container\"]/div/form/fieldset/div/section/article[1]/article/article[2]/div[1]/div[2]/ul/li[{i}]/a').click()\n",
    "        time.sleep(1)\n",
    "        driver.find_element(By.XPATH, '//*[@id=\"mCSB_2_container\"]/ul/li[1]/a').click()\n",
    "        time.sleep(1)\n",
    "        name1 = driver.find_element(By.XPATH, '//*[@id=\"mCSB_3_container\"]/ul')\n",
    "        name_list = name1.find_elements(By.CLASS_NAME, 'quickResultLstCon')\n",
    "        name_names = [option.get_attribute('data-name') for option in name_list]\n",
    "        for j in  range(1,(len(name_names)+1)):\n",
    "            totalList = driver.find_element(By.XPATH, f'//*[@id=\"mCSB_3_container\"]/ul/li[{index}]')\n",
    "            driver.find_element(By.XPATH, f'//*[@id=\"mCSB_3_container\"]/ul/li[{j}]/i').click()\n",
    "            name = driver.find_element(By.CLASS_NAME, 'map_marker_pop').text\n",
    "            nameList.append(name.split('\\n')[0])\n",
    "            addrList.append(name.split('\\n')[1])\n",
    "            time.sleep(1)\n",
    "            action.move_to_element(totalList).perform()\n",
    "            if index >= len(name_names):\n",
    "                index = len(name_names)\n",
    "            else:\n",
    "                index += 1\n",
    "\n",
    "        i += 1\n",
    "except:\n",
    "    pass\n",
    "\n",
    "print(nameList)\n",
    "print(addrList)"
   ]
  },
  {
   "cell_type": "code",
   "execution_count": 213,
   "metadata": {},
   "outputs": [
    {
     "data": {
      "text/plain": [
       "1766"
      ]
     },
     "execution_count": 213,
     "metadata": {},
     "output_type": "execute_result"
    }
   ],
   "source": [
    "len(nameList)"
   ]
  },
  {
   "cell_type": "code",
   "execution_count": 214,
   "metadata": {},
   "outputs": [
    {
     "data": {
      "text/html": [
       "<div>\n",
       "<style scoped>\n",
       "    .dataframe tbody tr th:only-of-type {\n",
       "        vertical-align: middle;\n",
       "    }\n",
       "\n",
       "    .dataframe tbody tr th {\n",
       "        vertical-align: top;\n",
       "    }\n",
       "\n",
       "    .dataframe thead th {\n",
       "        text-align: right;\n",
       "    }\n",
       "</style>\n",
       "<table border=\"1\" class=\"dataframe\">\n",
       "  <thead>\n",
       "    <tr style=\"text-align: right;\">\n",
       "      <th></th>\n",
       "      <th>Name</th>\n",
       "      <th>Address</th>\n",
       "    </tr>\n",
       "  </thead>\n",
       "  <tbody>\n",
       "    <tr>\n",
       "      <th>0</th>\n",
       "      <td>역삼아레나빌딩</td>\n",
       "      <td>서울특별시 강남구 언주로 425 (역삼동)</td>\n",
       "    </tr>\n",
       "    <tr>\n",
       "      <th>1</th>\n",
       "      <td>논현역사거리</td>\n",
       "      <td>서울특별시 강남구 강남대로 538 (논현동)</td>\n",
       "    </tr>\n",
       "    <tr>\n",
       "      <th>2</th>\n",
       "      <td>신사역성일빌딩</td>\n",
       "      <td>서울특별시 강남구 강남대로 584 (논현동)</td>\n",
       "    </tr>\n",
       "    <tr>\n",
       "      <th>3</th>\n",
       "      <td>국기원사거리</td>\n",
       "      <td>서울특별시 강남구 테헤란로 125 (역삼동)</td>\n",
       "    </tr>\n",
       "    <tr>\n",
       "      <th>4</th>\n",
       "      <td>대치재경빌딩R</td>\n",
       "      <td>서울특별시 강남구 남부순환로 2947 (대치동)</td>\n",
       "    </tr>\n",
       "    <tr>\n",
       "      <th>...</th>\n",
       "      <td>...</td>\n",
       "      <td>...</td>\n",
       "    </tr>\n",
       "    <tr>\n",
       "      <th>1761</th>\n",
       "      <td>제주노형로</td>\n",
       "      <td>제주특별자치도 제주시 노형로 376 (노형동)</td>\n",
       "    </tr>\n",
       "    <tr>\n",
       "      <th>1762</th>\n",
       "      <td>제주노형DT</td>\n",
       "      <td>제주특별자치도 제주시 월랑로 68 (노형동)</td>\n",
       "    </tr>\n",
       "    <tr>\n",
       "      <th>1763</th>\n",
       "      <td>제주서해안로DT</td>\n",
       "      <td>제주특별자치도 제주시 서해안로 624 (용담삼동)</td>\n",
       "    </tr>\n",
       "    <tr>\n",
       "      <th>1764</th>\n",
       "      <td>제주일도DT</td>\n",
       "      <td>제주특별자치도 제주시 동광로 130 (일도이동)</td>\n",
       "    </tr>\n",
       "    <tr>\n",
       "      <th>1765</th>\n",
       "      <td>제주공항DT</td>\n",
       "      <td>제주특별자치도 제주시 월성로 42 (용담이동)</td>\n",
       "    </tr>\n",
       "  </tbody>\n",
       "</table>\n",
       "<p>1766 rows × 2 columns</p>\n",
       "</div>"
      ],
      "text/plain": [
       "          Name                      Address\n",
       "0      역삼아레나빌딩      서울특별시 강남구 언주로 425 (역삼동)\n",
       "1       논현역사거리     서울특별시 강남구 강남대로 538 (논현동)\n",
       "2      신사역성일빌딩     서울특별시 강남구 강남대로 584 (논현동)\n",
       "3       국기원사거리     서울특별시 강남구 테헤란로 125 (역삼동)\n",
       "4      대치재경빌딩R   서울특별시 강남구 남부순환로 2947 (대치동)\n",
       "...        ...                          ...\n",
       "1761     제주노형로    제주특별자치도 제주시 노형로 376 (노형동)\n",
       "1762    제주노형DT     제주특별자치도 제주시 월랑로 68 (노형동)\n",
       "1763  제주서해안로DT  제주특별자치도 제주시 서해안로 624 (용담삼동)\n",
       "1764    제주일도DT   제주특별자치도 제주시 동광로 130 (일도이동)\n",
       "1765    제주공항DT    제주특별자치도 제주시 월성로 42 (용담이동)\n",
       "\n",
       "[1766 rows x 2 columns]"
      ]
     },
     "execution_count": 214,
     "metadata": {},
     "output_type": "execute_result"
    }
   ],
   "source": [
    "import pandas as pd\n",
    "df = pd.DataFrame(data = nameList, columns = ['Name'])\n",
    "df['Address'] = pd.Series(addrList)\n",
    "df"
   ]
  },
  {
   "cell_type": "code",
   "execution_count": 215,
   "metadata": {},
   "outputs": [],
   "source": [
    "df.to_csv(\"../Data/Starbucks.csv\", encoding='utf-8', index=False)"
   ]
  },
  {
   "cell_type": "code",
   "execution_count": null,
   "metadata": {},
   "outputs": [],
   "source": []
  }
 ],
 "metadata": {
  "kernelspec": {
   "display_name": "tensorflow",
   "language": "python",
   "name": "python3"
  },
  "language_info": {
   "codemirror_mode": {
    "name": "ipython",
    "version": 3
   },
   "file_extension": ".py",
   "mimetype": "text/x-python",
   "name": "python",
   "nbconvert_exporter": "python",
   "pygments_lexer": "ipython3",
   "version": "3.9.13"
  },
  "orig_nbformat": 4,
  "vscode": {
   "interpreter": {
    "hash": "b5bceb7e8a84ff8847f58b8686ae86845aacdffaae9b7539e602163ce2574e80"
   }
  }
 },
 "nbformat": 4,
 "nbformat_minor": 2
}
