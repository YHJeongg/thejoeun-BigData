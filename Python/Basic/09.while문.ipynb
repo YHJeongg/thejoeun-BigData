{
 "cells": [
  {
   "attachments": {},
   "cell_type": "markdown",
   "metadata": {},
   "source": [
    "# while문"
   ]
  },
  {
   "cell_type": "code",
   "execution_count": 16,
   "metadata": {},
   "outputs": [
    {
     "name": "stdout",
     "output_type": "stream",
     "text": [
      "나무를 1번 찍었습니다.\n",
      "나무를 2번 찍었습니다.\n",
      "나무를 3번 찍었습니다.\n",
      "나무를 4번 찍었습니다.\n",
      "나무를 5번 찍었습니다.\n",
      "나무를 6번 찍었습니다.\n",
      "나무를 7번 찍었습니다.\n",
      "나무를 8번 찍었습니다.\n",
      "나무를 9번 찍었습니다.\n",
      "나무를 10번 찍었습니다.\n",
      "나무 넘어 갑니다.\n"
     ]
    }
   ],
   "source": [
    "treeHit = 0\n",
    "\n",
    "while treeHit < 10:\n",
    "    treeHit += 1\n",
    "    print(\"나무를 %d번 찍었습니다.\"%treeHit)\n",
    "    if treeHit == 10:\n",
    "        print(\"나무 넘어 갑니다.\")"
   ]
  },
  {
   "cell_type": "code",
   "execution_count": 17,
   "metadata": {},
   "outputs": [],
   "source": [
    "prompt = \"\"\"\n",
    "    1. 덧셈\n",
    "    2. 뺄셈\n",
    "    3. 곱셈\n",
    "    4. 나눗셈\n",
    "    5. 종료\n",
    "\n",
    "    숫자를 입력하세요 :\n",
    "\"\"\""
   ]
  },
  {
   "cell_type": "code",
   "execution_count": 18,
   "metadata": {},
   "outputs": [
    {
     "name": "stdout",
     "output_type": "stream",
     "text": [
      "\n",
      "    1. 덧셈\n",
      "    2. 뺄셈\n",
      "    3. 곱셈\n",
      "    4. 나눗셈\n",
      "    5. 종료\n",
      "\n",
      "    숫자를 입력하세요 :\n",
      "\n",
      "\n",
      "    1. 덧셈\n",
      "    2. 뺄셈\n",
      "    3. 곱셈\n",
      "    4. 나눗셈\n",
      "    5. 종료\n",
      "\n",
      "    숫자를 입력하세요 :\n",
      "\n"
     ]
    }
   ],
   "source": [
    "number = 0\n",
    "\n",
    "while number != 5:\n",
    "    print(prompt)\n",
    "    number = int(input())"
   ]
  },
  {
   "cell_type": "code",
   "execution_count": 25,
   "metadata": {},
   "outputs": [
    {
     "name": "stdout",
     "output_type": "stream",
     "text": [
      "돈을 넣어 주세요!\n",
      "거스름 돈은 3000원을 주고 커피를 줍니다.\n",
      "남은 커피의 양은 4개 입니다.\n",
      "\n",
      "\n",
      "돈을 넣어 주세요!\n",
      "거스름 돈은 3700원을 주고 커피를 줍니다.\n",
      "남은 커피의 양은 3개 입니다.\n",
      "\n",
      "\n",
      "돈을 넣어 주세요!\n",
      "거스름 돈은 55200원을 주고 커피를 줍니다.\n",
      "남은 커피의 양은 2개 입니다.\n",
      "\n",
      "\n",
      "돈을 넣어 주세요!\n",
      "거스름 돈은 32700원을 주고 커피를 줍니다.\n",
      "남은 커피의 양은 1개 입니다.\n",
      "\n",
      "\n",
      "돈을 넣어 주세요!\n",
      "거스름 돈은 1920원을 주고 커피를 줍니다.\n",
      "남은 커피의 양은 0개 입니다.\n",
      "커피가 다 떨어졌습니다. 판매를 중지 합니다.\n"
     ]
    }
   ],
   "source": [
    "number = 5\n",
    "while number > 0:\n",
    "    print('돈을 넣어 주세요!')\n",
    "    money = int(input())\n",
    "    if money == 300:\n",
    "        print('커피를 줍니다.')\n",
    "        number -= 1\n",
    "    elif money > 300:\n",
    "        print(f'거스름 돈은 {money - 300}원을 주고 커피를 줍니다.')\n",
    "        number -= 1\n",
    "    else:\n",
    "        print('돈을 다시 돌려주고 커피를 주지 않습니다.')\n",
    "    print(f'남은 커피의 양은 {number}개 입니다.')\n",
    "    if number == 0:\n",
    "        print('커피가 다 떨어졌습니다. 판매를 중지 합니다.')\n",
    "        break\n",
    "    print(\"\\n\")"
   ]
  },
  {
   "cell_type": "code",
   "execution_count": 27,
   "metadata": {},
   "outputs": [
    {
     "name": "stdout",
     "output_type": "stream",
     "text": [
      "1\n",
      "3\n",
      "5\n",
      "7\n",
      "9\n"
     ]
    }
   ],
   "source": [
    "# continue문을 사용하여 홀수 숫자만 출력\n",
    "var = 0\n",
    "while var < 10:\n",
    "    var += 1\n",
    "    if var % 2 == 0:\n",
    "        continue\n",
    "    print(var)"
   ]
  },
  {
   "cell_type": "code",
   "execution_count": 28,
   "metadata": {},
   "outputs": [
    {
     "name": "stdout",
     "output_type": "stream",
     "text": [
      "노력\n",
      "우수\n",
      "우수\n",
      "노력\n"
     ]
    }
   ],
   "source": [
    "# 점수가 80점 이상이면 우수, 나머지는 노력으로 출력\n",
    "scores = [78,85,95,65]\n",
    "var = 0\n",
    "\n",
    "while var < len(scores):\n",
    "    if scores[var] >= 80:\n",
    "        print('우수')\n",
    "    else:\n",
    "        print('노력')\n",
    "    var += 1"
   ]
  },
  {
   "cell_type": "code",
   "execution_count": 33,
   "metadata": {},
   "outputs": [
    {
     "name": "stdout",
     "output_type": "stream",
     "text": [
      "노력\n",
      "우수\n",
      "우수\n",
      "노력\n"
     ]
    }
   ],
   "source": [
    "scores = [78,85,95,65]\n",
    "\n",
    "while scores:\n",
    "    score = scores.pop(0)\n",
    "    if score >= 80:\n",
    "        print('우수')\n",
    "    else:\n",
    "        print('노력')\n",
    "    var += 1"
   ]
  },
  {
   "cell_type": "code",
   "execution_count": 36,
   "metadata": {},
   "outputs": [],
   "source": [
    "\n",
    "import numpy as np\n",
    "import math"
   ]
  },
  {
   "cell_type": "code",
   "execution_count": 35,
   "metadata": {},
   "outputs": [
    {
     "data": {
      "text/plain": [
       "80.75"
      ]
     },
     "execution_count": 35,
     "metadata": {},
     "output_type": "execute_result"
    }
   ],
   "source": [
    "scores = [78,85,95,65]\n",
    "np.mean(scores)"
   ]
  },
  {
   "cell_type": "code",
   "execution_count": 37,
   "metadata": {},
   "outputs": [
    {
     "data": {
      "text/plain": [
       "10.917302780449024"
      ]
     },
     "execution_count": 37,
     "metadata": {},
     "output_type": "execute_result"
    }
   ],
   "source": [
    "# 표준편차 구하기\n",
    "scores = [78,85,95,65]\n",
    "np.std(scores)"
   ]
  }
 ],
 "metadata": {
  "kernelspec": {
   "display_name": "tensorflow",
   "language": "python",
   "name": "python3"
  },
  "language_info": {
   "codemirror_mode": {
    "name": "ipython",
    "version": 3
   },
   "file_extension": ".py",
   "mimetype": "text/x-python",
   "name": "python",
   "nbconvert_exporter": "python",
   "pygments_lexer": "ipython3",
   "version": "3.9.13 | packaged by conda-forge | (main, May 27 2022, 17:01:00) \n[Clang 13.0.1 ]"
  },
  "orig_nbformat": 4,
  "vscode": {
   "interpreter": {
    "hash": "b5bceb7e8a84ff8847f58b8686ae86845aacdffaae9b7539e602163ce2574e80"
   }
  }
 },
 "nbformat": 4,
 "nbformat_minor": 2
}
