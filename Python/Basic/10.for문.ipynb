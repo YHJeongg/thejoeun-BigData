{
 "cells": [
  {
   "attachments": {},
   "cell_type": "markdown",
   "metadata": {},
   "source": [
    "## range 함수"
   ]
  },
  {
   "cell_type": "code",
   "execution_count": 1,
   "metadata": {},
   "outputs": [
    {
     "data": {
      "text/plain": [
       "[1, 2, 3, 4, 5, 6, 7, 8, 9, 10]"
      ]
     },
     "execution_count": 1,
     "metadata": {},
     "output_type": "execute_result"
    }
   ],
   "source": [
    "var = range(1, 11)\n",
    "list(var)"
   ]
  },
  {
   "cell_type": "code",
   "execution_count": 2,
   "metadata": {},
   "outputs": [
    {
     "data": {
      "text/plain": [
       "[0, 2, 4, 6, 8, 10]"
      ]
     },
     "execution_count": 2,
     "metadata": {},
     "output_type": "execute_result"
    }
   ],
   "source": [
    "# 0 ~ 10까지의 짝수\n",
    "list(range(0, 11, 2))"
   ]
  },
  {
   "cell_type": "code",
   "execution_count": 9,
   "metadata": {},
   "outputs": [
    {
     "data": {
      "text/plain": [
       "[10, 8, 6, 4, 2]"
      ]
     },
     "execution_count": 9,
     "metadata": {},
     "output_type": "execute_result"
    }
   ],
   "source": [
    "# 10 ~ 1까지의 짝수\n",
    "list(range(10, 0, -2))"
   ]
  },
  {
   "cell_type": "code",
   "execution_count": 10,
   "metadata": {},
   "outputs": [
    {
     "name": "stdout",
     "output_type": "stream",
     "text": [
      "0\n",
      "1\n",
      "2\n",
      "3\n",
      "4\n"
     ]
    }
   ],
   "source": [
    "for i in range(5):\n",
    "    print(i)"
   ]
  },
  {
   "cell_type": "code",
   "execution_count": 16,
   "metadata": {},
   "outputs": [],
   "source": [
    "import math"
   ]
  },
  {
   "cell_type": "code",
   "execution_count": 52,
   "metadata": {},
   "outputs": [
    {
     "name": "stdout",
     "output_type": "stream",
     "text": [
      " 1 : 1.00000000\n",
      " 2 : 1.41421356\n",
      " 3 : 1.73205081\n",
      " 4 : 2.00000000\n",
      " 5 : 2.23606798\n",
      " 6 : 2.44948974\n",
      " 7 : 2.64575131\n",
      " 8 : 2.82842712\n",
      " 9 : 3.00000000\n",
      "10 : 3.16227766\n",
      "\n",
      "\n",
      " 1 : 1.00000000\n",
      " 2 : 1.41421356\n",
      " 3 : 1.73205081\n",
      " 4 : 2.00000000\n",
      " 5 : 2.23606798\n",
      " 6 : 2.44948974\n",
      " 7 : 2.64575131\n",
      " 8 : 2.82842712\n",
      " 9 : 3.00000000\n",
      "10 : 3.16227766\n"
     ]
    }
   ],
   "source": [
    "# 1에서 10까지의 제곱근을 출력하기\n",
    "for i in range(1,11,1):\n",
    "    print(f\"{i:>2} : {math.sqrt(i):0.8f}\")\n",
    "print(\"\\n\")\n",
    "for i in range(10):\n",
    "    print(\"{:>2} : {:0.8f}\".format(i+1, math.sqrt(i+1)))"
   ]
  },
  {
   "cell_type": "code",
   "execution_count": 55,
   "metadata": {},
   "outputs": [
    {
     "name": "stdout",
     "output_type": "stream",
     "text": [
      "aaaa bbbb\n"
     ]
    }
   ],
   "source": [
    "print(\"aaaa\", end = \" \")\n",
    "print(\"bbbb\")"
   ]
  },
  {
   "cell_type": "code",
   "execution_count": 64,
   "metadata": {},
   "outputs": [
    {
     "name": "stdout",
     "output_type": "stream",
     "text": [
      "2단 : 2  4  6  8 10 12 14 16 18 \n",
      "3단 : 3  6  9 12 15 18 21 24 27 \n",
      "4단 : 4  8 12 16 20 24 28 32 36 \n",
      "5단 : 5 10 15 20 25 30 35 40 45 \n",
      "6단 : 6 12 18 24 30 36 42 48 54 \n",
      "7단 : 7 14 21 28 35 42 49 56 63 \n",
      "8단 : 8 16 24 32 40 48 56 64 72 \n",
      "9단 : 9 18 27 36 45 54 63 72 81 \n"
     ]
    }
   ],
   "source": [
    "for i in range(2,10):\n",
    "    print(f\"{i}단 :\", end=\"\")\n",
    "    for j in range(1,10):\n",
    "        print(f\"{i*j:>2}\", end=\" \")\n",
    "    print()"
   ]
  },
  {
   "cell_type": "code",
   "execution_count": 65,
   "metadata": {},
   "outputs": [
    {
     "name": "stdout",
     "output_type": "stream",
     "text": [
      "one\n",
      "two\n",
      "three\n"
     ]
    }
   ],
   "source": [
    "# for문에 List 사용하기\n",
    "lists = ['one', 'two', 'three']\n",
    "\n",
    "for list in lists:\n",
    "    print(list)"
   ]
  },
  {
   "cell_type": "code",
   "execution_count": 67,
   "metadata": {},
   "outputs": [
    {
     "name": "stdout",
     "output_type": "stream",
     "text": [
      "1 : 2\n",
      "3 : 4\n",
      "5 : 6\n"
     ]
    }
   ],
   "source": [
    "# for문에 Tuple 사용하기\n",
    "vars = [(1,2), (3,4), (5,6)]\n",
    "\n",
    "for first, last in vars:\n",
    "    print(first, \":\", last)"
   ]
  },
  {
   "cell_type": "code",
   "execution_count": 69,
   "metadata": {},
   "outputs": [
    {
     "name": "stdout",
     "output_type": "stream",
     "text": [
      "1의 학생은 합격 입니다.\n",
      "2의 학생은 불합격 입니다.\n",
      "3의 학생은 합격 입니다.\n",
      "4의 학생은 불합격 입니다.\n",
      "5의 학생은 합격 입니다.\n"
     ]
    }
   ],
   "source": [
    "scores = [90, 25, 67, 45, 80]\n",
    "students = 1\n",
    "\n",
    "for score in scores:\n",
    "    print(f\"{students}의 학생은 {'합격' if score >= 60 else '불합격'} 입니다.\")\n",
    "    students += 1"
   ]
  },
  {
   "cell_type": "code",
   "execution_count": 1,
   "metadata": {},
   "outputs": [
    {
     "name": "stdout",
     "output_type": "stream",
     "text": [
      "1의 학생은 점수가 90이므로 합격 입니다.\n",
      "2의 학생은 점수가 25이므로 불합격 입니다.\n",
      "3의 학생은 점수가 67이므로 합격 입니다.\n",
      "4의 학생은 점수가 45이므로 불합격 입니다.\n",
      "5의 학생은 점수가 80이므로 합격 입니다.\n"
     ]
    }
   ],
   "source": [
    "scores = [90, 25, 67, 45, 80]\n",
    "students = 1\n",
    "\n",
    "for score in scores:\n",
    "    print(f\"{students}의 학생은 점수가 {score}이므로 {'합격' if score >= 60 else '불합격'} 입니다.\")\n",
    "    students += 1"
   ]
  },
  {
   "cell_type": "code",
   "execution_count": 5,
   "metadata": {},
   "outputs": [],
   "source": [
    "import numpy as np"
   ]
  },
  {
   "cell_type": "code",
   "execution_count": 12,
   "metadata": {},
   "outputs": [
    {
     "name": "stdout",
     "output_type": "stream",
     "text": [
      "학급의 평균 점수는 61.40 입니다.\n",
      "\n",
      "1의 학생은 점수가 90이므로 합격 입니다.\n",
      "2의 학생은 점수가 25이므로 불합격 입니다.\n",
      "3의 학생은 점수가 67이므로 합격 입니다.\n",
      "4의 학생은 점수가 45이므로 불합격 입니다.\n",
      "5의 학생은 점수가 80이므로 합격 입니다.\n"
     ]
    }
   ],
   "source": [
    "scores = [90, 25, 67, 45, 80]\n",
    "students = 1\n",
    "\n",
    "print(f\"학급의 평균 점수는 {np.mean(scores):.2f} 입니다.\\n\")\n",
    "for score in scores:\n",
    "    print(f\"{students}의 학생은 점수가 {score}이므로 {'합격' if score >= np.mean(scores) else '불합격'} 입니다.\")\n",
    "    students += 1"
   ]
  },
  {
   "cell_type": "code",
   "execution_count": 13,
   "metadata": {},
   "outputs": [
    {
     "name": "stdout",
     "output_type": "stream",
     "text": [
      "[5, 10, 15, 20]\n"
     ]
    }
   ],
   "source": [
    "# 리스트를 읽어서 리스트 값에 5를 곱한 새로운 리스트 만들기\n",
    "var01 = [1,2,3,4]\n",
    "var02 = []\n",
    "\n",
    "for i in var01:\n",
    "    var02.append(i * 5)\n",
    "\n",
    "print(var02)"
   ]
  },
  {
   "cell_type": "code",
   "execution_count": 15,
   "metadata": {},
   "outputs": [
    {
     "name": "stdout",
     "output_type": "stream",
     "text": [
      "[1, 3, 5]\n"
     ]
    }
   ],
   "source": [
    "scores = [90, 25, 67, 45, 80]\n",
    "studentsList = []\n",
    "students = 1\n",
    "\n",
    "for score in scores:\n",
    "    if score >= 60:\n",
    "        studentsList.append(students)\n",
    "        students += 1\n",
    "    else:\n",
    "        students += 1\n",
    "        \n",
    "print(studentsList)"
   ]
  },
  {
   "attachments": {},
   "cell_type": "markdown",
   "metadata": {},
   "source": [
    "---\n",
    "### 문장과 단어 추출"
   ]
  },
  {
   "cell_type": "code",
   "execution_count": 35,
   "metadata": {},
   "outputs": [],
   "source": [
    "string  = \"\"\"나는 홍길동 입니다.\n",
    "주소는 서울시 입니다.\n",
    "나이는 35세 입니다.\"\"\""
   ]
  },
  {
   "cell_type": "code",
   "execution_count": 36,
   "metadata": {},
   "outputs": [],
   "source": [
    "sents = []\n",
    "words = []"
   ]
  },
  {
   "cell_type": "code",
   "execution_count": 37,
   "metadata": {},
   "outputs": [],
   "source": [
    "# 문단 -> 문장\n",
    "for sen in string.split(sep=\"\\n\"):\n",
    "    sents.append(sen)\n",
    "    # 문장 -> 단어\n",
    "    for word in sen.split():\n",
    "        words.append(word)"
   ]
  },
  {
   "cell_type": "code",
   "execution_count": 38,
   "metadata": {},
   "outputs": [
    {
     "name": "stdout",
     "output_type": "stream",
     "text": [
      "문장 : ['나는 홍길동 입니다.', '주소는 서울시 입니다.', '나이는 35세 입니다.']\n",
      "문장 수 : 3\n",
      "단어 : ['나는', '홍길동', '입니다.', '주소는', '서울시', '입니다.', '나이는', '35세', '입니다.']\n",
      "단어 수 : 9\n"
     ]
    }
   ],
   "source": [
    "print(\"문장 :\", sents)\n",
    "print(\"문장 수 :\", len(sents))\n",
    "print(\"단어 :\", words)\n",
    "print(\"단어 수 :\", len(words))"
   ]
  },
  {
   "attachments": {},
   "cell_type": "markdown",
   "metadata": {},
   "source": [
    "---\n",
    "### Python의 Listed For문"
   ]
  },
  {
   "cell_type": "code",
   "execution_count": 39,
   "metadata": {},
   "outputs": [
    {
     "name": "stdout",
     "output_type": "stream",
     "text": [
      "[5, 10, 15, 20]\n"
     ]
    }
   ],
   "source": [
    "var01 = [1,2,3,4]\n",
    "var02 = [i * 5 for i in var01]\n",
    "print(var02)"
   ]
  },
  {
   "cell_type": "code",
   "execution_count": 40,
   "metadata": {},
   "outputs": [
    {
     "name": "stdout",
     "output_type": "stream",
     "text": [
      "[10, 20]\n"
     ]
    }
   ],
   "source": [
    "var01 = [1,2,3,4]\n",
    "var02 = [i * 5 for i in var01 if i % 2 == 0]\n",
    "print(var02)"
   ]
  },
  {
   "cell_type": "code",
   "execution_count": 48,
   "metadata": {},
   "outputs": [
    {
     "name": "stdout",
     "output_type": "stream",
     "text": [
      "[2, 4, 6, 8, 10, 12, 14, 16, 18, 3, 6, 9, 12, 15, 18, 21, 24, 27, 4, 8, 12, 16, 20, 24, 28, 32, 36, 5, 10, 15, 20, 25, 30, 35, 40, 45, 6, 12, 18, 24, 30, 36, 42, 48, 54, 7, 14, 21, 28, 35, 42, 49, 56, 63, 8, 16, 24, 32, 40, 48, 56, 64, 72, 9, 18, 27, 36, 45, 54, 63, 72, 81]\n"
     ]
    }
   ],
   "source": [
    "# 구구단 결과만 리스트로 만들기\n",
    "print([i * j for i in range(2,10) for j in range(1,10)])"
   ]
  },
  {
   "cell_type": "code",
   "execution_count": 54,
   "metadata": {},
   "outputs": [
    {
     "name": "stdout",
     "output_type": "stream",
     "text": [
      "합격한 학생들의 평균 점수는 79.00입니다.\n"
     ]
    }
   ],
   "source": [
    "# 60점 이상의 학생 점수만 List로 만들어 평균 구하기\n",
    "scores = [90, 25, 67,45, 80]\n",
    "\n",
    "print(f\"합격한 학생들의 평균 점수는 {np.mean([score for score in scores if score >= 60]):.2f}입니다.\")"
   ]
  }
 ],
 "metadata": {
  "kernelspec": {
   "display_name": "tensorflow",
   "language": "python",
   "name": "python3"
  },
  "language_info": {
   "codemirror_mode": {
    "name": "ipython",
    "version": 3
   },
   "file_extension": ".py",
   "mimetype": "text/x-python",
   "name": "python",
   "nbconvert_exporter": "python",
   "pygments_lexer": "ipython3",
   "version": "3.9.13"
  },
  "orig_nbformat": 4,
  "vscode": {
   "interpreter": {
    "hash": "b5bceb7e8a84ff8847f58b8686ae86845aacdffaae9b7539e602163ce2574e80"
   }
  }
 },
 "nbformat": 4,
 "nbformat_minor": 2
}
