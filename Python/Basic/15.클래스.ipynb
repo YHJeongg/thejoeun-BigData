{
 "cells": [
  {
   "cell_type": "code",
   "execution_count": 5,
   "metadata": {},
   "outputs": [],
   "source": [
    "class Services:\n",
    "    secret = \"임금님 귀는 당나귀 귀다!\"\n",
    "\n",
    "    def setName(self, name):\n",
    "        self.name = name\n",
    "\n",
    "    def sum(self, num1, num2):\n",
    "        result = num1 + num2\n",
    "        print(\"%s님! %d + %d = %d 입니다.\"%(self.name, num1, num2, result))"
   ]
  },
  {
   "cell_type": "code",
   "execution_count": 6,
   "metadata": {},
   "outputs": [
    {
     "name": "stdout",
     "output_type": "stream",
     "text": [
      "임금님 귀는 당나귀 귀다!\n",
      "원스타님! 2 + 3 = 5 입니다.\n"
     ]
    }
   ],
   "source": [
    "instance01 = Services()\n",
    "print(instance01.secret)\n",
    "instance01.setName('원스타')\n",
    "instance01.sum(2,3)"
   ]
  },
  {
   "cell_type": "code",
   "execution_count": 7,
   "metadata": {},
   "outputs": [],
   "source": [
    "class Services:\n",
    "    secret = \"임금님 귀는 당나귀 귀다!\"\n",
    "\n",
    "    def __init__(self, name) -> None:\n",
    "        self.name = name\n",
    "\n",
    "    def sum(self, num1, num2):\n",
    "        result = num1 + num2\n",
    "        print(\"%s님! %d + %d = %d 입니다.\"%(self.name, num1, num2, result))"
   ]
  },
  {
   "cell_type": "code",
   "execution_count": 10,
   "metadata": {},
   "outputs": [
    {
     "name": "stdout",
     "output_type": "stream",
     "text": [
      "원스타님! 2 + 3 = 5 입니다.\n"
     ]
    }
   ],
   "source": [
    "instance02 = Services('원스타')\n",
    "instance02.secret\n",
    "instance02.sum(2,3)"
   ]
  },
  {
   "cell_type": "code",
   "execution_count": 11,
   "metadata": {},
   "outputs": [],
   "source": [
    "import numpy as np"
   ]
  },
  {
   "cell_type": "code",
   "execution_count": 24,
   "metadata": {},
   "outputs": [],
   "source": [
    "class Calc:\n",
    "\n",
    "    def setData(self, number1, number2):\n",
    "        self.number1 = number1\n",
    "        self.number2 = number2\n",
    "    \n",
    "    def sum(self):\n",
    "        return np.add(self.number1, self.number2)\n",
    "\n",
    "    def mul(self):\n",
    "        return np.multiply(self.number1, self.number2)\n",
    "\n",
    "    def sub(self):\n",
    "        return np.subtract(self.number1, self.number2)\n",
    "\n",
    "    def div(self):\n",
    "        return np.divide(self.number1, self.number2)"
   ]
  },
  {
   "cell_type": "code",
   "execution_count": 25,
   "metadata": {},
   "outputs": [
    {
     "name": "stdout",
     "output_type": "stream",
     "text": [
      "덧셈 :  6\n",
      "곱셈 :  8\n",
      "뺄셈 :  2\n",
      "나눗셈 :  2.0\n"
     ]
    }
   ],
   "source": [
    "calc01 = Calc()\n",
    "calc01.setData(4, 2)\n",
    "print('덧셈 : ', calc01.sum())\n",
    "print('곱셈 : ', calc01.mul())\n",
    "print('뺄셈 : ', calc01.sub())\n",
    "print('나눗셈 : ', calc01.div())"
   ]
  }
 ],
 "metadata": {
  "kernelspec": {
   "display_name": "tensorflow",
   "language": "python",
   "name": "python3"
  },
  "language_info": {
   "codemirror_mode": {
    "name": "ipython",
    "version": 3
   },
   "file_extension": ".py",
   "mimetype": "text/x-python",
   "name": "python",
   "nbconvert_exporter": "python",
   "pygments_lexer": "ipython3",
   "version": "3.9.13"
  },
  "orig_nbformat": 4,
  "vscode": {
   "interpreter": {
    "hash": "b5bceb7e8a84ff8847f58b8686ae86845aacdffaae9b7539e602163ce2574e80"
   }
  }
 },
 "nbformat": 4,
 "nbformat_minor": 2
}
