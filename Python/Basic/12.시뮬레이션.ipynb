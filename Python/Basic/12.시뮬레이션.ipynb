{
 "cells": [
  {
   "attachments": {},
   "cell_type": "markdown",
   "metadata": {},
   "source": [
    "### 시뮬레이션(몬테카를로 시뮬레이션)\n",
    ": 자료가 없을 경우 난수를 통해 가설 증명"
   ]
  },
  {
   "cell_type": "code",
   "execution_count": 1,
   "metadata": {},
   "outputs": [],
   "source": [
    "import random"
   ]
  },
  {
   "cell_type": "code",
   "execution_count": 5,
   "metadata": {},
   "outputs": [
    {
     "data": {
      "text/plain": [
       "2"
      ]
     },
     "execution_count": 5,
     "metadata": {},
     "output_type": "execute_result"
    }
   ],
   "source": [
    "random.randint(1, 10)"
   ]
  },
  {
   "cell_type": "code",
   "execution_count": 6,
   "metadata": {},
   "outputs": [],
   "source": [
    "def coinF(n):\n",
    "    coinFront = coinRear = 0\n",
    "    for i in range(1,n+1):\n",
    "        x = random.randint(1,2)\n",
    "        if x == 1:\n",
    "            coinFront += 1\n",
    "        else:\n",
    "            coinRear += 1\n",
    "    print(\"%7d번 시도시 동전의 앞면은 %6d번이고 동전의 뒷면은 %6d번 입니다.\"%(n, coinFront, coinRear))"
   ]
  },
  {
   "cell_type": "code",
   "execution_count": 7,
   "metadata": {},
   "outputs": [
    {
     "name": "stdout",
     "output_type": "stream",
     "text": [
      "     10번 시도시 동전의 앞면은      4번이고 동전의 뒷면은      6번 입니다.\n",
      "    100번 시도시 동전의 앞면은     46번이고 동전의 뒷면은     54번 입니다.\n",
      "   1000번 시도시 동전의 앞면은    508번이고 동전의 뒷면은    492번 입니다.\n",
      "  10000번 시도시 동전의 앞면은   4954번이고 동전의 뒷면은   5046번 입니다.\n",
      "  10000번 시도시 동전의 앞면은   5048번이고 동전의 뒷면은   4952번 입니다.\n",
      " 100000번 시도시 동전의 앞면은  50221번이고 동전의 뒷면은  49779번 입니다.\n"
     ]
    }
   ],
   "source": [
    "coinF(10)\n",
    "coinF(100)\n",
    "coinF(1000)\n",
    "coinF(10000)\n",
    "coinF(10000)\n",
    "coinF(100000)"
   ]
  },
  {
   "cell_type": "code",
   "execution_count": 9,
   "metadata": {},
   "outputs": [],
   "source": [
    "# 가위, 바위, 보 게임이 이길 확률이 같다는 것을 증명\n",
    "def rock(n):\n",
    "    rocks = papers = scissors = 0\n",
    "    for i in range(1,n+1):\n",
    "        x = random.randint(1,3)\n",
    "        if x == 1:\n",
    "            rocks += 1\n",
    "        elif x == 2:\n",
    "            papers += 1\n",
    "        else:\n",
    "            scissors += 1\n",
    "    print(\"%7d번 시도시 가위바위보의 바위는 %6d번이고 가위는 %6d번이고 보는 %6d 입니다.\"%(n, rocks, papers, scissors))"
   ]
  },
  {
   "cell_type": "code",
   "execution_count": 11,
   "metadata": {},
   "outputs": [
    {
     "name": "stdout",
     "output_type": "stream",
     "text": [
      "     10번 시도시 가위바위보의 바위는      5번이고 가위는      1번이고 보는      4 입니다.\n",
      "    100번 시도시 가위바위보의 바위는     31번이고 가위는     40번이고 보는     29 입니다.\n",
      "   1000번 시도시 가위바위보의 바위는    319번이고 가위는    329번이고 보는    352 입니다.\n",
      "  10000번 시도시 가위바위보의 바위는   3349번이고 가위는   3317번이고 보는   3334 입니다.\n",
      " 100000번 시도시 가위바위보의 바위는  33312번이고 가위는  33525번이고 보는  33163 입니다.\n",
      "1000000번 시도시 가위바위보의 바위는 333250번이고 가위는 333933번이고 보는 332817 입니다.\n"
     ]
    }
   ],
   "source": [
    "rock(10)\n",
    "rock(100)\n",
    "rock(1000)\n",
    "rock(10000)\n",
    "rock(100000)\n",
    "rock(1000000)"
   ]
  }
 ],
 "metadata": {
  "kernelspec": {
   "display_name": "tensorflow",
   "language": "python",
   "name": "python3"
  },
  "language_info": {
   "codemirror_mode": {
    "name": "ipython",
    "version": 3
   },
   "file_extension": ".py",
   "mimetype": "text/x-python",
   "name": "python",
   "nbconvert_exporter": "python",
   "pygments_lexer": "ipython3",
   "version": "3.9.13"
  },
  "orig_nbformat": 4,
  "vscode": {
   "interpreter": {
    "hash": "b5bceb7e8a84ff8847f58b8686ae86845aacdffaae9b7539e602163ce2574e80"
   }
  }
 },
 "nbformat": 4,
 "nbformat_minor": 2
}
